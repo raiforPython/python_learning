{
  "nbformat": 4,
  "nbformat_minor": 0,
  "metadata": {
    "colab": {
      "provenance": [],
      "authorship_tag": "ABX9TyP98Y8GRdkkQvOg6y0Leirg",
      "include_colab_link": true
    },
    "kernelspec": {
      "name": "python3",
      "display_name": "Python 3"
    },
    "language_info": {
      "name": "python"
    }
  },
  "cells": [
    {
      "cell_type": "markdown",
      "metadata": {
        "id": "view-in-github",
        "colab_type": "text"
      },
      "source": [
        "<a href=\"https://colab.research.google.com/github/raiforPython/python_learning/blob/chapter_6/6-1_%EF%BD%A2%E5%80%A4%EF%BD%A3%E3%81%AE%E6%AD%A3%E4%BD%93.ipynb\" target=\"_parent\"><img src=\"https://colab.research.google.com/assets/colab-badge.svg\" alt=\"Open In Colab\"/></a>"
      ]
    },
    {
      "cell_type": "code",
      "execution_count": null,
      "metadata": {
        "colab": {
          "base_uri": "https://localhost:8080/"
        },
        "id": "eD-mSIX1trwr",
        "outputId": "c344c7b6-0afa-47c4-86fe-123124a48ce3"
      },
      "outputs": [
        {
          "output_type": "stream",
          "name": "stdout",
          "text": [
            "名前と血液型をカンマで区切って1行で入力してください>>長井,a\n",
            "長井さんはA型なので大吉です\n"
          ]
        }
      ],
      "source": [
        "# 文字列のメソッドを活用した血液型占い\n",
        "userinfo = input(\"名前と血液型をカンマで区切って1行で入力してください>>\")\n",
        "[name,blood] = userinfo.split(\",\")\n",
        "blood = blood.upper().strip()\n",
        "print(f\"{name}さんは{blood}型なので大吉です\")"
      ]
    },
    {
      "cell_type": "code",
      "source": [
        "array = \"abc\"\n",
        "array = array.capitalize()\n",
        "print(array)"
      ],
      "metadata": {
        "colab": {
          "base_uri": "https://localhost:8080/"
        },
        "id": "UO6N9diuuhwi",
        "outputId": "faa3a646-4429-4b85-d03f-c48eb47306e8"
      },
      "execution_count": null,
      "outputs": [
        {
          "output_type": "stream",
          "name": "stdout",
          "text": [
            "Abc\n"
          ]
        }
      ]
    },
    {
      "cell_type": "code",
      "source": [
        "array = \"ABC\"\n",
        "array = array.lower()\n",
        "print(array)"
      ],
      "metadata": {
        "colab": {
          "base_uri": "https://localhost:8080/"
        },
        "id": "I53asaIcvRi5",
        "outputId": "f25bfc6e-10cd-449d-d775-3702ec334093"
      },
      "execution_count": null,
      "outputs": [
        {
          "output_type": "stream",
          "name": "stdout",
          "text": [
            "abc\n"
          ]
        }
      ]
    },
    {
      "cell_type": "code",
      "source": [
        "array = \"abc\"\n",
        "array = array.upper()\n",
        "print(array)"
      ],
      "metadata": {
        "colab": {
          "base_uri": "https://localhost:8080/"
        },
        "id": "ep0VqD_jvfG2",
        "outputId": "6ae2c5c9-046b-4691-cfa4-73f5d84dce7e"
      },
      "execution_count": null,
      "outputs": [
        {
          "output_type": "stream",
          "name": "stdout",
          "text": [
            "ABC\n"
          ]
        }
      ]
    },
    {
      "cell_type": "code",
      "source": [
        "array = \"i am Raiki Nagai\"\n",
        "array = array.title()\n",
        "print(array)"
      ],
      "metadata": {
        "colab": {
          "base_uri": "https://localhost:8080/"
        },
        "id": "DmG5KVPvvi2u",
        "outputId": "7d339116-0d9c-4114-a538-8163a674683f"
      },
      "execution_count": null,
      "outputs": [
        {
          "output_type": "stream",
          "name": "stdout",
          "text": [
            "I Am Raiki Nagai\n"
          ]
        }
      ]
    }
  ]
}