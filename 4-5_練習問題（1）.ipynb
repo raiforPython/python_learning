{
  "nbformat": 4,
  "nbformat_minor": 0,
  "metadata": {
    "colab": {
      "provenance": [],
      "authorship_tag": "ABX9TyMjLelSrlB0fBzK8W0fOtON",
      "include_colab_link": true
    },
    "kernelspec": {
      "name": "python3",
      "display_name": "Python 3"
    },
    "language_info": {
      "name": "python"
    }
  },
  "cells": [
    {
      "cell_type": "markdown",
      "metadata": {
        "id": "view-in-github",
        "colab_type": "text"
      },
      "source": [
        "<a href=\"https://colab.research.google.com/github/raiforPython/python_learning/blob/chapter_4/4-5_%E7%B7%B4%E7%BF%92%E5%95%8F%E9%A1%8C%EF%BC%881%EF%BC%89.ipynb\" target=\"_parent\"><img src=\"https://colab.research.google.com/assets/colab-badge.svg\" alt=\"Open In Colab\"/></a>"
      ]
    },
    {
      "cell_type": "code",
      "execution_count": 4,
      "metadata": {
        "colab": {
          "base_uri": "https://localhost:8080/"
        },
        "id": "r2UMbYO7M5Ni",
        "outputId": "5057c907-ec40-4d9d-9523-dc467791784f"
      },
      "outputs": [
        {
          "output_type": "stream",
          "name": "stdout",
          "text": [
            "カレーを召し上がれ\n",
            "1皿のカレーを食べました\n",
            "おかわりはいかがですか？（y/n）>>y\n",
            "2皿のカレーを食べました\n",
            "おかわりはいかがですか？（y/n）>>y\n",
            "3皿のカレーを食べました\n",
            "おかわりはいかがですか？（y/n）>>n\n",
            "4皿のカレーを食べました\n",
            "ごちそうさまでした\n"
          ]
        }
      ],
      "source": [
        "# 練習4-2\n",
        "count = 1\n",
        "okawari = \"y\"\n",
        "print(\"カレーを召し上がれ\")\n",
        "print(f\"{count}皿のカレーを食べました\")\n",
        "while okawari == \"y\":\n",
        "    okawari = input(\"おかわりはいかがですか？（y/n）>>\")\n",
        "    count += 1\n",
        "    print(f\"{count}皿のカレーを食べました\")\n",
        "print(\"ごちそうさまでした\")"
      ]
    },
    {
      "cell_type": "code",
      "source": [
        "# 練習4-2\n",
        "count = 1\n",
        "okawari = \"y\"\n",
        "print(\"カレーを召し上がれ\")\n",
        "print(f\"{count}皿のカレーを食べました\")\n",
        "while okawari == \"y\":\n",
        "    okawari = input(\"おかわりはいかがですか？（y/n）>>\")\n",
        "    if okawari == \"y\":\n",
        "        count += 1\n",
        "        print(f\"{count}皿のカレーを食べました\")\n",
        "    else:\n",
        "        break\n",
        "print(\"ごちそうさまでした\")"
      ],
      "metadata": {
        "colab": {
          "base_uri": "https://localhost:8080/"
        },
        "id": "pdx4lMw9SIad",
        "outputId": "da3ee77b-d768-4da7-e3c7-35152894f0dc"
      },
      "execution_count": 5,
      "outputs": [
        {
          "output_type": "stream",
          "name": "stdout",
          "text": [
            "カレーを召し上がれ\n",
            "1皿のカレーを食べました\n",
            "おかわりはいかがですか？（y/n）>>y\n",
            "2皿のカレーを食べました\n",
            "おかわりはいかがですか？（y/n）>>y\n",
            "3皿のカレーを食べました\n",
            "おかわりはいかがですか？（y/n）>>y\n",
            "4皿のカレーを食べました\n",
            "おかわりはいかがですか？（y/n）>>n\n",
            "ごちそうさまでした\n"
          ]
        }
      ]
    },
    {
      "cell_type": "code",
      "source": [
        "# 練習4-3\n",
        "count = int(input(\"数え始めたい数字を入力>>\"))\n",
        "message = str(input(\"カウントダウン後のメッセージを入力>>\"))\n",
        "numbers = list()\n",
        "for data in range(count):\n",
        "    list.append(count)\n",
        "    count -= 1\n",
        "print(numbers)"
      ],
      "metadata": {
        "colab": {
          "base_uri": "https://localhost:8080/",
          "height": 255
        },
        "id": "sOe-hhpfTOxs",
        "outputId": "9bd8aa56-9e99-4ed4-da5f-645908d651f1"
      },
      "execution_count": 6,
      "outputs": [
        {
          "name": "stdout",
          "output_type": "stream",
          "text": [
            "数え始めたい数字を入力>>10\n",
            "カウントダウン後のメッセージを入力>>take off!\n"
          ]
        },
        {
          "output_type": "error",
          "ename": "TypeError",
          "evalue": "descriptor 'append' for 'list' objects doesn't apply to a 'int' object",
          "traceback": [
            "\u001b[0;31m---------------------------------------------------------------------------\u001b[0m",
            "\u001b[0;31mTypeError\u001b[0m                                 Traceback (most recent call last)",
            "\u001b[0;32m/tmp/ipython-input-59849213.py\u001b[0m in \u001b[0;36m<cell line: 0>\u001b[0;34m()\u001b[0m\n\u001b[1;32m      4\u001b[0m \u001b[0mnumbers\u001b[0m \u001b[0;34m=\u001b[0m \u001b[0mlist\u001b[0m\u001b[0;34m(\u001b[0m\u001b[0;34m)\u001b[0m\u001b[0;34m\u001b[0m\u001b[0;34m\u001b[0m\u001b[0m\n\u001b[1;32m      5\u001b[0m \u001b[0;32mfor\u001b[0m \u001b[0mdata\u001b[0m \u001b[0;32min\u001b[0m \u001b[0mrange\u001b[0m\u001b[0;34m(\u001b[0m\u001b[0mcount\u001b[0m\u001b[0;34m)\u001b[0m\u001b[0;34m:\u001b[0m\u001b[0;34m\u001b[0m\u001b[0;34m\u001b[0m\u001b[0m\n\u001b[0;32m----> 6\u001b[0;31m     \u001b[0mlist\u001b[0m\u001b[0;34m.\u001b[0m\u001b[0mappend\u001b[0m\u001b[0;34m(\u001b[0m\u001b[0mcount\u001b[0m\u001b[0;34m)\u001b[0m\u001b[0;34m\u001b[0m\u001b[0;34m\u001b[0m\u001b[0m\n\u001b[0m\u001b[1;32m      7\u001b[0m     \u001b[0mcount\u001b[0m \u001b[0;34m-=\u001b[0m \u001b[0;36m1\u001b[0m\u001b[0;34m\u001b[0m\u001b[0;34m\u001b[0m\u001b[0m\n\u001b[1;32m      8\u001b[0m \u001b[0mprint\u001b[0m\u001b[0;34m(\u001b[0m\u001b[0mnumbers\u001b[0m\u001b[0;34m)\u001b[0m\u001b[0;34m\u001b[0m\u001b[0;34m\u001b[0m\u001b[0m\n",
            "\u001b[0;31mTypeError\u001b[0m: descriptor 'append' for 'list' objects doesn't apply to a 'int' object"
          ]
        }
      ]
    },
    {
      "cell_type": "code",
      "source": [
        "# 練習4-3\n",
        "first_count = int(input(\"数え始めたい数字を入力>>\"))\n",
        "count = int(first_count)\n",
        "message = str(input(\"カウントダウン後のメッセージを入力>>\"))\n",
        "numbers = list()\n",
        "for data in range(first_count):\n",
        "    list.append(count)\n",
        "    first_count -= 1\n",
        "    count -= 1\n",
        "print(numbers)"
      ],
      "metadata": {
        "colab": {
          "base_uri": "https://localhost:8080/",
          "height": 255
        },
        "id": "mWgbd8i6XYxG",
        "outputId": "79cd0e6b-4521-4ab7-b853-ea61fd051803"
      },
      "execution_count": 9,
      "outputs": [
        {
          "name": "stdout",
          "output_type": "stream",
          "text": [
            "数え始めたい数字を入力>>5\n",
            "カウントダウン後のメッセージを入力>>take off\n"
          ]
        },
        {
          "output_type": "error",
          "ename": "TypeError",
          "evalue": "descriptor 'append' for 'list' objects doesn't apply to a 'int' object",
          "traceback": [
            "\u001b[0;31m---------------------------------------------------------------------------\u001b[0m",
            "\u001b[0;31mTypeError\u001b[0m                                 Traceback (most recent call last)",
            "\u001b[0;32m/tmp/ipython-input-2812143329.py\u001b[0m in \u001b[0;36m<cell line: 0>\u001b[0;34m()\u001b[0m\n\u001b[1;32m      5\u001b[0m \u001b[0mnumbers\u001b[0m \u001b[0;34m=\u001b[0m \u001b[0mlist\u001b[0m\u001b[0;34m(\u001b[0m\u001b[0;34m)\u001b[0m\u001b[0;34m\u001b[0m\u001b[0;34m\u001b[0m\u001b[0m\n\u001b[1;32m      6\u001b[0m \u001b[0;32mfor\u001b[0m \u001b[0mdata\u001b[0m \u001b[0;32min\u001b[0m \u001b[0mrange\u001b[0m\u001b[0;34m(\u001b[0m\u001b[0mfirst_count\u001b[0m\u001b[0;34m)\u001b[0m\u001b[0;34m:\u001b[0m\u001b[0;34m\u001b[0m\u001b[0;34m\u001b[0m\u001b[0m\n\u001b[0;32m----> 7\u001b[0;31m     \u001b[0mlist\u001b[0m\u001b[0;34m.\u001b[0m\u001b[0mappend\u001b[0m\u001b[0;34m(\u001b[0m\u001b[0mcount\u001b[0m\u001b[0;34m)\u001b[0m\u001b[0;34m\u001b[0m\u001b[0;34m\u001b[0m\u001b[0m\n\u001b[0m\u001b[1;32m      8\u001b[0m     \u001b[0mfirst_count\u001b[0m \u001b[0;34m-=\u001b[0m \u001b[0;36m1\u001b[0m\u001b[0;34m\u001b[0m\u001b[0;34m\u001b[0m\u001b[0m\n\u001b[1;32m      9\u001b[0m     \u001b[0mcount\u001b[0m \u001b[0;34m-=\u001b[0m \u001b[0;36m1\u001b[0m\u001b[0;34m\u001b[0m\u001b[0;34m\u001b[0m\u001b[0m\n",
            "\u001b[0;31mTypeError\u001b[0m: descriptor 'append' for 'list' objects doesn't apply to a 'int' object"
          ]
        }
      ]
    },
    {
      "cell_type": "code",
      "source": [
        "# 練習4-3\n",
        "first_count = int(input(\"数え始めたい数字を入力>>\"))\n",
        "count = int(first_count)\n",
        "message = str(input(\"カウントダウン後のメッセージを入力>>\"))\n",
        "numbers = int.list()       # リストに整数入れられるか試した\n",
        "for data in range(first_count):\n",
        "    list.append(count)\n",
        "    first_count -= 1\n",
        "    count -= 1\n",
        "print(numbers)"
      ],
      "metadata": {
        "colab": {
          "base_uri": "https://localhost:8080/",
          "height": 255
        },
        "id": "NcgWj78MX0A2",
        "outputId": "b0eb0d78-971d-4ab4-907c-546a7fb49468"
      },
      "execution_count": 10,
      "outputs": [
        {
          "name": "stdout",
          "output_type": "stream",
          "text": [
            "数え始めたい数字を入力>>3\n",
            "カウントダウン後のメッセージを入力>>g\n"
          ]
        },
        {
          "output_type": "error",
          "ename": "AttributeError",
          "evalue": "type object 'int' has no attribute 'list'",
          "traceback": [
            "\u001b[0;31m---------------------------------------------------------------------------\u001b[0m",
            "\u001b[0;31mAttributeError\u001b[0m                            Traceback (most recent call last)",
            "\u001b[0;32m/tmp/ipython-input-1446093514.py\u001b[0m in \u001b[0;36m<cell line: 0>\u001b[0;34m()\u001b[0m\n\u001b[1;32m      3\u001b[0m \u001b[0mcount\u001b[0m \u001b[0;34m=\u001b[0m \u001b[0mint\u001b[0m\u001b[0;34m(\u001b[0m\u001b[0mfirst_count\u001b[0m\u001b[0;34m)\u001b[0m\u001b[0;34m\u001b[0m\u001b[0;34m\u001b[0m\u001b[0m\n\u001b[1;32m      4\u001b[0m \u001b[0mmessage\u001b[0m \u001b[0;34m=\u001b[0m \u001b[0mstr\u001b[0m\u001b[0;34m(\u001b[0m\u001b[0minput\u001b[0m\u001b[0;34m(\u001b[0m\u001b[0;34m\"カウントダウン後のメッセージを入力>>\"\u001b[0m\u001b[0;34m)\u001b[0m\u001b[0;34m)\u001b[0m\u001b[0;34m\u001b[0m\u001b[0;34m\u001b[0m\u001b[0m\n\u001b[0;32m----> 5\u001b[0;31m \u001b[0mnumbers\u001b[0m \u001b[0;34m=\u001b[0m \u001b[0mint\u001b[0m\u001b[0;34m.\u001b[0m\u001b[0mlist\u001b[0m\u001b[0;34m(\u001b[0m\u001b[0;34m)\u001b[0m\u001b[0;34m\u001b[0m\u001b[0;34m\u001b[0m\u001b[0m\n\u001b[0m\u001b[1;32m      6\u001b[0m \u001b[0;32mfor\u001b[0m \u001b[0mdata\u001b[0m \u001b[0;32min\u001b[0m \u001b[0mrange\u001b[0m\u001b[0;34m(\u001b[0m\u001b[0mfirst_count\u001b[0m\u001b[0;34m)\u001b[0m\u001b[0;34m:\u001b[0m\u001b[0;34m\u001b[0m\u001b[0;34m\u001b[0m\u001b[0m\n\u001b[1;32m      7\u001b[0m     \u001b[0mlist\u001b[0m\u001b[0;34m.\u001b[0m\u001b[0mappend\u001b[0m\u001b[0;34m(\u001b[0m\u001b[0mcount\u001b[0m\u001b[0;34m)\u001b[0m\u001b[0;34m\u001b[0m\u001b[0;34m\u001b[0m\u001b[0m\n",
            "\u001b[0;31mAttributeError\u001b[0m: type object 'int' has no attribute 'list'"
          ]
        }
      ]
    },
    {
      "cell_type": "code",
      "source": [
        "# 練習4-3\n",
        "count = int(input(\"数え始めたい数字を入力>>\"))\n",
        "message = str(input(\"カウントダウン後のメッセージを入力>>\"))\n",
        "for data in range(count):\n",
        "    if count > 0:\n",
        "        print(f\"{count},\")\n",
        "        count -= 1\n",
        "    else:\n",
        "        break\n",
        "print(message)"
      ],
      "metadata": {
        "colab": {
          "base_uri": "https://localhost:8080/"
        },
        "id": "dZQ44BEsaWBk",
        "outputId": "ba1cb89f-15cd-4ae8-bca0-949bd149935c"
      },
      "execution_count": 11,
      "outputs": [
        {
          "output_type": "stream",
          "name": "stdout",
          "text": [
            "数え始めたい数字を入力>>5\n",
            "カウントダウン後のメッセージを入力>>a\n",
            "5,\n",
            "4,\n",
            "3,\n",
            "2,\n",
            "1,\n",
            "a\n"
          ]
        }
      ]
    },
    {
      "cell_type": "code",
      "source": [
        "# 練習4-3\n",
        "count = int(input(\"数え始めたい数字を入力>>\"))\n",
        "message = str(input(\"カウントダウン後のメッセージを入力>>\"))\n",
        "for data in range(count):\n",
        "    if count > 0:\n",
        "        print(f\"{count},\",end = \"\")  # endより右、改行しない事を指示するオプション\n",
        "        count -= 1\n",
        "    else:\n",
        "        break\n",
        "print(message)"
      ],
      "metadata": {
        "colab": {
          "base_uri": "https://localhost:8080/"
        },
        "id": "m98Ir_JicIQf",
        "outputId": "82ab8566-2610-4ad1-b2f5-0f608dbfbc7b"
      },
      "execution_count": 12,
      "outputs": [
        {
          "output_type": "stream",
          "name": "stdout",
          "text": [
            "数え始めたい数字を入力>>10\n",
            "カウントダウン後のメッセージを入力>>Take Off !!\n",
            "10,9,8,7,6,5,4,3,2,1,Take Off !!\n"
          ]
        }
      ]
    },
    {
      "cell_type": "code",
      "source": [
        "# 練習4-3\n",
        "count = int(input(\"数え始めたい数字を入力>>\"))\n",
        "message = str(input(\"カウントダウン後のメッセージを入力>>\"))\n",
        "for data in range(count):\n",
        "    if count > 0:\n",
        "        print(f\"{count},\",end = \"\")  # endより右、改行しない事を指示するオプション\n",
        "        count -= 1 # break文なくてもここは大丈夫そう\n",
        "print(message)"
      ],
      "metadata": {
        "colab": {
          "base_uri": "https://localhost:8080/"
        },
        "id": "RmNeQEOodgmA",
        "outputId": "520d47e3-bd3d-4353-a959-53d3050cab2d"
      },
      "execution_count": 13,
      "outputs": [
        {
          "output_type": "stream",
          "name": "stdout",
          "text": [
            "数え始めたい数字を入力>>55\n",
            "カウントダウン後のメッセージを入力>>take off\n",
            "55,54,53,52,51,50,49,48,47,46,45,44,43,42,41,40,39,38,37,36,35,34,33,32,31,30,29,28,27,26,25,24,23,22,21,20,19,18,17,16,15,14,13,12,11,10,9,8,7,6,5,4,3,2,1,take off\n"
          ]
        }
      ]
    },
    {
      "cell_type": "code",
      "source": [],
      "metadata": {
        "id": "mHkps_65djbv"
      },
      "execution_count": null,
      "outputs": []
    }
  ]
}