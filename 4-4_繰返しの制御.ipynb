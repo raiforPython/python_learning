{
  "nbformat": 4,
  "nbformat_minor": 0,
  "metadata": {
    "colab": {
      "provenance": [],
      "authorship_tag": "ABX9TyMDkqlf0NJ2oxgxtpjUdFl4",
      "include_colab_link": true
    },
    "kernelspec": {
      "name": "python3",
      "display_name": "Python 3"
    },
    "language_info": {
      "name": "python"
    }
  },
  "cells": [
    {
      "cell_type": "markdown",
      "metadata": {
        "id": "view-in-github",
        "colab_type": "text"
      },
      "source": [
        "<a href=\"https://colab.research.google.com/github/raiforPython/python_learning/blob/chapter_4/4-4_%E7%B9%B0%E8%BF%94%E3%81%97%E3%81%AE%E5%88%B6%E5%BE%A1.ipynb\" target=\"_parent\"><img src=\"https://colab.research.google.com/assets/colab-badge.svg\" alt=\"Open In Colab\"/></a>"
      ]
    },
    {
      "cell_type": "code",
      "source": [
        "# データのまとまりからサンプルを抽出する\n",
        "ages = [20,30,40,25,26,74,58,48,69,30,29,35,21,22,15,32,23]\n",
        "num = 5\n",
        "sample = list()\n",
        "for age in ages:\n",
        "    if 20 <= age <30:\n",
        "        if len(sample) < num:\n",
        "            sample.append(age)\n",
        "print(sample)"
      ],
      "metadata": {
        "colab": {
          "base_uri": "https://localhost:8080/"
        },
        "id": "SYhDuQBbtSlc",
        "outputId": "36762750-36db-4c85-834a-b554427367e3"
      },
      "execution_count": 1,
      "outputs": [
        {
          "output_type": "stream",
          "name": "stdout",
          "text": [
            "[20, 25, 26, 29, 21]\n"
          ]
        }
      ]
    },
    {
      "cell_type": "code",
      "source": [
        "#　目標数に達したら繰返しを終了する\n",
        "ages = [20,30,40,25,26,74,58,48,69,30,29,35,21,22,15,32,23]\n",
        "num = 5\n",
        "sample = list()\n",
        "for age in ages:\n",
        "    if 20 <= age <30:\n",
        "        if len(sample) < num:\n",
        "            sample.append(age)\n",
        "            if len(sample) == num:\n",
        "                break\n",
        "print(sample)"
      ],
      "metadata": {
        "colab": {
          "base_uri": "https://localhost:8080/"
        },
        "id": "pQizNpEgVb83",
        "outputId": "40ffc746-2756-4d47-8899-79bfae4c8543"
      },
      "execution_count": 2,
      "outputs": [
        {
          "output_type": "stream",
          "name": "stdout",
          "text": [
            "[20, 25, 26, 29, 21]\n"
          ]
        }
      ]
    },
    {
      "cell_type": "code",
      "source": [
        "# 不要な回のループをスキップする\n",
        "ages = [28,50,\"ひみつ\",20,78,25,22,10,\"無回答\",33]\n",
        "samples = list()\n",
        "for data in ages:\n",
        "    if not isinstance(data,int): # 整数ではないデータはスキップ\n",
        "        continue\n",
        "    if data < 20 or data >=30:\n",
        "        continue\n",
        "    samples.append(data)\n",
        "print(samples)"
      ],
      "metadata": {
        "colab": {
          "base_uri": "https://localhost:8080/"
        },
        "id": "CXmFQ9f5VxsC",
        "outputId": "108dfda6-cf66-42ab-d090-762142aca9b8"
      },
      "execution_count": 3,
      "outputs": [
        {
          "output_type": "stream",
          "name": "stdout",
          "text": [
            "[28, 20, 25, 22]\n"
          ]
        }
      ]
    },
    {
      "cell_type": "code",
      "source": [],
      "metadata": {
        "id": "1of_JFIFXWcq"
      },
      "execution_count": null,
      "outputs": []
    }
  ]
}