{
  "nbformat": 4,
  "nbformat_minor": 0,
  "metadata": {
    "colab": {
      "provenance": [],
      "authorship_tag": "ABX9TyM5P9hdD5oDJ6fONkcgTa9f",
      "include_colab_link": true
    },
    "kernelspec": {
      "name": "python3",
      "display_name": "Python 3"
    },
    "language_info": {
      "name": "python"
    }
  },
  "cells": [
    {
      "cell_type": "markdown",
      "metadata": {
        "id": "view-in-github",
        "colab_type": "text"
      },
      "source": [
        "<a href=\"https://colab.research.google.com/github/raiforPython/python_learning/blob/chapter_6/6-2_%E3%82%AA%E3%83%96%E3%82%B8%E3%82%A7%E3%82%AF%E3%83%88%E3%81%AE%E8%A8%AD%E8%A8%88%E5%9B%B3.ipynb\" target=\"_parent\"><img src=\"https://colab.research.google.com/assets/colab-badge.svg\" alt=\"Open In Colab\"/></a>"
      ]
    },
    {
      "cell_type": "code",
      "execution_count": 1,
      "metadata": {
        "id": "jAaSP0GormtH"
      },
      "outputs": [],
      "source": [
        "# リテラルやクラス名関数を用いたオブジェクトの生成\n",
        "int_value1 = 0         #intオブジェクトを生成（中身のデータは0）\n",
        "int_value2 = int()     #intオブジェクトを生成（中身のデータは0）\n",
        "\n",
        "int_value3 = int(9)    #intオブジェクトを生成（中身のデータは9）\n",
        "\n",
        "list_value1 = []       #空のリストオブジェクトを生成\n",
        "list_value2 = list()   #空のリストオブジェクトを生成（「空のコンテナ」の方が正しい？）\n",
        "lsit_value3 = list((\"松田\",\"浅木\"))"
      ]
    },
    {
      "cell_type": "code",
      "source": [
        "# 勇者を表すクラスの定義と利用\n",
        "class Hero:          #データとしてnameとhp、関数としてsleepを持つオリジナル設計図Heroを定義\n",
        "    name = '松田'\n",
        "    hp = 100\n",
        "    def sleep(self,hours):\n",
        "        print(f\"{self.name}は{hours}時間寝た！\")\n",
        "        self.hp += hours\n",
        "\n",
        "# ゲーム開始\n",
        "print(\"スッキリファンタジー\")\n",
        "h = Hero()  #　HP100の勇者・松田がオブジェクトとして誕生\n",
        "h.sleep(3)\n",
        "print(f\"{h.name}のHPは現在{h.hp}です\")"
      ],
      "metadata": {
        "colab": {
          "base_uri": "https://localhost:8080/"
        },
        "id": "ZWDOruV5vbfL",
        "outputId": "2d216226-5880-48e0-c3d4-0ed4bd3fcce8"
      },
      "execution_count": 3,
      "outputs": [
        {
          "output_type": "stream",
          "name": "stdout",
          "text": [
            "スッキリファンタジー\n",
            "松田は3時間寝た！\n",
            "松田のHPは現在103です\n"
          ]
        }
      ]
    }
  ]
}