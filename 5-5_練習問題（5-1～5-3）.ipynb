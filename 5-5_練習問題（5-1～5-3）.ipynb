{
  "nbformat": 4,
  "nbformat_minor": 0,
  "metadata": {
    "colab": {
      "provenance": [],
      "authorship_tag": "ABX9TyOHwuL9pqFl7i5XudbD9ijo",
      "include_colab_link": true
    },
    "kernelspec": {
      "name": "python3",
      "display_name": "Python 3"
    },
    "language_info": {
      "name": "python"
    }
  },
  "cells": [
    {
      "cell_type": "markdown",
      "metadata": {
        "id": "view-in-github",
        "colab_type": "text"
      },
      "source": [
        "<a href=\"https://colab.research.google.com/github/raiforPython/python_learning/blob/chapter_5/5-5_%E7%B7%B4%E7%BF%92%E5%95%8F%E9%A1%8C%EF%BC%885-1%EF%BD%9E5-3%EF%BC%89.ipynb\" target=\"_parent\"><img src=\"https://colab.research.google.com/assets/colab-badge.svg\" alt=\"Open In Colab\"/></a>"
      ]
    },
    {
      "cell_type": "code",
      "source": [
        "# 5-1(1)\n",
        "def weather():\n",
        "    print(\"今日は晴れです\")\n",
        "\n",
        "weather()"
      ],
      "metadata": {
        "colab": {
          "base_uri": "https://localhost:8080/"
        },
        "id": "M3wPPZ_Fm_Eo",
        "outputId": "71b3d3bc-a868-46d2-dea2-4d36323400a8"
      },
      "execution_count": 4,
      "outputs": [
        {
          "output_type": "stream",
          "name": "stdout",
          "text": [
            "今日は晴れです\n"
          ]
        }
      ]
    },
    {
      "cell_type": "code",
      "source": [
        "# 5-1(2)\n",
        "def calc_circle_area(radius):\n",
        "    circle_area =radius*radius*3.14\n",
        "    return circle_area\n",
        "\n",
        "calc_circle_area(10)"
      ],
      "metadata": {
        "colab": {
          "base_uri": "https://localhost:8080/"
        },
        "id": "aV2U72NNnVPU",
        "outputId": "0a5a32c6-a57b-4c62-a4cb-1264ebc95dd6"
      },
      "execution_count": 6,
      "outputs": [
        {
          "output_type": "execute_result",
          "data": {
            "text/plain": [
              "314.0"
            ]
          },
          "metadata": {},
          "execution_count": 6
        }
      ]
    },
    {
      "cell_type": "code",
      "source": [
        "# 5-1(3)\n",
        "def nowstr():\n",
        "    time =\"18時25分30秒\"\n",
        "    return time\n",
        "nowstr()"
      ],
      "metadata": {
        "colab": {
          "base_uri": "https://localhost:8080/",
          "height": 35
        },
        "id": "XnjkSlzkoCvg",
        "outputId": "04d4b6ba-a0e6-47cf-849d-583fa700f53f"
      },
      "execution_count": 8,
      "outputs": [
        {
          "output_type": "execute_result",
          "data": {
            "text/plain": [
              "'18時25分30秒'"
            ],
            "application/vnd.google.colaboratory.intrinsic+json": {
              "type": "string"
            }
          },
          "metadata": {},
          "execution_count": 8
        }
      ]
    },
    {
      "cell_type": "code",
      "source": [
        "# 5-1(4)\n",
        "def nowint():\n",
        "    time=(18,25,30)  # タプルがよい？\n",
        "    return time\n",
        "nowint()"
      ],
      "metadata": {
        "colab": {
          "base_uri": "https://localhost:8080/"
        },
        "id": "moQcXWVXpm1I",
        "outputId": "622ad0b5-6e76-431a-ccd7-aa5f989f28d4"
      },
      "execution_count": 11,
      "outputs": [
        {
          "output_type": "execute_result",
          "data": {
            "text/plain": [
              "(18, 25, 30)"
            ]
          },
          "metadata": {},
          "execution_count": 11
        }
      ]
    },
    {
      "cell_type": "code",
      "source": [
        "# 5-1(5)\n",
        "def is_leapyaer(year):\n",
        "    leapyear = int(year)\n",
        "    return leapyear\n",
        "\n",
        "is_leapyaer(2024)"
      ],
      "metadata": {
        "colab": {
          "base_uri": "https://localhost:8080/"
        },
        "id": "vHHl0YeBqRsI",
        "outputId": "ac29f50a-2324-45cb-d43b-a0da159b7364"
      },
      "execution_count": 12,
      "outputs": [
        {
          "output_type": "execute_result",
          "data": {
            "text/plain": [
              "2024"
            ]
          },
          "metadata": {},
          "execution_count": 12
        }
      ]
    },
    {
      "cell_type": "code",
      "source": [
        "# 5-2\n",
        "def is_leapyaer(year):\n",
        "    leapyer = int(year)\n",
        "    if leapyer % 400 == 0:\n",
        "        print(f\"西暦{leapyer}は、うるう年です\")\n",
        "    elif leapyer % 4 == 0:\n",
        "        if leapyer % 100 == 0:\n",
        "            print(f\"西暦{leapyer}は、うるう年ではありません\")\n",
        "        else:\n",
        "            print(f\"西暦{leapyer}は、うるう年です\")\n",
        "    else:\n",
        "        print(f\"西暦{leapyer}は、うるう年ではありません\")\n",
        "    return leapyer  # 戻り値いらない\n",
        "\n",
        "year = int(input(\"西暦を半角数字4桁で入力してください>>\"))\n",
        "is_leapyaer(year)"
      ],
      "metadata": {
        "colab": {
          "base_uri": "https://localhost:8080/"
        },
        "id": "KwNrgsVBrH_o",
        "outputId": "db3b962e-b479-4958-ea1a-c2e5361194f7"
      },
      "execution_count": 13,
      "outputs": [
        {
          "output_type": "stream",
          "name": "stdout",
          "text": [
            "西暦を半角数字4桁で入力してください>>2025\n",
            "西暦2025は、うるう年ではありません\n"
          ]
        },
        {
          "output_type": "execute_result",
          "data": {
            "text/plain": [
              "2025"
            ]
          },
          "metadata": {},
          "execution_count": 13
        }
      ]
    },
    {
      "cell_type": "code",
      "source": [
        "# 5-2\n",
        "def is_leapyaer(year):\n",
        "    leapyer = int(year)\n",
        "    if leapyer % 400 == 0:\n",
        "        print(f\"西暦{leapyer}年は、うるう年です\")\n",
        "    elif leapyer % 4 == 0:\n",
        "        if leapyer % 100 == 0:\n",
        "            print(f\"西暦{leapyer}年は、うるう年ではありません\")\n",
        "        else:\n",
        "            print(f\"西暦{leapyer}年は、うるう年です\")\n",
        "    else:\n",
        "        print(f\"西暦{leapyer}年は、うるう年ではありません\")\n",
        "\n",
        "year = int(input(\"西暦を半角数字4桁で入力してください>>\"))\n",
        "is_leapyaer(year)"
      ],
      "metadata": {
        "colab": {
          "base_uri": "https://localhost:8080/"
        },
        "id": "qkklBft2xyBd",
        "outputId": "4a2100ad-3773-45bd-b5ac-bda5ddc666f6"
      },
      "execution_count": 16,
      "outputs": [
        {
          "output_type": "stream",
          "name": "stdout",
          "text": [
            "西暦を半角数字4桁で入力してください>>2000\n",
            "西暦2000年は、うるう年です\n"
          ]
        }
      ]
    },
    {
      "cell_type": "code",
      "source": [
        "# 5-3（オリジナル）\n",
        "def take_bus():\n",
        "    print(\"バスに乗ります\")\n",
        "def run():\n",
        "    print(\"走ります！\")\n",
        "def walk():\n",
        "    print(\"ちょっと歩きます\")\n",
        "\n",
        "\n",
        "print(\"行ってきます！\")\n",
        "walk(); take_bus(), run(), run()\n",
        "print(\"ただいま\")"
      ],
      "metadata": {
        "colab": {
          "base_uri": "https://localhost:8080/"
        },
        "id": "0IBCrAZax-Sz",
        "outputId": "babab905-d280-4e30-fca0-8d15b7fc655f"
      },
      "execution_count": 17,
      "outputs": [
        {
          "output_type": "stream",
          "name": "stdout",
          "text": [
            "行ってきます！\n",
            "ちょっと歩きます\n",
            "バスに乗ります\n",
            "走ります！\n",
            "走ります！\n",
            "ただいま\n"
          ]
        }
      ]
    },
    {
      "cell_type": "code",
      "source": [
        "# 5-3（走ったあとは歩くようにする）\n",
        "def take_bus():\n",
        "    print(\"バスに乗ります\")\n",
        "def walk():  # 先にwalk関数を定義してあげる\n",
        "    print(\"ちょっと歩きます\")\n",
        "def run():\n",
        "    print(\"走ります！\")\n",
        "    walk()  # run関数の中に事前に定義してあるwalk関数を入れる\n",
        "\n",
        "print(\"行ってきます！\")\n",
        "walk(); take_bus(), run(), run()\n",
        "print(\"ただいま\")"
      ],
      "metadata": {
        "colab": {
          "base_uri": "https://localhost:8080/"
        },
        "id": "Q154yzuV0HTV",
        "outputId": "96bf6693-63a3-4cad-b2c8-192b1f334b0e"
      },
      "execution_count": 18,
      "outputs": [
        {
          "output_type": "stream",
          "name": "stdout",
          "text": [
            "行ってきます！\n",
            "ちょっと歩きます\n",
            "バスに乗ります\n",
            "走ります！\n",
            "ちょっと歩きます\n",
            "走ります！\n",
            "ちょっと歩きます\n",
            "ただいま\n"
          ]
        }
      ]
    }
  ]
}