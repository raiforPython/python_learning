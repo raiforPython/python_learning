{
  "nbformat": 4,
  "nbformat_minor": 0,
  "metadata": {
    "colab": {
      "provenance": [],
      "authorship_tag": "ABX9TyOzOy/saHQP/PJklQQQBEzM",
      "include_colab_link": true
    },
    "kernelspec": {
      "name": "python3",
      "display_name": "Python 3"
    },
    "language_info": {
      "name": "python"
    }
  },
  "cells": [
    {
      "cell_type": "markdown",
      "metadata": {
        "id": "view-in-github",
        "colab_type": "text"
      },
      "source": [
        "<a href=\"https://colab.research.google.com/github/raiforPython/python_learning/blob/chapter_2/2-2_%E3%83%AA%E3%82%B9%E3%83%88.ipynb\" target=\"_parent\"><img src=\"https://colab.research.google.com/assets/colab-badge.svg\" alt=\"Open In Colab\"/></a>"
      ]
    },
    {
      "cell_type": "code",
      "execution_count": 2,
      "metadata": {
        "colab": {
          "base_uri": "https://localhost:8080/"
        },
        "id": "6cmN-4MkSisJ",
        "outputId": "556aa006-e64f-40f9-e94d-457a558d14b9"
      },
      "outputs": [
        {
          "output_type": "stream",
          "name": "stdout",
          "text": [
            "['工藤', '松田', '浅木']\n"
          ]
        }
      ],
      "source": [
        "# リストの定義\n",
        "#　変数＝[\"要素1\",\"要素2\",\"要素3\"]\n",
        "members = [\"工藤\",\"松田\",\"浅木\"]\n",
        "print(members)"
      ]
    },
    {
      "cell_type": "code",
      "source": [
        "# リスト[添え字]\n",
        "members = [\"工藤\",\"松田\",\"浅木\"]\n",
        "print(members[0])"
      ],
      "metadata": {
        "colab": {
          "base_uri": "https://localhost:8080/"
        },
        "id": "OcJqL7t0VsIo",
        "outputId": "12824042-c30b-4815-c50f-bcc00f0b4d55"
      },
      "execution_count": 3,
      "outputs": [
        {
          "output_type": "stream",
          "name": "stdout",
          "text": [
            "工藤\n"
          ]
        }
      ]
    },
    {
      "cell_type": "code",
      "source": [
        "# 試験a,b,cの点数\n",
        "scores = [88,90,95]\n",
        "total = scores[0] + scores[1] + scores[2]\n",
        "print(f\"合計{total}点\")"
      ],
      "metadata": {
        "colab": {
          "base_uri": "https://localhost:8080/"
        },
        "id": "Z-waF1rAWrWF",
        "outputId": "1c597d70-275c-46a1-e3c1-56c7fadf60d4"
      },
      "execution_count": 5,
      "outputs": [
        {
          "output_type": "stream",
          "name": "stdout",
          "text": [
            "合計273点\n"
          ]
        }
      ]
    },
    {
      "cell_type": "code",
      "source": [
        "# 試験a,b,cの点数\n",
        "scores = [88,90,95]\n",
        "total = sum(scores)\n",
        "print(f\"合計{total}点\")"
      ],
      "metadata": {
        "colab": {
          "base_uri": "https://localhost:8080/"
        },
        "id": "TE0A_nmAXNJE",
        "outputId": "f3704fc4-c844-48dd-9e7f-52f8a574238f"
      },
      "execution_count": 6,
      "outputs": [
        {
          "output_type": "stream",
          "name": "stdout",
          "text": [
            "合計273点\n"
          ]
        }
      ]
    },
    {
      "cell_type": "code",
      "source": [
        "# 試験a,b,cの合計点と平均点\n",
        "scores = [88,90,95]\n",
        "total = sum(scores)\n",
        "ave = total/len(scores)\n",
        "print(f\"合計{total}点\")\n",
        "print(f\"平均{ave}点\")"
      ],
      "metadata": {
        "colab": {
          "base_uri": "https://localhost:8080/"
        },
        "id": "CtpmqT5IXtkk",
        "outputId": "5046b904-276e-4867-e194-173556c7b7d5"
      },
      "execution_count": 7,
      "outputs": [
        {
          "output_type": "stream",
          "name": "stdout",
          "text": [
            "合計273点\n",
            "平均91.0点\n"
          ]
        }
      ]
    },
    {
      "cell_type": "code",
      "source": [
        "# 試験a,b,cの合計点と平均点\n",
        "scores = [88,90,95]\n",
        "total = sum(scores)\n",
        "ave = total/len(scores)\n",
        "print(f\"合計{total}点、平均{ave}点\")"
      ],
      "metadata": {
        "colab": {
          "base_uri": "https://localhost:8080/"
        },
        "id": "Pskc9vpQYPDP",
        "outputId": "366a57df-a5b0-4414-80ff-352b01c3eb65"
      },
      "execution_count": 10,
      "outputs": [
        {
          "output_type": "stream",
          "name": "stdout",
          "text": [
            "合計273点、平均91.0点\n"
          ]
        }
      ]
    },
    {
      "cell_type": "code",
      "source": [
        "# リストに要素を追加\n",
        "members = [\"工藤\",\"松田\",\"浅木\"]\n",
        "members.append[\"長井\"]  #.append使ってリストに追加する際は（）で指定！\n",
        "print(members)"
      ],
      "metadata": {
        "colab": {
          "base_uri": "https://localhost:8080/",
          "height": 201
        },
        "id": "Ue5ECNFqYdA8",
        "outputId": "7a768950-8fea-4e5c-fa6b-f086ea1d8e2b"
      },
      "execution_count": 13,
      "outputs": [
        {
          "output_type": "error",
          "ename": "TypeError",
          "evalue": "'builtin_function_or_method' object is not subscriptable",
          "traceback": [
            "\u001b[0;31m---------------------------------------------------------------------------\u001b[0m",
            "\u001b[0;31mTypeError\u001b[0m                                 Traceback (most recent call last)",
            "\u001b[0;32m/tmp/ipython-input-653002960.py\u001b[0m in \u001b[0;36m<cell line: 0>\u001b[0;34m()\u001b[0m\n\u001b[1;32m      1\u001b[0m \u001b[0;31m# リストに要素を追加\u001b[0m\u001b[0;34m\u001b[0m\u001b[0;34m\u001b[0m\u001b[0m\n\u001b[1;32m      2\u001b[0m \u001b[0mmembers\u001b[0m \u001b[0;34m=\u001b[0m \u001b[0;34m[\u001b[0m\u001b[0;34m\"工藤\"\u001b[0m\u001b[0;34m,\u001b[0m\u001b[0;34m\"松田\"\u001b[0m\u001b[0;34m,\u001b[0m\u001b[0;34m\"浅木\"\u001b[0m\u001b[0;34m]\u001b[0m\u001b[0;34m\u001b[0m\u001b[0;34m\u001b[0m\u001b[0m\n\u001b[0;32m----> 3\u001b[0;31m \u001b[0mmembers\u001b[0m\u001b[0;34m.\u001b[0m\u001b[0mappend\u001b[0m\u001b[0;34m[\u001b[0m\u001b[0;34m\"長井\"\u001b[0m\u001b[0;34m]\u001b[0m\u001b[0;34m\u001b[0m\u001b[0;34m\u001b[0m\u001b[0m\n\u001b[0m\u001b[1;32m      4\u001b[0m \u001b[0mprint\u001b[0m\u001b[0;34m(\u001b[0m\u001b[0mmembers\u001b[0m\u001b[0;34m)\u001b[0m\u001b[0;34m\u001b[0m\u001b[0;34m\u001b[0m\u001b[0m\n",
            "\u001b[0;31mTypeError\u001b[0m: 'builtin_function_or_method' object is not subscriptable"
          ]
        }
      ]
    },
    {
      "cell_type": "code",
      "source": [
        "# リストに要素を追加\n",
        "members = [\"工藤\",\"松田\",\"浅木\"]\n",
        "members.append(\"長井\")\n",
        "print(members)"
      ],
      "metadata": {
        "colab": {
          "base_uri": "https://localhost:8080/"
        },
        "id": "fkmcZg2Ea7ZV",
        "outputId": "c1e127e7-f145-4665-834b-0da50e9e6578"
      },
      "execution_count": 14,
      "outputs": [
        {
          "output_type": "stream",
          "name": "stdout",
          "text": [
            "['工藤', '松田', '浅木', '長井']\n"
          ]
        }
      ]
    },
    {
      "cell_type": "code",
      "source": [
        "# リストから要素を削除\n",
        "members = [\"工藤\",\"松田\",\"浅木\"]\n",
        "members.remove(\"松田\")\n",
        "print(members)"
      ],
      "metadata": {
        "colab": {
          "base_uri": "https://localhost:8080/"
        },
        "id": "tOfXXhJGbwY0",
        "outputId": "5bac28eb-86f2-4511-9b3a-4846ca7782b1"
      },
      "execution_count": 15,
      "outputs": [
        {
          "output_type": "stream",
          "name": "stdout",
          "text": [
            "['工藤', '浅木']\n"
          ]
        }
      ]
    },
    {
      "cell_type": "code",
      "source": [
        "# リストから要素を削除\n",
        "members = [\"工藤\",\"松田\",\"浅木\"]\n",
        "members.remove(members[1])\n",
        "print(members)"
      ],
      "metadata": {
        "colab": {
          "base_uri": "https://localhost:8080/"
        },
        "id": "-v-eMVKlcADb",
        "outputId": "092a0536-b651-487a-e3c2-2cf8ef232d39"
      },
      "execution_count": 16,
      "outputs": [
        {
          "output_type": "stream",
          "name": "stdout",
          "text": [
            "['工藤', '浅木']\n"
          ]
        }
      ]
    },
    {
      "cell_type": "code",
      "source": [
        "# リストの要素を変更\n",
        "members = [\"工藤\",\"松田\",\"浅木\"]\n",
        "members[1] = \"長井\"\n",
        "print(members)"
      ],
      "metadata": {
        "colab": {
          "base_uri": "https://localhost:8080/"
        },
        "id": "mpOfiEWXcIQK",
        "outputId": "7f292616-3f96-4cbf-eb26-3526bfd7dfdf"
      },
      "execution_count": 17,
      "outputs": [
        {
          "output_type": "stream",
          "name": "stdout",
          "text": [
            "['工藤', '長井', '浅木']\n"
          ]
        }
      ]
    },
    {
      "cell_type": "code",
      "source": [
        "# スライスによる範囲指定\n",
        "members = [\"工藤\",\"松田\",\"浅木\"]\n",
        "print(members[0:2])\n",
        "print(members[1:])\n"
      ],
      "metadata": {
        "colab": {
          "base_uri": "https://localhost:8080/"
        },
        "id": "HzIlHSYkc9VT",
        "outputId": "0068bddc-fc94-424f-e735-46c1563f1ea9"
      },
      "execution_count": 19,
      "outputs": [
        {
          "output_type": "stream",
          "name": "stdout",
          "text": [
            "['工藤', '松田']\n",
            "['松田', '浅木']\n"
          ]
        }
      ]
    },
    {
      "cell_type": "code",
      "source": [
        "# スライスによる範囲指定（負の数による指定）\n",
        "a = [10,20,30,40,50]\n",
        "print(a[-1])\n",
        "print(a[:-2])"
      ],
      "metadata": {
        "colab": {
          "base_uri": "https://localhost:8080/"
        },
        "id": "ID7ItWBDdrH6",
        "outputId": "7c557480-3cea-4bcc-e4c6-95e5f82a7127"
      },
      "execution_count": 20,
      "outputs": [
        {
          "output_type": "stream",
          "name": "stdout",
          "text": [
            "50\n",
            "[10, 20, 30]\n"
          ]
        }
      ]
    },
    {
      "cell_type": "code",
      "source": [],
      "metadata": {
        "id": "6Yj_qknwfObJ"
      },
      "execution_count": null,
      "outputs": []
    }
  ]
}