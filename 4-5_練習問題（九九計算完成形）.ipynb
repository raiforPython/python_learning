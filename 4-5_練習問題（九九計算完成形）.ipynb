{
  "nbformat": 4,
  "nbformat_minor": 0,
  "metadata": {
    "colab": {
      "provenance": [],
      "authorship_tag": "ABX9TyN+HcpVaGRgDqfrya/PRP2U",
      "include_colab_link": true
    },
    "kernelspec": {
      "name": "python3",
      "display_name": "Python 3"
    },
    "language_info": {
      "name": "python"
    }
  },
  "cells": [
    {
      "cell_type": "markdown",
      "metadata": {
        "id": "view-in-github",
        "colab_type": "text"
      },
      "source": [
        "<a href=\"https://colab.research.google.com/github/raiforPython/python_learning/blob/chapter_4/4-5_%E7%B7%B4%E7%BF%92%E5%95%8F%E9%A1%8C%EF%BC%88%E4%B9%9D%E4%B9%9D%E8%A8%88%E7%AE%97%E5%AE%8C%E6%88%90%E5%BD%A2%EF%BC%89.ipynb\" target=\"_parent\"><img src=\"https://colab.research.google.com/assets/colab-badge.svg\" alt=\"Open In Colab\"/></a>"
      ]
    },
    {
      "cell_type": "code",
      "source": [
        "# 練習問題4-4（3）\n",
        "# 奇数の段のみ計算するようcontinue文使用\n",
        "# かけ算の答えが50を越えたらその段の計算を中止し、次の段の計算に進む\n",
        "num = 1\n",
        "list = [1,2,3,4,5,6,7,8,9]\n",
        "while num < 10:\n",
        "  for data in list:\n",
        "    if not num % 2 == 1:\n",
        "      num += 1 # numが偶数だった場合にnumの値を+1して代入する処理\n",
        "      continue\n",
        "    data = int(data)\n",
        "    cal = num * data\n",
        "    print(f\"{cal},\", end = \"\")\n",
        "    if data == 9:\n",
        "      print(f\">>{num}の段の計算終了\")\n",
        "      num += 1 # かける側の数（data）が9に達した時にかけられる側の数（num）の値を+1して代入する処理\n",
        "    else:\n",
        "      pass\n",
        "print(\"九九の計算の終了\")"
      ],
      "metadata": {
        "colab": {
          "base_uri": "https://localhost:8080/"
        },
        "id": "5FIn7bpA-crP",
        "outputId": "db8490e0-3402-4eb5-b3ce-33cbfd8d5e5f"
      },
      "execution_count": 3,
      "outputs": [
        {
          "output_type": "stream",
          "name": "stdout",
          "text": [
            "1,2,3,4,5,6,7,8,9,>>1の段の計算終了\n",
            "6,9,12,15,18,21,24,27,>>3の段の計算終了\n",
            "10,15,20,25,30,35,40,45,>>5の段の計算終了\n",
            "14,21,28,35,42,49,56,63,>>7の段の計算終了\n",
            "18,27,36,45,54,63,72,81,>>9の段の計算終了\n",
            "九九の計算の終了\n"
          ]
        }
      ]
    },
    {
      "cell_type": "code",
      "source": [
        "# 練習問題4-4（2）\n",
        "# 奇数の段のみ計算するようcontinue文使用\n",
        "num = 1\n",
        "list = [1,2,3,4,5,6,7,8,9]\n",
        "while num < 10:\n",
        "  if not num % 2 == 1: # 先に偶数か奇数を判定\n",
        "    num += 1\n",
        "    continue\n",
        "  for data in list: # 4行目で問題なければ（奇数なら）dataにlistから値を代入\n",
        "    data = int(data)\n",
        "    cal = num * data\n",
        "    print(f\"{num}×{data}＝{cal}\", end = \"\\t\")\n",
        "    if data == 9:\n",
        "      print(f\">>{num}の段の計算終了\")\n",
        "      num += 1\n",
        "    else:\n",
        "      pass\n",
        "print(\"九九の計算の終了\")"
      ],
      "metadata": {
        "colab": {
          "base_uri": "https://localhost:8080/"
        },
        "outputId": "6bfd59d6-acbd-4973-9e03-6f5543ef67c7",
        "id": "XZVatw26FPcE"
      },
      "execution_count": 6,
      "outputs": [
        {
          "output_type": "stream",
          "name": "stdout",
          "text": [
            "1×1＝1\t1×2＝2\t1×3＝3\t1×4＝4\t1×5＝5\t1×6＝6\t1×7＝7\t1×8＝8\t1×9＝9\t>>1の段の計算終了\n",
            "3×1＝3\t3×2＝6\t3×3＝9\t3×4＝12\t3×5＝15\t3×6＝18\t3×7＝21\t3×8＝24\t3×9＝27\t>>3の段の計算終了\n",
            "5×1＝5\t5×2＝10\t5×3＝15\t5×4＝20\t5×5＝25\t5×6＝30\t5×7＝35\t5×8＝40\t5×9＝45\t>>5の段の計算終了\n",
            "7×1＝7\t7×2＝14\t7×3＝21\t7×4＝28\t7×5＝35\t7×6＝42\t7×7＝49\t7×8＝56\t7×9＝63\t>>7の段の計算終了\n",
            "9×1＝9\t9×2＝18\t9×3＝27\t9×4＝36\t9×5＝45\t9×6＝54\t9×7＝63\t9×8＝72\t9×9＝81\t>>9の段の計算終了\n",
            "九九の計算の終了\n"
          ]
        }
      ]
    },
    {
      "cell_type": "code",
      "source": [
        "# 練習問題4-4（3）\n",
        "# 奇数の段のみ計算するようcontinue文使用\n",
        "# 計算結果50越えたら次の段\n",
        "num = 1\n",
        "list = [1,2,3,4,5,6,7,8,9]\n",
        "while num < 10:\n",
        "  if not num % 2 == 1: # 先に偶数か奇数を判定\n",
        "    num += 1\n",
        "    continue\n",
        "  for data in list: # 4行目で問題なければ（奇数なら）dataにlistから値を代入\n",
        "    data = int(data)\n",
        "    cal = num * data\n",
        "    print(f\"{num}×{data}＝{cal}\", end = \"\\t\")\n",
        "    if cal > 50:\n",
        "      print(f\">>{num}の段の計算終了\")\n",
        "      num += 1\n",
        "      continue\n",
        "    else:\n",
        "      pass\n",
        "    if data == 9:\n",
        "      print(f\">>{num}の段の計算終了\")\n",
        "      num += 1\n",
        "    else:\n",
        "      pass\n",
        "print(\"九九の計算の終了\")"
      ],
      "metadata": {
        "colab": {
          "base_uri": "https://localhost:8080/"
        },
        "id": "VJOColp4IZg-",
        "outputId": "a73d7972-735c-4cd4-b7a4-53efbbc2713a"
      },
      "execution_count": 7,
      "outputs": [
        {
          "output_type": "stream",
          "name": "stdout",
          "text": [
            "1×1＝1\t1×2＝2\t1×3＝3\t1×4＝4\t1×5＝5\t1×6＝6\t1×7＝7\t1×8＝8\t1×9＝9\t>>1の段の計算終了\n",
            "3×1＝3\t3×2＝6\t3×3＝9\t3×4＝12\t3×5＝15\t3×6＝18\t3×7＝21\t3×8＝24\t3×9＝27\t>>3の段の計算終了\n",
            "5×1＝5\t5×2＝10\t5×3＝15\t5×4＝20\t5×5＝25\t5×6＝30\t5×7＝35\t5×8＝40\t5×9＝45\t>>5の段の計算終了\n",
            "7×1＝7\t7×2＝14\t7×3＝21\t7×4＝28\t7×5＝35\t7×6＝42\t7×7＝49\t7×8＝56\t>>7の段の計算終了\n",
            "8×9＝72\t>>8の段の計算終了\n",
            "9×1＝9\t9×2＝18\t9×3＝27\t9×4＝36\t9×5＝45\t9×6＝54\t>>9の段の計算終了\n",
            "10×7＝70\t>>10の段の計算終了\n",
            "11×8＝88\t>>11の段の計算終了\n",
            "12×9＝108\t>>12の段の計算終了\n",
            "九九の計算の終了\n"
          ]
        }
      ]
    },
    {
      "cell_type": "code",
      "source": [
        "# 練習問題4-4（3）\n",
        "# 奇数の段のみ計算するようcontinue文使用\n",
        "# 計算結果50越えたら次の段\n",
        "num = 1\n",
        "list = [1,2,3,4,5,6,7,8,9]\n",
        "while num < 10:\n",
        "  if not num % 2 == 1: # 先に偶数か奇数を判定\n",
        "    num += 1\n",
        "    continue\n",
        "  for data in list: # 4行目で問題なければ（奇数なら）dataにlistから値を代入\n",
        "    data = int(data)\n",
        "    cal = num * data\n",
        "    print(f\"{num}×{data}＝{cal}\", end = \"\\t\")\n",
        "    if cal > 50:\n",
        "      print(f\">>{num}の段の計算終了\")\n",
        "      num += 1\n",
        "      break # continueからbreakに変えてみた。。。\n",
        "    else:\n",
        "      pass\n",
        "    if data == 9:\n",
        "      print(f\">>{num}の段の計算終了\")\n",
        "      num += 1\n",
        "    else:\n",
        "      pass\n",
        "print(\"九九の計算の終了\")"
      ],
      "metadata": {
        "colab": {
          "base_uri": "https://localhost:8080/"
        },
        "id": "jpg4XmfwKCtE",
        "outputId": "76763c48-d658-446b-e4ac-fef8519aac97"
      },
      "execution_count": 8,
      "outputs": [
        {
          "output_type": "stream",
          "name": "stdout",
          "text": [
            "1×1＝1\t1×2＝2\t1×3＝3\t1×4＝4\t1×5＝5\t1×6＝6\t1×7＝7\t1×8＝8\t1×9＝9\t>>1の段の計算終了\n",
            "3×1＝3\t3×2＝6\t3×3＝9\t3×4＝12\t3×5＝15\t3×6＝18\t3×7＝21\t3×8＝24\t3×9＝27\t>>3の段の計算終了\n",
            "5×1＝5\t5×2＝10\t5×3＝15\t5×4＝20\t5×5＝25\t5×6＝30\t5×7＝35\t5×8＝40\t5×9＝45\t>>5の段の計算終了\n",
            "7×1＝7\t7×2＝14\t7×3＝21\t7×4＝28\t7×5＝35\t7×6＝42\t7×7＝49\t7×8＝56\t>>7の段の計算終了\n",
            "9×1＝9\t9×2＝18\t9×3＝27\t9×4＝36\t9×5＝45\t9×6＝54\t>>9の段の計算終了\n",
            "九九の計算の終了\n"
          ]
        }
      ]
    },
    {
      "cell_type": "code",
      "source": [],
      "metadata": {
        "id": "nhP2G0ALKbyQ"
      },
      "execution_count": null,
      "outputs": []
    }
  ]
}