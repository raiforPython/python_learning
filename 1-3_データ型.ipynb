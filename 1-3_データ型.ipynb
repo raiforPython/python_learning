{
  "nbformat": 4,
  "nbformat_minor": 0,
  "metadata": {
    "colab": {
      "provenance": [],
      "authorship_tag": "ABX9TyOd9vCeg30nJH5rGaiSk7H2",
      "include_colab_link": true
    },
    "kernelspec": {
      "name": "python3",
      "display_name": "Python 3"
    },
    "language_info": {
      "name": "python"
    }
  },
  "cells": [
    {
      "cell_type": "markdown",
      "metadata": {
        "id": "view-in-github",
        "colab_type": "text"
      },
      "source": [
        "<a href=\"https://colab.research.google.com/github/raiforPython/python_learning/blob/chapter_1/1-3_%E3%83%87%E3%83%BC%E3%82%BF%E5%9E%8B.ipynb\" target=\"_parent\"><img src=\"https://colab.research.google.com/assets/colab-badge.svg\" alt=\"Open In Colab\"/></a>"
      ]
    },
    {
      "cell_type": "code",
      "execution_count": 1,
      "metadata": {
        "colab": {
          "base_uri": "https://localhost:8080/"
        },
        "id": "nqonT-HsGiNq",
        "outputId": "366aa87d-fc6b-436f-e630-568b8460248c"
      },
      "outputs": [
        {
          "output_type": "stream",
          "name": "stdout",
          "text": [
            "長井\n",
            "23\n",
            "169.6\n"
          ]
        }
      ],
      "source": [
        "x=\"長井\"\n",
        "print(x)\n",
        "x=23\n",
        "print(x)\n",
        "x=169.6\n",
        "print(x)"
      ]
    },
    {
      "cell_type": "code",
      "source": [
        "x=10\n",
        "print(type(x))\n",
        "# type関数を使うことにより変数に格納されている値のデータ型を調べることが可能。トラブルシューティングでよく使う"
      ],
      "metadata": {
        "colab": {
          "base_uri": "https://localhost:8080/"
        },
        "id": "XB7qr_AJHy_Q",
        "outputId": "b81cecb8-bad9-4919-a6a0-fd6223c193ae"
      },
      "execution_count": 2,
      "outputs": [
        {
          "output_type": "stream",
          "name": "stdout",
          "text": [
            "<class 'int'>\n"
          ]
        }
      ]
    },
    {
      "cell_type": "code",
      "source": [
        "x = 3.14\n",
        "y = int(x)\n",
        "print(y)  # 変換結果を表示\n",
        "print(type(y)) #変換後のデータ型を表示\n",
        "z = str(x)\n",
        "print(z) # 変換結果を表示\n",
        "print(type(z)) # 変換後のデータ型を表示\n",
        "print(z * 2)"
      ],
      "metadata": {
        "colab": {
          "base_uri": "https://localhost:8080/"
        },
        "id": "pJBRKa7FIOyy",
        "outputId": "c14ba734-64c1-432b-b368-930ef831859d"
      },
      "execution_count": 3,
      "outputs": [
        {
          "output_type": "stream",
          "name": "stdout",
          "text": [
            "3\n",
            "<class 'int'>\n",
            "3.14\n",
            "<class 'str'>\n",
            "3.143.14\n"
          ]
        }
      ]
    },
    {
      "cell_type": "code",
      "source": [
        "# int型に変換したので小数点以下が切り捨てられる\n",
        "# 文字列なのでかけ算の6.28ではなく「3.143.14」が返ってくる"
      ],
      "metadata": {
        "id": "DCW3yBwnKqgb"
      },
      "execution_count": 4,
      "outputs": []
    },
    {
      "cell_type": "code",
      "source": [
        "price = int(input(\"料金を入力\\n\"))\n",
        "member = int(input(\"人数を入力してください\\n\"))\n",
        "payment = price/member\n",
        "print (payment)"
      ],
      "metadata": {
        "colab": {
          "base_uri": "https://localhost:8080/"
        },
        "id": "YacEt59pLSH4",
        "outputId": "a0a091b7-5229-4590-b125-c9a97a35c0bb"
      },
      "execution_count": 5,
      "outputs": [
        {
          "output_type": "stream",
          "name": "stdout",
          "text": [
            "料金を入力\n",
            "16000\n",
            "人数を入力してください\n",
            "4\n",
            "4000.0\n"
          ]
        }
      ]
    },
    {
      "cell_type": "code",
      "source": [
        "price = int(input(\"料金を入力\\n\"))\n",
        "member = int(input(\"人数を入力してください\\n\"))\n",
        "payment = price/member\n",
        "print (\"お支払いは\" + payment + \"円です\")"
      ],
      "metadata": {
        "colab": {
          "base_uri": "https://localhost:8080/",
          "height": 256
        },
        "id": "6ZLjgUzSMkP3",
        "outputId": "50fbc0f3-e534-410e-bb67-1c563e376bb1"
      },
      "execution_count": 6,
      "outputs": [
        {
          "name": "stdout",
          "output_type": "stream",
          "text": [
            "料金を入力\n",
            "16000\n",
            "人数を入力してください\n",
            "4\n"
          ]
        },
        {
          "output_type": "error",
          "ename": "TypeError",
          "evalue": "can only concatenate str (not \"float\") to str",
          "traceback": [
            "\u001b[0;31m---------------------------------------------------------------------------\u001b[0m",
            "\u001b[0;31mTypeError\u001b[0m                                 Traceback (most recent call last)",
            "\u001b[0;32m/tmp/ipython-input-77815275.py\u001b[0m in \u001b[0;36m<cell line: 0>\u001b[0;34m()\u001b[0m\n\u001b[1;32m      2\u001b[0m \u001b[0mmember\u001b[0m \u001b[0;34m=\u001b[0m \u001b[0mint\u001b[0m\u001b[0;34m(\u001b[0m\u001b[0minput\u001b[0m\u001b[0;34m(\u001b[0m\u001b[0;34m\"人数を入力してください\\n\"\u001b[0m\u001b[0;34m)\u001b[0m\u001b[0;34m)\u001b[0m\u001b[0;34m\u001b[0m\u001b[0;34m\u001b[0m\u001b[0m\n\u001b[1;32m      3\u001b[0m \u001b[0mpayment\u001b[0m \u001b[0;34m=\u001b[0m \u001b[0mprice\u001b[0m\u001b[0;34m/\u001b[0m\u001b[0mmember\u001b[0m\u001b[0;34m\u001b[0m\u001b[0;34m\u001b[0m\u001b[0m\n\u001b[0;32m----> 4\u001b[0;31m \u001b[0mprint\u001b[0m \u001b[0;34m(\u001b[0m\u001b[0;34m\"お支払いは\"\u001b[0m \u001b[0;34m+\u001b[0m \u001b[0mpayment\u001b[0m \u001b[0;34m+\u001b[0m \u001b[0;34m\"円です\"\u001b[0m\u001b[0;34m)\u001b[0m\u001b[0;34m\u001b[0m\u001b[0;34m\u001b[0m\u001b[0m\n\u001b[0m",
            "\u001b[0;31mTypeError\u001b[0m: can only concatenate str (not \"float\") to str"
          ]
        }
      ]
    },
    {
      "cell_type": "code",
      "source": [
        "price = int(input(\"料金を入力\\n\"))\n",
        "member = int(input(\"人数を入力してください\\n\"))\n",
        "payment = price/member\n",
        "print (\"お支払いは\" + str(payment) + \"円です\")\n",
        "# 演算は文字列同士か数値同士で\n",
        "# 3行目の時点ではpaymentは数値"
      ],
      "metadata": {
        "colab": {
          "base_uri": "https://localhost:8080/"
        },
        "id": "M3s7sKuJM3Sa",
        "outputId": "4460b7ee-0e06-4eea-81f0-ec3d20f22026"
      },
      "execution_count": 7,
      "outputs": [
        {
          "output_type": "stream",
          "name": "stdout",
          "text": [
            "料金を入力\n",
            "16000\n",
            "人数を入力してください\n",
            "4\n",
            "お支払いは4000.0円です\n"
          ]
        }
      ]
    },
    {
      "cell_type": "code",
      "source": [
        "name = \"長井来希\"\n",
        "age = 23\n",
        "height = 170\n",
        "print(\"私の名前は\"+name+\"で、年齢は\"+str(age)+\n",
        "      \"歳で、身長は\"+str(height)+\"cmです\")"
      ],
      "metadata": {
        "colab": {
          "base_uri": "https://localhost:8080/"
        },
        "id": "qIbL0LBHNH5x",
        "outputId": "7bcc663b-be3e-4a47-b702-f154fa8912e0"
      },
      "execution_count": 1,
      "outputs": [
        {
          "output_type": "stream",
          "name": "stdout",
          "text": [
            "私の名前は長井来希で、年齢は23歳で、身長は170cmです\n"
          ]
        }
      ]
    },
    {
      "cell_type": "code",
      "source": [
        "name = \"長井来希\"\n",
        "age = 23\n",
        "height = 170\n",
        "print(\"私の名前は{}で、年齢は{}歳で、身長は{}cmです。\".format(name,age,height))\n",
        "# 文字列の中に値を組み込む方法\n",
        "# {}は「プレースホルダー」という\n",
        "# formatの丸カッコの間に、埋め込みたい値をカンマ区切りで順番に埋め込む"
      ],
      "metadata": {
        "colab": {
          "base_uri": "https://localhost:8080/"
        },
        "id": "mrCLF_DLTc37",
        "outputId": "0ab7afdc-849e-407a-8fdb-ece6bb37ae15"
      },
      "execution_count": 2,
      "outputs": [
        {
          "output_type": "stream",
          "name": "stdout",
          "text": [
            "私の名前は長井来希で、年齢は23歳で、身長は170cmです。\n"
          ]
        }
      ]
    },
    {
      "cell_type": "code",
      "source": [
        "price = int(input(\"金額を入力してください>>\"))"
      ],
      "metadata": {
        "colab": {
          "base_uri": "https://localhost:8080/"
        },
        "id": "C8kRXwCFUd61",
        "outputId": "06b352d6-106a-4151-ab95-34b596d59921"
      },
      "execution_count": 3,
      "outputs": [
        {
          "name": "stdout",
          "output_type": "stream",
          "text": [
            "金額を入力してください>>16000\n"
          ]
        }
      ]
    },
    {
      "cell_type": "code",
      "source": [
        "price = int(input(\"金額を入力してください>>\"))\n",
        "member = int(input(\"人数を入力してください>>\"))"
      ],
      "metadata": {
        "colab": {
          "base_uri": "https://localhost:8080/"
        },
        "id": "x8pD9CuDV2JJ",
        "outputId": "692e72c3-d7db-4269-d387-f78d071aa2f3"
      },
      "execution_count": 4,
      "outputs": [
        {
          "name": "stdout",
          "output_type": "stream",
          "text": [
            "金額を入力してください>>16000\n",
            "人数を入力してください>>4\n"
          ]
        }
      ]
    },
    {
      "cell_type": "code",
      "source": [
        "price = int(input(\"金額を入力してください>>\"))\n",
        "member = int(input(\"人数を入力してください>>\"))\n",
        "payment = price/member\n"
      ],
      "metadata": {
        "colab": {
          "base_uri": "https://localhost:8080/"
        },
        "id": "lKsIeh_qWDka",
        "outputId": "6c0d4ab3-d819-4774-9c92-7b4c06ced2bf"
      },
      "execution_count": 5,
      "outputs": [
        {
          "name": "stdout",
          "output_type": "stream",
          "text": [
            "金額を入力してください>>16000\n",
            "人数を入力してください>>4\n"
          ]
        }
      ]
    },
    {
      "cell_type": "code",
      "source": [
        "price = int(input(\"金額を入力してください>>\"))\n",
        "member = int(input(\"人数を入力してください>>\"))\n",
        "payment = price/member\n",
        "print (\"１人当たりの金額は{}円です\"\n",
        ".format(payment))\n",
        "# 割り勘プログラムの完成版"
      ],
      "metadata": {
        "colab": {
          "base_uri": "https://localhost:8080/"
        },
        "id": "OAR7KUt2WSci",
        "outputId": "6695c58e-d421-47fe-a536-845a46249955"
      },
      "execution_count": 7,
      "outputs": [
        {
          "output_type": "stream",
          "name": "stdout",
          "text": [
            "金額を入力してください>>16000\n",
            "人数を入力してください>>4\n",
            "１人当たりの金額は4000.0円です\n"
          ]
        }
      ]
    },
    {
      "cell_type": "code",
      "source": [
        "# f-string\n",
        "# 数値が格納された変数名を{}の中に直接指定でき、直感的に理解しやすいコードで書くことができる\n",
        "name = \"長井来希\"\n",
        "age = 23\n",
        "height = 170\n",
        "print(f\"私の名前は{name}で、年齢は{age}歳で、身長は{height}cmです\")"
      ],
      "metadata": {
        "colab": {
          "base_uri": "https://localhost:8080/"
        },
        "id": "sdnpJY91W8cD",
        "outputId": "7088234a-337b-4def-c1f9-7ce970dc3879"
      },
      "execution_count": 8,
      "outputs": [
        {
          "output_type": "stream",
          "name": "stdout",
          "text": [
            "私の名前は長井来希で、年齢は23歳で、身長は170cmです\n"
          ]
        }
      ]
    },
    {
      "cell_type": "code",
      "source": [],
      "metadata": {
        "id": "CQS3GseIYPAf"
      },
      "execution_count": null,
      "outputs": []
    }
  ]
}