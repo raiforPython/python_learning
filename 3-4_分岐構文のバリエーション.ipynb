{
  "nbformat": 4,
  "nbformat_minor": 0,
  "metadata": {
    "colab": {
      "provenance": [],
      "authorship_tag": "ABX9TyNcaeF3NCxxySNk3ftLcHPX",
      "include_colab_link": true
    },
    "kernelspec": {
      "name": "python3",
      "display_name": "Python 3"
    },
    "language_info": {
      "name": "python"
    }
  },
  "cells": [
    {
      "cell_type": "markdown",
      "metadata": {
        "id": "view-in-github",
        "colab_type": "text"
      },
      "source": [
        "<a href=\"https://colab.research.google.com/github/raiforPython/python_learning/blob/chapter_3/3-4_%E5%88%86%E5%B2%90%E6%A7%8B%E6%96%87%E3%81%AE%E3%83%90%E3%83%AA%E3%82%A8%E3%83%BC%E3%82%B7%E3%83%A7%E3%83%B3.ipynb\" target=\"_parent\"><img src=\"https://colab.research.google.com/assets/colab-badge.svg\" alt=\"Open In Colab\"/></a>"
      ]
    },
    {
      "cell_type": "code",
      "source": [
        "# elseブロックのない分岐\n",
        "name = (input(\"あなたの名前を教えてください>\"))\n",
        "if name ==\"raiki\":\n",
        "    print(f\"{name}さんに会えて嬉しいです\")\n",
        "else:\n",
        "    pass\n",
        "food = input(\"あなたの好きな食べ物を教えてください\")\n",
        "if \"カレー\" in food:\n",
        "    print(\"素敵です。とにかくカレーは最高ですよね\")\n",
        "else:\n",
        "    print(f\"私も{food}が好きです\")"
      ],
      "metadata": {
        "colab": {
          "base_uri": "https://localhost:8080/"
        },
        "id": "Dkyqha3flyo8",
        "outputId": "b7ec4660-5518-4ac1-d65e-69cfbe3f4463"
      },
      "execution_count": 12,
      "outputs": [
        {
          "output_type": "stream",
          "name": "stdout",
          "text": [
            "あなたの名前を教えてください>raiki\n",
            "raikiさんに会えて嬉しいです\n",
            "あなたの好きな食べ物を教えてくださいシーフードカレー\n",
            "素敵です。とにかくカレーは最高ですよね\n"
          ]
        }
      ]
    },
    {
      "cell_type": "code",
      "source": [],
      "metadata": {
        "id": "8xeYWlLepBvk"
      },
      "execution_count": 11,
      "outputs": []
    }
  ]
}