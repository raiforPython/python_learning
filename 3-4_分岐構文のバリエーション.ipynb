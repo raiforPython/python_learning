{
  "nbformat": 4,
  "nbformat_minor": 0,
  "metadata": {
    "colab": {
      "provenance": [],
      "authorship_tag": "ABX9TyPbNq4dYFsLYwlLgLA93pE4",
      "include_colab_link": true
    },
    "kernelspec": {
      "name": "python3",
      "display_name": "Python 3"
    },
    "language_info": {
      "name": "python"
    }
  },
  "cells": [
    {
      "cell_type": "markdown",
      "metadata": {
        "id": "view-in-github",
        "colab_type": "text"
      },
      "source": [
        "<a href=\"https://colab.research.google.com/github/raiforPython/python_learning/blob/chapter_3/3-4_%E5%88%86%E5%B2%90%E6%A7%8B%E6%96%87%E3%81%AE%E3%83%90%E3%83%AA%E3%82%A8%E3%83%BC%E3%82%B7%E3%83%A7%E3%83%B3.ipynb\" target=\"_parent\"><img src=\"https://colab.research.google.com/assets/colab-badge.svg\" alt=\"Open In Colab\"/></a>"
      ]
    },
    {
      "cell_type": "code",
      "source": [
        "# elseブロックのない分岐\n",
        "name = (input(\"あなたの名前を教えてください>\"))\n",
        "if name ==\"raiki\":\n",
        "    print(f\"{name}さんに会えて嬉しいです\")\n",
        "else:\n",
        "    pass\n",
        "food = input(\"あなたの好きな食べ物を教えてください\")\n",
        "if \"カレー\" in food:\n",
        "    print(\"素敵です。とにかくカレーは最高ですよね\")\n",
        "else:\n",
        "    print(f\"私も{food}が好きです\")"
      ],
      "metadata": {
        "colab": {
          "base_uri": "https://localhost:8080/"
        },
        "id": "Dkyqha3flyo8",
        "outputId": "b7ec4660-5518-4ac1-d65e-69cfbe3f4463"
      },
      "execution_count": null,
      "outputs": [
        {
          "output_type": "stream",
          "name": "stdout",
          "text": [
            "あなたの名前を教えてください>raiki\n",
            "raikiさんに会えて嬉しいです\n",
            "あなたの好きな食べ物を教えてくださいシーフードカレー\n",
            "素敵です。とにかくカレーは最高ですよね\n"
          ]
        }
      ]
    },
    {
      "cell_type": "code",
      "source": [
        "# 多文岐するif文\n",
        "score = int(input(\"試験の点数を入力してください>\"))\n",
        "if score < 0 or score > 100:\n",
        "    print(\"異常な得点です\")\n",
        "    print(\"入力し直してください\")\n",
        "elif score >= 60:\n",
        "    print(\"合格！\")\n",
        "    print(\"よくがんばりましたね\")\n",
        "else:\n",
        "    print(\"残念ながら不合格です\")\n",
        "    print(\"追試を受けてください\")"
      ],
      "metadata": {
        "id": "8xeYWlLepBvk",
        "outputId": "15d68658-9734-4873-ff05-274b49b1a099",
        "colab": {
          "base_uri": "https://localhost:8080/"
        }
      },
      "execution_count": 7,
      "outputs": [
        {
          "output_type": "stream",
          "name": "stdout",
          "text": [
            "試験の点数を入力してください>80\n",
            "合格！\n",
            "よくがんばりましたね\n"
          ]
        }
      ]
    },
    {
      "cell_type": "code",
      "source": [
        "# 晩ご飯をレコメンドするチャットボット\n",
        "print(\"すべての質問に y または n で答えてください\")\n",
        "okane_aruka = input(\"お金に余裕はありますか\")\n",
        "if okane_aruka == \"y\":\n",
        "  onaka_suiteruka = input(\"お腹がすごく空いていますか？\")\n",
        "  nomitai_kibunka = input(\"ビールを飲みたいですか？\")\n",
        "  if onaka_suiteruka == \"y\" and nomitai_kibunka == \"y\":\n",
        "    print(\"焼き肉はいかがですか\")\n",
        "  elif onaka_suiteruka == \"y\":\n",
        "    print(\"カレーはいかがですか\")\n",
        "  elif nomitai_kibunka == \"y\":\n",
        "    print(\"焼き鳥はいかがですか\")\n",
        "  else:\n",
        "    print(\"パスタはいかがですか\")\n",
        "  yasyoku_iruka = input(\"夜食は必要ですか？\")\n",
        "  if yasyoku_iruka == \"y\":\n",
        "    print(\"コンビニのチキンはいかがですか？\")\n",
        "else:\n",
        "  print(\"家で食べましょう\")"
      ],
      "metadata": {
        "id": "5bOaoU9UuyLh",
        "outputId": "083313f2-6b28-417b-aa02-3d4908e33247",
        "colab": {
          "base_uri": "https://localhost:8080/"
        }
      },
      "execution_count": 12,
      "outputs": [
        {
          "output_type": "stream",
          "name": "stdout",
          "text": [
            "すべての質問に y または n で答えてください\n",
            "お金に余裕はありますかy\n",
            "お腹がすごく空いていますか？n\n",
            "ビールを飲みたいですか？y\n",
            "焼き鳥はいかがですか\n",
            "夜食は必要ですか？y\n",
            "コンビニのチキンはいかがですか？\n"
          ]
        }
      ]
    },
    {
      "cell_type": "code",
      "source": [],
      "metadata": {
        "id": "ArJlvRIqyi06"
      },
      "execution_count": null,
      "outputs": []
    }
  ]
}