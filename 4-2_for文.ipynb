{
  "nbformat": 4,
  "nbformat_minor": 0,
  "metadata": {
    "colab": {
      "provenance": [],
      "authorship_tag": "ABX9TyOO+REpPclU5vaNOV/JpuuX",
      "include_colab_link": true
    },
    "kernelspec": {
      "name": "python3",
      "display_name": "Python 3"
    },
    "language_info": {
      "name": "python"
    }
  },
  "cells": [
    {
      "cell_type": "markdown",
      "metadata": {
        "id": "view-in-github",
        "colab_type": "text"
      },
      "source": [
        "<a href=\"https://colab.research.google.com/github/raiforPython/python_learning/blob/chapter_4/4-2_for%E6%96%87.ipynb\" target=\"_parent\"><img src=\"https://colab.research.google.com/assets/colab-badge.svg\" alt=\"Open In Colab\"/></a>"
      ]
    },
    {
      "cell_type": "code",
      "source": [
        "# for文でリストの全要素を参照する\n",
        "scores = [80,50,60,70]\n",
        "for data in scores:\n",
        "  if data >= 60:\n",
        "      print(\"合格\")\n",
        "  else:\n",
        "      print(\"不合格\")"
      ],
      "metadata": {
        "id": "OhEjzdGyoJOK",
        "colab": {
          "base_uri": "https://localhost:8080/"
        },
        "outputId": "dc3ff3a1-65a2-4fb3-b6dd-8733e4855561"
      },
      "execution_count": 10,
      "outputs": [
        {
          "output_type": "stream",
          "name": "stdout",
          "text": [
            "合格\n",
            "不合格\n",
            "合格\n",
            "合格\n"
          ]
        }
      ]
    },
    {
      "cell_type": "code",
      "source": [
        "# for文で決まった回数を繰り返す\n",
        "for num in range(3):\n",
        "  print(\"Pythonは楽しい\")"
      ],
      "metadata": {
        "colab": {
          "base_uri": "https://localhost:8080/"
        },
        "id": "TDOt2uZQpnW0",
        "outputId": "ad2f6eb4-fc4b-4090-d3bc-c138a1a21850"
      },
      "execution_count": 11,
      "outputs": [
        {
          "output_type": "stream",
          "name": "stdout",
          "text": [
            "Pythonは楽しい\n",
            "Pythonは楽しい\n",
            "Pythonは楽しい\n"
          ]
        }
      ]
    },
    {
      "cell_type": "code",
      "source": [],
      "metadata": {
        "id": "SYhDuQBbtSlc"
      },
      "execution_count": null,
      "outputs": []
    }
  ]
}