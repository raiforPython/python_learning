{
  "nbformat": 4,
  "nbformat_minor": 0,
  "metadata": {
    "colab": {
      "provenance": [],
      "authorship_tag": "ABX9TyOjNzFSyxpg05ilUUKU6CU0",
      "include_colab_link": true
    },
    "kernelspec": {
      "name": "python3",
      "display_name": "Python 3"
    },
    "language_info": {
      "name": "python"
    }
  },
  "cells": [
    {
      "cell_type": "markdown",
      "metadata": {
        "id": "view-in-github",
        "colab_type": "text"
      },
      "source": [
        "<a href=\"https://colab.research.google.com/github/raiforPython/python_learning/blob/chapter_4/4-5_%E7%B7%B4%E7%BF%92%E5%95%8F%E9%A1%8C%EF%BC%88%E5%B9%B3%E5%9D%87%E6%B0%97%E6%B8%A9%E7%AE%97%E5%87%BA%EF%BC%89.ipynb\" target=\"_parent\"><img src=\"https://colab.research.google.com/assets/colab-badge.svg\" alt=\"Open In Colab\"/></a>"
      ]
    },
    {
      "cell_type": "code",
      "execution_count": 1,
      "metadata": {
        "colab": {
          "base_uri": "https://localhost:8080/",
          "height": 110
        },
        "id": "68Or5CV-8D-5",
        "outputId": "582ab261-e157-495e-fbfb-39ac5f071994"
      },
      "outputs": [
        {
          "output_type": "error",
          "ename": "SyntaxError",
          "evalue": "invalid syntax (ipython-input-1904286845.py, line 4)",
          "traceback": [
            "\u001b[0;36m  File \u001b[0;32m\"/tmp/ipython-input-1904286845.py\"\u001b[0;36m, line \u001b[0;32m4\u001b[0m\n\u001b[0;31m    while time =< 17:\u001b[0m\n\u001b[0m               ^\u001b[0m\n\u001b[0;31mSyntaxError\u001b[0m\u001b[0;31m:\u001b[0m invalid syntax\n"
          ]
        }
      ],
      "source": [
        "# 平均気温を求めるプログラム（1）\n",
        "temp = ()\n",
        "time = input(\"測定した時間を教えてください>>\")\n",
        "while time =< 17:                                           # 演算子の使い方にミス\n",
        "    temp.append(f\"{time}時の気温を入力してください>>\")\n",
        "    time += 1\n",
        "print(temp)"
      ]
    },
    {
      "cell_type": "code",
      "source": [
        "# 平均気温を求めるプログラム（1）\n",
        "temp = ()\n",
        "time = input(\"測定した時間を教えてください>>\")\n",
        "while time <= 17:                                        # 文字列の17として扱うなら””が必要。今回は数字として使うので変数timeをint型で指定\n",
        "    temp.append(f\"{time}時の気温を入力してください>>\")\n",
        "    time += 1\n",
        "print(temp)"
      ],
      "metadata": {
        "colab": {
          "base_uri": "https://localhost:8080/",
          "height": 237
        },
        "id": "vtIgwf6I-Qsx",
        "outputId": "901f37ef-6daf-4c5e-bcd0-6e2ec47c413a"
      },
      "execution_count": 2,
      "outputs": [
        {
          "name": "stdout",
          "output_type": "stream",
          "text": [
            "測定した時間を教えてください>>8\n"
          ]
        },
        {
          "output_type": "error",
          "ename": "TypeError",
          "evalue": "'<=' not supported between instances of 'str' and 'int'",
          "traceback": [
            "\u001b[0;31m---------------------------------------------------------------------------\u001b[0m",
            "\u001b[0;31mTypeError\u001b[0m                                 Traceback (most recent call last)",
            "\u001b[0;32m/tmp/ipython-input-3297060409.py\u001b[0m in \u001b[0;36m<cell line: 0>\u001b[0;34m()\u001b[0m\n\u001b[1;32m      2\u001b[0m \u001b[0mtemp\u001b[0m \u001b[0;34m=\u001b[0m \u001b[0;34m(\u001b[0m\u001b[0;34m)\u001b[0m\u001b[0;34m\u001b[0m\u001b[0;34m\u001b[0m\u001b[0m\n\u001b[1;32m      3\u001b[0m \u001b[0mtime\u001b[0m \u001b[0;34m=\u001b[0m \u001b[0minput\u001b[0m\u001b[0;34m(\u001b[0m\u001b[0;34m\"測定した時間を教えてください>>\"\u001b[0m\u001b[0;34m)\u001b[0m\u001b[0;34m\u001b[0m\u001b[0;34m\u001b[0m\u001b[0m\n\u001b[0;32m----> 4\u001b[0;31m \u001b[0;32mwhile\u001b[0m \u001b[0mtime\u001b[0m \u001b[0;34m<=\u001b[0m \u001b[0;36m17\u001b[0m\u001b[0;34m:\u001b[0m\u001b[0;34m\u001b[0m\u001b[0;34m\u001b[0m\u001b[0m\n\u001b[0m\u001b[1;32m      5\u001b[0m     \u001b[0mtemp\u001b[0m\u001b[0;34m.\u001b[0m\u001b[0mappend\u001b[0m\u001b[0;34m(\u001b[0m\u001b[0;34mf\"{time}時の気温を入力してください>>\"\u001b[0m\u001b[0;34m)\u001b[0m\u001b[0;34m\u001b[0m\u001b[0;34m\u001b[0m\u001b[0m\n\u001b[1;32m      6\u001b[0m     \u001b[0mtime\u001b[0m \u001b[0;34m+=\u001b[0m \u001b[0;36m1\u001b[0m\u001b[0;34m\u001b[0m\u001b[0;34m\u001b[0m\u001b[0m\n",
            "\u001b[0;31mTypeError\u001b[0m: '<=' not supported between instances of 'str' and 'int'"
          ]
        }
      ]
    },
    {
      "cell_type": "code",
      "source": [
        "# 平均気温を求めるプログラム（1）\n",
        "temp = ()                                                             # リストではなくタプルになってる\n",
        "time = int(input(\"測定した時間を教えてください>>\"))\n",
        "while time <= 17:\n",
        "    temp.append(f\"{time}時の気温を入力してください>>\")\n",
        "    time += 1\n",
        "print(temp)"
      ],
      "metadata": {
        "colab": {
          "base_uri": "https://localhost:8080/",
          "height": 237
        },
        "id": "tZmaBK4k-XDm",
        "outputId": "d0c4589a-fccc-4543-dd5b-61661851d93d"
      },
      "execution_count": 3,
      "outputs": [
        {
          "name": "stdout",
          "output_type": "stream",
          "text": [
            "測定した時間を教えてください>>8\n"
          ]
        },
        {
          "output_type": "error",
          "ename": "AttributeError",
          "evalue": "'tuple' object has no attribute 'append'",
          "traceback": [
            "\u001b[0;31m---------------------------------------------------------------------------\u001b[0m",
            "\u001b[0;31mAttributeError\u001b[0m                            Traceback (most recent call last)",
            "\u001b[0;32m/tmp/ipython-input-3016359985.py\u001b[0m in \u001b[0;36m<cell line: 0>\u001b[0;34m()\u001b[0m\n\u001b[1;32m      3\u001b[0m \u001b[0mtime\u001b[0m \u001b[0;34m=\u001b[0m \u001b[0mint\u001b[0m\u001b[0;34m(\u001b[0m\u001b[0minput\u001b[0m\u001b[0;34m(\u001b[0m\u001b[0;34m\"測定した時間を教えてください>>\"\u001b[0m\u001b[0;34m)\u001b[0m\u001b[0;34m)\u001b[0m\u001b[0;34m\u001b[0m\u001b[0;34m\u001b[0m\u001b[0m\n\u001b[1;32m      4\u001b[0m \u001b[0;32mwhile\u001b[0m \u001b[0mtime\u001b[0m \u001b[0;34m<=\u001b[0m \u001b[0;36m17\u001b[0m\u001b[0;34m:\u001b[0m\u001b[0;34m\u001b[0m\u001b[0;34m\u001b[0m\u001b[0m\n\u001b[0;32m----> 5\u001b[0;31m     \u001b[0mtemp\u001b[0m\u001b[0;34m.\u001b[0m\u001b[0mappend\u001b[0m\u001b[0;34m(\u001b[0m\u001b[0;34mf\"{time}時の気温を入力してください>>\"\u001b[0m\u001b[0;34m)\u001b[0m\u001b[0;34m\u001b[0m\u001b[0;34m\u001b[0m\u001b[0m\n\u001b[0m\u001b[1;32m      6\u001b[0m     \u001b[0mtime\u001b[0m \u001b[0;34m+=\u001b[0m \u001b[0;36m1\u001b[0m\u001b[0;34m\u001b[0m\u001b[0;34m\u001b[0m\u001b[0m\n\u001b[1;32m      7\u001b[0m \u001b[0mprint\u001b[0m\u001b[0;34m(\u001b[0m\u001b[0mtemp\u001b[0m\u001b[0;34m)\u001b[0m\u001b[0;34m\u001b[0m\u001b[0;34m\u001b[0m\u001b[0m\n",
            "\u001b[0;31mAttributeError\u001b[0m: 'tuple' object has no attribute 'append'"
          ]
        }
      ]
    },
    {
      "cell_type": "code",
      "source": [
        "# 平均気温を求めるプログラム（1）\n",
        "temp = []\n",
        "time = int(input(\"測定した時間を教えてください>>\"))\n",
        "while time <= 17:\n",
        "    temp.append(f\"{time}時の気温を入力してください>>\")                              # 入力された文字列をリストに入れている状態\n",
        "    time += 1\n",
        "print(temp)"
      ],
      "metadata": {
        "colab": {
          "base_uri": "https://localhost:8080/"
        },
        "id": "fYtGVutw-enN",
        "outputId": "4836cbda-5618-4295-bc58-d4e466fb84e5"
      },
      "execution_count": 4,
      "outputs": [
        {
          "output_type": "stream",
          "name": "stdout",
          "text": [
            "測定した時間を教えてください>>8\n",
            "['8時の気温を入力してください>>', '9時の気温を入力してください>>', '10時の気温を入力してください>>', '11時の気温を入力してください>>', '12時の気温を入力してください>>', '13時の気温を入力してください>>', '14時の気温を入力してください>>', '15時の気温を入力してください>>', '16時の気温を入力してください>>', '17時の気温を入力してください>>']\n"
          ]
        }
      ]
    },
    {
      "cell_type": "code",
      "source": [
        "# 平均気温を求めるプログラム（1）\n",
        "temp = []\n",
        "time = int(input(\"測定した時間を教えてください>>\"))\n",
        "while time <= 17:\n",
        "    temp.append(input(f\"{time}時の気温を入力してください>>\"))\n",
        "    time += 1\n",
        "print(temp)"
      ],
      "metadata": {
        "colab": {
          "base_uri": "https://localhost:8080/"
        },
        "id": "me5dcvSA-mjV",
        "outputId": "d72bee38-8224-40d5-c7ca-d85be98a5f48"
      },
      "execution_count": 5,
      "outputs": [
        {
          "output_type": "stream",
          "name": "stdout",
          "text": [
            "測定した時間を教えてください>>8\n",
            "8時の気温を入力してください>>7.8\n",
            "9時の気温を入力してください>>9.1\n",
            "10時の気温を入力してください>>10.2\n",
            "11時の気温を入力してください>>11.0\n",
            "12時の気温を入力してください>>12.5\n",
            "13時の気温を入力してください>>12.4\n",
            "14時の気温を入力してください>>14.3\n",
            "15時の気温を入力してください>>13.8\n",
            "16時の気温を入力してください>>12.9\n",
            "17時の気温を入力してください>>12.4\n",
            "['7.8', '9.1', '10.2', '11.0', '12.5', '12.4', '14.3', '13.8', '12.9', '12.4']\n"
          ]
        }
      ]
    },
    {
      "cell_type": "code",
      "source": [
        "# 平均気温を求めるプログラム（2）\n",
        "temp = []\n",
        "time = int(input(\"測定した時間を教えてください>>\"))\n",
        "while time <= 17:\n",
        "    temp.append(input(f\"{time}時の気温を入力してください>>\"))\n",
        "    time += 1\n",
        "for data in temp:\n",
        "    print(temp[data])"
      ],
      "metadata": {
        "colab": {
          "base_uri": "https://localhost:8080/",
          "height": 382
        },
        "id": "ivIdOUNE-yRe",
        "outputId": "85a51be8-78ba-43ca-f7c9-a4c9ea833693"
      },
      "execution_count": 6,
      "outputs": [
        {
          "name": "stdout",
          "output_type": "stream",
          "text": [
            "測定した時間を教えてください>>8\n",
            "8時の気温を入力してください>>7.8\n",
            "9時の気温を入力してください>>9.1\n",
            "10時の気温を入力してください>>10.2\n",
            "11時の気温を入力してください>>11.0\n",
            "12時の気温を入力してください>>12.5\n",
            "13時の気温を入力してください>>12.4\n",
            "14時の気温を入力してください>>14.3\n",
            "15時の気温を入力してください>>13.8\n",
            "16時の気温を入力してください>>12.9\n",
            "17時の気温を入力してください>>12.4\n"
          ]
        },
        {
          "output_type": "error",
          "ename": "TypeError",
          "evalue": "list indices must be integers or slices, not str",
          "traceback": [
            "\u001b[0;31m---------------------------------------------------------------------------\u001b[0m",
            "\u001b[0;31mTypeError\u001b[0m                                 Traceback (most recent call last)",
            "\u001b[0;32m/tmp/ipython-input-2333160989.py\u001b[0m in \u001b[0;36m<cell line: 0>\u001b[0;34m()\u001b[0m\n\u001b[1;32m      6\u001b[0m     \u001b[0mtime\u001b[0m \u001b[0;34m+=\u001b[0m \u001b[0;36m1\u001b[0m\u001b[0;34m\u001b[0m\u001b[0;34m\u001b[0m\u001b[0m\n\u001b[1;32m      7\u001b[0m \u001b[0;32mfor\u001b[0m \u001b[0mdata\u001b[0m \u001b[0;32min\u001b[0m \u001b[0mtemp\u001b[0m\u001b[0;34m:\u001b[0m\u001b[0;34m\u001b[0m\u001b[0;34m\u001b[0m\u001b[0m\n\u001b[0;32m----> 8\u001b[0;31m     \u001b[0mprint\u001b[0m\u001b[0;34m(\u001b[0m\u001b[0mtemp\u001b[0m\u001b[0;34m[\u001b[0m\u001b[0mdata\u001b[0m\u001b[0;34m]\u001b[0m\u001b[0;34m)\u001b[0m\u001b[0;34m\u001b[0m\u001b[0;34m\u001b[0m\u001b[0m\n\u001b[0m",
            "\u001b[0;31mTypeError\u001b[0m: list indices must be integers or slices, not str"
          ]
        }
      ]
    },
    {
      "cell_type": "code",
      "source": [
        "# 平均気温を求めるプログラム（2）\n",
        "temp = []\n",
        "time = int(input(\"測定した時間を教えてください>>\"))\n",
        "while time <= 17:\n",
        "    temp.append(input(f\"{time}時の気温を入力してください>>\"))\n",
        "    time += 1\n",
        "for data in range(temp.len):                                                  # 文法ミス\n",
        "    print(temp[data])"
      ],
      "metadata": {
        "colab": {
          "base_uri": "https://localhost:8080/",
          "height": 400
        },
        "id": "jqMyeduLAN5_",
        "outputId": "d422c9fa-668f-44be-b930-7dca4d42779c"
      },
      "execution_count": 7,
      "outputs": [
        {
          "name": "stdout",
          "output_type": "stream",
          "text": [
            "測定した時間を教えてください>>8\n",
            "8時の気温を入力してください>>10\n",
            "9時の気温を入力してください>>10\n",
            "10時の気温を入力してください>>10\n",
            "11時の気温を入力してください>>10\n",
            "12時の気温を入力してください>>10\n",
            "13時の気温を入力してください>>10\n",
            "14時の気温を入力してください>>10\n",
            "15時の気温を入力してください>>10\n",
            "16時の気温を入力してください>>10\n",
            "17時の気温を入力してください>>10\n"
          ]
        },
        {
          "output_type": "error",
          "ename": "AttributeError",
          "evalue": "'list' object has no attribute 'len'",
          "traceback": [
            "\u001b[0;31m---------------------------------------------------------------------------\u001b[0m",
            "\u001b[0;31mAttributeError\u001b[0m                            Traceback (most recent call last)",
            "\u001b[0;32m/tmp/ipython-input-128934903.py\u001b[0m in \u001b[0;36m<cell line: 0>\u001b[0;34m()\u001b[0m\n\u001b[1;32m      5\u001b[0m     \u001b[0mtemp\u001b[0m\u001b[0;34m.\u001b[0m\u001b[0mappend\u001b[0m\u001b[0;34m(\u001b[0m\u001b[0minput\u001b[0m\u001b[0;34m(\u001b[0m\u001b[0;34mf\"{time}時の気温を入力してください>>\"\u001b[0m\u001b[0;34m)\u001b[0m\u001b[0;34m)\u001b[0m\u001b[0;34m\u001b[0m\u001b[0;34m\u001b[0m\u001b[0m\n\u001b[1;32m      6\u001b[0m     \u001b[0mtime\u001b[0m \u001b[0;34m+=\u001b[0m \u001b[0;36m1\u001b[0m\u001b[0;34m\u001b[0m\u001b[0;34m\u001b[0m\u001b[0m\n\u001b[0;32m----> 7\u001b[0;31m \u001b[0;32mfor\u001b[0m \u001b[0mdata\u001b[0m \u001b[0;32min\u001b[0m \u001b[0mrange\u001b[0m\u001b[0;34m(\u001b[0m\u001b[0mtemp\u001b[0m\u001b[0;34m.\u001b[0m\u001b[0mlen\u001b[0m\u001b[0;34m)\u001b[0m\u001b[0;34m:\u001b[0m\u001b[0;34m\u001b[0m\u001b[0;34m\u001b[0m\u001b[0m\n\u001b[0m\u001b[1;32m      8\u001b[0m     \u001b[0mprint\u001b[0m\u001b[0;34m(\u001b[0m\u001b[0mtemp\u001b[0m\u001b[0;34m[\u001b[0m\u001b[0mdata\u001b[0m\u001b[0;34m]\u001b[0m\u001b[0;34m)\u001b[0m\u001b[0;34m\u001b[0m\u001b[0;34m\u001b[0m\u001b[0m\n",
            "\u001b[0;31mAttributeError\u001b[0m: 'list' object has no attribute 'len'"
          ]
        }
      ]
    },
    {
      "cell_type": "code",
      "source": [
        "# 平均気温を求めるプログラム（2）\n",
        "temp = []\n",
        "time = int(input(\"測定した時間を教えてください>>\"))\n",
        "while time <= 17:\n",
        "    temp.append(input(f\"{time}時の気温を入力してください>>\"))\n",
        "    time += 1\n",
        "for data in range(len(temp)):\n",
        "    print(temp[data])"
      ],
      "metadata": {
        "colab": {
          "base_uri": "https://localhost:8080/"
        },
        "id": "Nk_Xn3CaAy8A",
        "outputId": "0f179cd9-4e52-4fea-a2d0-bedd6e99502d"
      },
      "execution_count": 8,
      "outputs": [
        {
          "output_type": "stream",
          "name": "stdout",
          "text": [
            "測定した時間を教えてください>>8\n",
            "8時の気温を入力してください>>10\n",
            "9時の気温を入力してください>>10\n",
            "10時の気温を入力してください>>10\n",
            "11時の気温を入力してください>>10\n",
            "12時の気温を入力してください>>10\n",
            "13時の気温を入力してください>>10\n",
            "14時の気温を入力してください>>10\n",
            "15時の気温を入力してください>>10\n",
            "16時の気温を入力してください>>10\n",
            "17時の気温を入力してください>>10\n",
            "10\n",
            "10\n",
            "10\n",
            "10\n",
            "10\n",
            "10\n",
            "10\n",
            "10\n",
            "10\n",
            "10\n"
          ]
        }
      ]
    },
    {
      "cell_type": "code",
      "source": [
        "# 平均気温を求めるプログラム（3）\n",
        "# 13時のデータに不備アリのためN/A使って再登録\n",
        "temp = []\n",
        "time = int(input(\"測定した時間を教えてください>>\"))\n",
        "while time <= 17:\n",
        "    temp.append(input(f\"{time}時の気温を入力してください>>\"))\n",
        "    time += 1\n",
        "\n",
        "temp_new = []\n",
        "time_new = int(input(\"先ほどの測定結果には不備がありました。不備があった気温は「N/A」として、測定した時間を教えてください>>\"))\n",
        "while time_new <= 17:\n",
        "    temp_new.append(input(f\"{time_new}時の気温を入力してください>>\"))\n",
        "    time_new += 1\n",
        "\n",
        "print(temp)\n",
        "print(temp_new)"
      ],
      "metadata": {
        "colab": {
          "base_uri": "https://localhost:8080/"
        },
        "id": "tB2iO9lLBIIm",
        "outputId": "9b03806b-d040-486f-d90d-c9000c954109"
      },
      "execution_count": 12,
      "outputs": [
        {
          "output_type": "stream",
          "name": "stdout",
          "text": [
            "測定した時間を教えてください>>8\n",
            "8時の気温を入力してください>>7.8\n",
            "9時の気温を入力してください>>9.1\n",
            "10時の気温を入力してください>>10.2\n",
            "11時の気温を入力してください>>11.0\n",
            "12時の気温を入力してください>>12.5\n",
            "13時の気温を入力してください>>12.4\n",
            "14時の気温を入力してください>>14.3\n",
            "15時の気温を入力してください>>13.8\n",
            "16時の気温を入力してください>>12.9\n",
            "17時の気温を入力してください>>12.4\n",
            "測定した時間を教えてください>>8\n",
            "8時の気温を入力してください>>7.8\n",
            "9時の気温を入力してください>>9.1\n",
            "10時の気温を入力してください>>10.2\n",
            "11時の気温を入力してください>>11.0\n",
            "12時の気温を入力してください>>12.5\n",
            "13時の気温を入力してください>>N/A\n",
            "14時の気温を入力してください>>14.3\n",
            "15時の気温を入力してください>>13.8\n",
            "16時の気温を入力してください>>12.9\n",
            "17時の気温を入力してください>>12.4\n",
            "['7.8', '9.1', '10.2', '11.0', '12.5', '12.4', '14.3', '13.8', '12.9', '12.4']\n",
            "['7.8', '9.1', '10.2', '11.0', '12.5', 'N/A', '14.3', '13.8', '12.9', '12.4']\n"
          ]
        }
      ]
    },
    {
      "cell_type": "code",
      "source": [
        "# 平均気温を求めるプログラム（3）\n",
        "# 13時のデータに不備アリのためN/A使って再登録\n",
        "temp_new = []\n",
        "time_new = int(input(\"測定した時間を教えてください>>\"))\n",
        "while time_new <= 17:\n",
        "    temp_new.append(input(f\"先ほどの測定結果には不備がありました。不備があった気温は「N/A」とします。{time_new}時の気温を入力してください>>\"))\n",
        "    time_new += 1\n",
        "print(temp_new)\n",
        "\n",
        "# temp_newを使ってその日の平均気温を求める\n",
        "for num in range(len(temp_new)):\n",
        "    if isinstance(num,float):\n",
        "        data = [float(num)]\n",
        "    else:\n",
        "        continue\n",
        "print[data]\n",
        "ave = sum(data)/len(data)\n",
        "print(f\"この日の平均気温は{ave}℃です\")"
      ],
      "metadata": {
        "colab": {
          "base_uri": "https://localhost:8080/",
          "height": 436
        },
        "id": "p0qfP3fQHdOP",
        "outputId": "a17b103a-90fd-47ad-e6bd-b8d48f83c377"
      },
      "execution_count": 18,
      "outputs": [
        {
          "output_type": "stream",
          "name": "stdout",
          "text": [
            "測定した時間を教えてください>>8\n",
            "先ほどの測定結果には不備がありました。不備があった気温は「N/A」とします。8時の気温を入力してください>>7.8\n",
            "先ほどの測定結果には不備がありました。不備があった気温は「N/A」とします。9時の気温を入力してください>>9.1\n",
            "先ほどの測定結果には不備がありました。不備があった気温は「N/A」とします。10時の気温を入力してください>>10.2\n",
            "先ほどの測定結果には不備がありました。不備があった気温は「N/A」とします。11時の気温を入力してください>>11.0\n",
            "先ほどの測定結果には不備がありました。不備があった気温は「N/A」とします。12時の気温を入力してください>>12.5\n",
            "先ほどの測定結果には不備がありました。不備があった気温は「N/A」とします。13時の気温を入力してください>>N/A\n",
            "先ほどの測定結果には不備がありました。不備があった気温は「N/A」とします。14時の気温を入力してください>>14.3\n",
            "先ほどの測定結果には不備がありました。不備があった気温は「N/A」とします。15時の気温を入力してください>>13.8\n",
            "先ほどの測定結果には不備がありました。不備があった気温は「N/A」とします。16時の気温を入力してください>>12.9\n",
            "先ほどの測定結果には不備がありました。不備があった気温は「N/A」とします。17時の気温を入力してください>>12.4\n",
            "['7.8', '9.1', '10.2', '11.0', '12.5', 'N/A', '14.3', '13.8', '12.9', '12.4']\n"
          ]
        },
        {
          "output_type": "error",
          "ename": "TypeError",
          "evalue": "'builtin_function_or_method' object is not subscriptable",
          "traceback": [
            "\u001b[0;31m---------------------------------------------------------------------------\u001b[0m",
            "\u001b[0;31mTypeError\u001b[0m                                 Traceback (most recent call last)",
            "\u001b[0;32m/tmp/ipython-input-3299295196.py\u001b[0m in \u001b[0;36m<cell line: 0>\u001b[0;34m()\u001b[0m\n\u001b[1;32m     14\u001b[0m     \u001b[0;32melse\u001b[0m\u001b[0;34m:\u001b[0m\u001b[0;34m\u001b[0m\u001b[0;34m\u001b[0m\u001b[0m\n\u001b[1;32m     15\u001b[0m         \u001b[0;32mcontinue\u001b[0m\u001b[0;34m\u001b[0m\u001b[0;34m\u001b[0m\u001b[0m\n\u001b[0;32m---> 16\u001b[0;31m \u001b[0mprint\u001b[0m\u001b[0;34m[\u001b[0m\u001b[0mdata\u001b[0m\u001b[0;34m]\u001b[0m\u001b[0;34m\u001b[0m\u001b[0;34m\u001b[0m\u001b[0m\n\u001b[0m\u001b[1;32m     17\u001b[0m \u001b[0mave\u001b[0m \u001b[0;34m=\u001b[0m \u001b[0msum\u001b[0m\u001b[0;34m(\u001b[0m\u001b[0mdata\u001b[0m\u001b[0;34m)\u001b[0m\u001b[0;34m/\u001b[0m\u001b[0mlen\u001b[0m\u001b[0;34m(\u001b[0m\u001b[0mdata\u001b[0m\u001b[0;34m)\u001b[0m\u001b[0;34m\u001b[0m\u001b[0;34m\u001b[0m\u001b[0m\n\u001b[1;32m     18\u001b[0m \u001b[0mprint\u001b[0m\u001b[0;34m(\u001b[0m\u001b[0;34mf\"この日の平均気温は{ave}℃です\"\u001b[0m\u001b[0;34m)\u001b[0m\u001b[0;34m\u001b[0m\u001b[0;34m\u001b[0m\u001b[0m\n",
            "\u001b[0;31mTypeError\u001b[0m: 'builtin_function_or_method' object is not subscriptable"
          ]
        }
      ]
    },
    {
      "cell_type": "code",
      "source": [
        "# 平均気温を求めるプログラム（3）\n",
        "# 13時のデータに不備アリのためN/A使って再登録\n",
        "temp_new = []\n",
        "time_new = int(input(\"測定した時間を教えてください>>\"))\n",
        "while time_new <= 17:\n",
        "    temp_new.append(input(f\"先ほどの測定結果には不備がありました。不備があった気温は「N/A」とします。{time_new}時の気温を入力してください>>\"))\n",
        "    time_new += 1\n",
        "print(temp_new)\n",
        "\n",
        "# temp_newを使ってその日の平均気温を求める\n",
        "for num in range(len(temp_new)):\n",
        "    if not num ==\"N/A\":\n",
        "        data = [float(num)]\n",
        "    else:\n",
        "        continue\n",
        "print(data)\n",
        "ave = sum(data)/len(data)\n",
        "print(f\"この日の平均気温は{ave}℃です\")"
      ],
      "metadata": {
        "colab": {
          "base_uri": "https://localhost:8080/"
        },
        "id": "XtIXoAeFLcDy",
        "outputId": "bf933f0c-5724-43f4-f207-2b85c9af9985"
      },
      "execution_count": 19,
      "outputs": [
        {
          "output_type": "stream",
          "name": "stdout",
          "text": [
            "測定した時間を教えてください>>8\n",
            "先ほどの測定結果には不備がありました。不備があった気温は「N/A」とします。8時の気温を入力してください>>7.8\n",
            "先ほどの測定結果には不備がありました。不備があった気温は「N/A」とします。9時の気温を入力してください>>9.1\n",
            "先ほどの測定結果には不備がありました。不備があった気温は「N/A」とします。10時の気温を入力してください>>10.2\n",
            "先ほどの測定結果には不備がありました。不備があった気温は「N/A」とします。11時の気温を入力してください>>11.0\n",
            "先ほどの測定結果には不備がありました。不備があった気温は「N/A」とします。12時の気温を入力してください>>12.5\n",
            "先ほどの測定結果には不備がありました。不備があった気温は「N/A」とします。13時の気温を入力してください>>N/A\n",
            "先ほどの測定結果には不備がありました。不備があった気温は「N/A」とします。14時の気温を入力してください>>14.3\n",
            "先ほどの測定結果には不備がありました。不備があった気温は「N/A」とします。15時の気温を入力してください>>13.8\n",
            "先ほどの測定結果には不備がありました。不備があった気温は「N/A」とします。16時の気温を入力してください>>12.9\n",
            "先ほどの測定結果には不備がありました。不備があった気温は「N/A」とします。17時の気温を入力してください>>12.4\n",
            "['7.8', '9.1', '10.2', '11.0', '12.5', 'N/A', '14.3', '13.8', '12.9', '12.4']\n",
            "[9.0]\n",
            "この日の平均気温は9.0℃です\n"
          ]
        }
      ]
    },
    {
      "cell_type": "code",
      "source": [
        "# 平均気温を求めるプログラム（3）\n",
        "# 13時のデータに不備アリのためN/A使って再登録\n",
        "temp_new = []\n",
        "time_new = int(input(\"測定した時間を教えてください>>\"))\n",
        "while time_new <= 17:\n",
        "    temp_new.append(input(f\"先ほどの測定結果には不備がありました。不備があった気温は「N/A」とします。{time_new}時の気温を入力してください>>\"))\n",
        "    time_new += 1\n",
        "print(temp_new)\n",
        "\n",
        "# temp_newを使ってその日の平均気温を求める\n",
        "data =[]\n",
        "for num in range(len(temp_new)):\n",
        "    if not num ==\"N/A\":\n",
        "        data.append(temp_new[num])\n",
        "    else:\n",
        "        continue\n",
        "print(data)\n",
        "ave = sum(data)/len(data)\n",
        "print(f\"この日の平均気温は{ave}℃です\")"
      ],
      "metadata": {
        "colab": {
          "base_uri": "https://localhost:8080/",
          "height": 436
        },
        "id": "ilf-I5P_RaO6",
        "outputId": "c661db86-5ade-46d7-b7b6-65c116a32ea5"
      },
      "execution_count": 20,
      "outputs": [
        {
          "output_type": "stream",
          "name": "stdout",
          "text": [
            "測定した時間を教えてください>>8\n",
            "先ほどの測定結果には不備がありました。不備があった気温は「N/A」とします。8時の気温を入力してください>>7.8\n",
            "先ほどの測定結果には不備がありました。不備があった気温は「N/A」とします。9時の気温を入力してください>>9.1\n",
            "先ほどの測定結果には不備がありました。不備があった気温は「N/A」とします。10時の気温を入力してください>>10.2\n",
            "先ほどの測定結果には不備がありました。不備があった気温は「N/A」とします。11時の気温を入力してください>>11.0\n",
            "先ほどの測定結果には不備がありました。不備があった気温は「N/A」とします。12時の気温を入力してください>>12.5\n",
            "先ほどの測定結果には不備がありました。不備があった気温は「N/A」とします。13時の気温を入力してください>>N/A\n",
            "先ほどの測定結果には不備がありました。不備があった気温は「N/A」とします。14時の気温を入力してください>>14.3\n",
            "先ほどの測定結果には不備がありました。不備があった気温は「N/A」とします。15時の気温を入力してください>>13.8\n",
            "先ほどの測定結果には不備がありました。不備があった気温は「N/A」とします。16時の気温を入力してください>>12.9\n",
            "先ほどの測定結果には不備がありました。不備があった気温は「N/A」とします。17時の気温を入力してください>>12.4\n",
            "['7.8', '9.1', '10.2', '11.0', '12.5', 'N/A', '14.3', '13.8', '12.9', '12.4']\n",
            "['7.8', '9.1', '10.2', '11.0', '12.5', 'N/A', '14.3', '13.8', '12.9', '12.4']\n"
          ]
        },
        {
          "output_type": "error",
          "ename": "TypeError",
          "evalue": "unsupported operand type(s) for +: 'int' and 'str'",
          "traceback": [
            "\u001b[0;31m---------------------------------------------------------------------------\u001b[0m",
            "\u001b[0;31mTypeError\u001b[0m                                 Traceback (most recent call last)",
            "\u001b[0;32m/tmp/ipython-input-1265253328.py\u001b[0m in \u001b[0;36m<cell line: 0>\u001b[0;34m()\u001b[0m\n\u001b[1;32m     16\u001b[0m         \u001b[0;32mcontinue\u001b[0m\u001b[0;34m\u001b[0m\u001b[0;34m\u001b[0m\u001b[0m\n\u001b[1;32m     17\u001b[0m \u001b[0mprint\u001b[0m\u001b[0;34m(\u001b[0m\u001b[0mdata\u001b[0m\u001b[0;34m)\u001b[0m\u001b[0;34m\u001b[0m\u001b[0;34m\u001b[0m\u001b[0m\n\u001b[0;32m---> 18\u001b[0;31m \u001b[0mave\u001b[0m \u001b[0;34m=\u001b[0m \u001b[0msum\u001b[0m\u001b[0;34m(\u001b[0m\u001b[0mdata\u001b[0m\u001b[0;34m)\u001b[0m\u001b[0;34m/\u001b[0m\u001b[0mlen\u001b[0m\u001b[0;34m(\u001b[0m\u001b[0mdata\u001b[0m\u001b[0;34m)\u001b[0m\u001b[0;34m\u001b[0m\u001b[0;34m\u001b[0m\u001b[0m\n\u001b[0m\u001b[1;32m     19\u001b[0m \u001b[0mprint\u001b[0m\u001b[0;34m(\u001b[0m\u001b[0;34mf\"この日の平均気温は{ave}℃です\"\u001b[0m\u001b[0;34m)\u001b[0m\u001b[0;34m\u001b[0m\u001b[0;34m\u001b[0m\u001b[0m\n",
            "\u001b[0;31mTypeError\u001b[0m: unsupported operand type(s) for +: 'int' and 'str'"
          ]
        }
      ]
    },
    {
      "cell_type": "code",
      "source": [
        "# 平均気温を求めるプログラム（3）\n",
        "# 13時のデータに不備アリのためN/A使って再登録\n",
        "temp_new = []\n",
        "time_new = int(input(\"測定した時間を教えてください>>\"))\n",
        "while time_new <= 17:\n",
        "    temp_new.append(input(f\"先ほどの測定結果には不備がありました。不備があった気温は「N/A」とします。{time_new}時の気温を入力してください>>\"))\n",
        "    time_new += 1\n",
        "print(temp_new)\n",
        "\n",
        "# temp_newを使ってその日の平均気温を求める\n",
        "data =[]\n",
        "for num in range(len(temp_new)):\n",
        "    if not temp_new[num] ==\"N/A\":\n",
        "        data.append(float(temp_new[num]))\n",
        "    else:\n",
        "        continue\n",
        "print(data)\n",
        "ave = sum(data)/len(data)\n",
        "print(f\"この日の平均気温は{ave}℃です\")"
      ],
      "metadata": {
        "colab": {
          "base_uri": "https://localhost:8080/"
        },
        "id": "PmbN6okoSOwa",
        "outputId": "51433fe5-cdae-4be3-ec7e-c97d0d253d72"
      },
      "execution_count": 21,
      "outputs": [
        {
          "output_type": "stream",
          "name": "stdout",
          "text": [
            "測定した時間を教えてください>>8\n",
            "先ほどの測定結果には不備がありました。不備があった気温は「N/A」とします。8時の気温を入力してください>>7.8\n",
            "先ほどの測定結果には不備がありました。不備があった気温は「N/A」とします。9時の気温を入力してください>>9.1\n",
            "先ほどの測定結果には不備がありました。不備があった気温は「N/A」とします。10時の気温を入力してください>>10.2\n",
            "先ほどの測定結果には不備がありました。不備があった気温は「N/A」とします。11時の気温を入力してください>>11.0\n",
            "先ほどの測定結果には不備がありました。不備があった気温は「N/A」とします。12時の気温を入力してください>>12.5\n",
            "先ほどの測定結果には不備がありました。不備があった気温は「N/A」とします。13時の気温を入力してください>>N/A\n",
            "先ほどの測定結果には不備がありました。不備があった気温は「N/A」とします。14時の気温を入力してください>>14.3\n",
            "先ほどの測定結果には不備がありました。不備があった気温は「N/A」とします。15時の気温を入力してください>>13.8\n",
            "先ほどの測定結果には不備がありました。不備があった気温は「N/A」とします。16時の気温を入力してください>>12.9\n",
            "先ほどの測定結果には不備がありました。不備があった気温は「N/A」とします。17時の気温を入力してください>>12.4\n",
            "['7.8', '9.1', '10.2', '11.0', '12.5', 'N/A', '14.3', '13.8', '12.9', '12.4']\n",
            "[7.8, 9.1, 10.2, 11.0, 12.5, 14.3, 13.8, 12.9, 12.4]\n",
            "この日の平均気温は11.555555555555555℃です\n"
          ]
        }
      ]
    },
    {
      "cell_type": "code",
      "source": [],
      "metadata": {
        "id": "6D1kKttkUZw6"
      },
      "execution_count": null,
      "outputs": []
    }
  ]
}