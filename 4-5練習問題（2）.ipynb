{
  "nbformat": 4,
  "nbformat_minor": 0,
  "metadata": {
    "colab": {
      "provenance": [],
      "authorship_tag": "ABX9TyO0HjX2/bQsN6MPON52AYqc",
      "include_colab_link": true
    },
    "kernelspec": {
      "name": "python3",
      "display_name": "Python 3"
    },
    "language_info": {
      "name": "python"
    }
  },
  "cells": [
    {
      "cell_type": "markdown",
      "metadata": {
        "id": "view-in-github",
        "colab_type": "text"
      },
      "source": [
        "<a href=\"https://colab.research.google.com/github/raiforPython/python_learning/blob/chapter_4/4-5%E7%B7%B4%E7%BF%92%E5%95%8F%E9%A1%8C%EF%BC%882%EF%BC%89.ipynb\" target=\"_parent\"><img src=\"https://colab.research.google.com/assets/colab-badge.svg\" alt=\"Open In Colab\"/></a>"
      ]
    },
    {
      "cell_type": "code",
      "execution_count": 1,
      "metadata": {
        "colab": {
          "base_uri": "https://localhost:8080/"
        },
        "id": "ETn1o2d0x5e1",
        "outputId": "b8ac99b5-edc6-47aa-96a4-2d798a73a33c"
      },
      "outputs": [
        {
          "output_type": "stream",
          "name": "stdout",
          "text": [
            "1,2,3,4,5,6,7,8,9,　1の段の計算終了\n",
            "2,4,6,8,10,12,14,16,18,　2の段の計算終了\n",
            "3,6,9,12,15,18,21,24,27,　3の段の計算終了\n",
            "4,8,12,16,20,24,28,32,36,　4の段の計算終了\n",
            "5,10,15,20,25,30,35,40,45,　5の段の計算終了\n",
            "6,12,18,24,30,36,42,48,54,　6の段の計算終了\n",
            "7,14,21,28,35,42,49,56,63,　7の段の計算終了\n",
            "8,16,24,32,40,48,56,64,72,　8の段の計算終了\n",
            "9,18,27,36,45,54,63,72,81,　9の段の計算終了\n",
            "九九の計算の終了\n"
          ]
        }
      ],
      "source": [
        "# 練習問題4-4（1）\n",
        "num = 1\n",
        "list = [1,2,3,4,5,6,7,8,9]\n",
        "while num < 10: # 九九の計算で9まで計算、と分かってるので条件に10より小さい間、と指定\n",
        "  for data in list:\n",
        "    data = int(data)\n",
        "    cal = num * data\n",
        "    print(f\"{cal},\", end = \"\")\n",
        "    if data == 9:\n",
        "      print(f\"　{num}の段の計算終了\") # 段の計算終了で改行\n",
        "      num += 1\n",
        "    else:\n",
        "      pass\n",
        "print(\"九九の計算の終了\")"
      ]
    },
    {
      "cell_type": "code",
      "source": [
        "# 練習問題4-4（2）\n",
        "# 奇数の段のみ計算するようcontinue文使用\n",
        "num = 1\n",
        "list = [1,2,3,4,5,6,7,8,9]\n",
        "while num < 10: # 九九の計算で9まで計算、と分かってるので条件に10より小さい間、と指定\n",
        "  for data in list:\n",
        "    if num % 2 == 1:\n",
        "      data = int(data)\n",
        "      cal = num * data\n",
        "      print(f\"{cal},\", end = \"\")\n",
        "    else\n",
        "      continue\n",
        "    if data == 9:\n",
        "      print(f\">>{num}の段の計算終了\") # 段の計算終了で改行\n",
        "      num += 1\n",
        "    else:\n",
        "      pass\n",
        "print(\"九九の計算の終了\")"
      ],
      "metadata": {
        "colab": {
          "base_uri": "https://localhost:8080/",
          "height": 237
        },
        "id": "IBpxuaGky-VX",
        "outputId": "659a798a-c342-487b-8524-8dc99b8cbc62"
      },
      "execution_count": 2,
      "outputs": [
        {
          "output_type": "stream",
          "name": "stdout",
          "text": [
            "1,2,3,4,5,6,7,8,9,>>1の段の計算終了\n"
          ]
        },
        {
          "output_type": "error",
          "ename": "KeyboardInterrupt",
          "evalue": "",
          "traceback": [
            "\u001b[0;31m---------------------------------------------------------------------------\u001b[0m",
            "\u001b[0;31mKeyboardInterrupt\u001b[0m                         Traceback (most recent call last)",
            "\u001b[0;32m/tmp/ipython-input-4121166425.py\u001b[0m in \u001b[0;36m<cell line: 0>\u001b[0;34m()\u001b[0m\n\u001b[1;32m     10\u001b[0m       \u001b[0mprint\u001b[0m\u001b[0;34m(\u001b[0m\u001b[0;34mf\"{cal},\"\u001b[0m\u001b[0;34m,\u001b[0m \u001b[0mend\u001b[0m \u001b[0;34m=\u001b[0m \u001b[0;34m\"\"\u001b[0m\u001b[0;34m)\u001b[0m\u001b[0;34m\u001b[0m\u001b[0;34m\u001b[0m\u001b[0m\n\u001b[1;32m     11\u001b[0m     \u001b[0;32melse\u001b[0m\u001b[0;34m:\u001b[0m\u001b[0;34m\u001b[0m\u001b[0;34m\u001b[0m\u001b[0m\n\u001b[0;32m---> 12\u001b[0;31m       \u001b[0;32mcontinue\u001b[0m\u001b[0;34m\u001b[0m\u001b[0;34m\u001b[0m\u001b[0m\n\u001b[0m\u001b[1;32m     13\u001b[0m     \u001b[0;32mif\u001b[0m \u001b[0mdata\u001b[0m \u001b[0;34m==\u001b[0m \u001b[0;36m9\u001b[0m\u001b[0;34m:\u001b[0m\u001b[0;34m\u001b[0m\u001b[0;34m\u001b[0m\u001b[0m\n\u001b[1;32m     14\u001b[0m       \u001b[0mprint\u001b[0m\u001b[0;34m(\u001b[0m\u001b[0;34mf\">>{num}の段の計算終了\"\u001b[0m\u001b[0;34m)\u001b[0m \u001b[0;31m# 段の計算終了で改行\u001b[0m\u001b[0;34m\u001b[0m\u001b[0;34m\u001b[0m\u001b[0m\n",
            "\u001b[0;31mKeyboardInterrupt\u001b[0m: "
          ]
        }
      ]
    },
    {
      "cell_type": "code",
      "source": [
        "# 練習問題4-4（2）\n",
        "# 奇数の段のみ計算するようcontinue文使用\n",
        "num = 1\n",
        "list = [1,2,3,4,5,6,7,8,9]\n",
        "while num < 10: # 九九の計算で9まで計算、と分かってるので条件に10より小さい間、と指定\n",
        "  for data in list:\n",
        "    if not num % 2 == 1:\n",
        "      continue\n",
        "  data = int(data)\n",
        "  cal = num * data\n",
        "  print(f\"{cal},\", end = \"\")\n",
        "  if data == 9:\n",
        "    print(f\">>{num}の段の計算終了\") # 段の計算終了で改行\n",
        "    num += 1\n",
        "  else:\n",
        "    pass\n",
        "print(\"九九の計算の終了\")"
      ],
      "metadata": {
        "colab": {
          "base_uri": "https://localhost:8080/"
        },
        "id": "ENyr2j0l1VwY",
        "outputId": "a77b6281-f14c-483b-c012-93611eaec6b5"
      },
      "execution_count": 4,
      "outputs": [
        {
          "output_type": "stream",
          "name": "stdout",
          "text": [
            "9,>>1の段の計算終了\n",
            "18,>>2の段の計算終了\n",
            "27,>>3の段の計算終了\n",
            "36,>>4の段の計算終了\n",
            "45,>>5の段の計算終了\n",
            "54,>>6の段の計算終了\n",
            "63,>>7の段の計算終了\n",
            "72,>>8の段の計算終了\n",
            "81,>>9の段の計算終了\n",
            "九九の計算の終了\n"
          ]
        }
      ]
    },
    {
      "cell_type": "code",
      "source": [
        "# 練習問題4-4（2）\n",
        "# 奇数の段のみ計算するようcontinue文使用\n",
        "num = 1\n",
        "list = [1,2,3,4,5,6,7,8,9]\n",
        "while num < 10: # 九九の計算で9まで計算、と分かってるので条件に10より小さい間、と指定\n",
        "  for data in list:\n",
        "    if not num % 2 == 1:\n",
        "      num += 1 # numが偶数だった場合にnumの値を+1して代入する処理\n",
        "      continue\n",
        "    data = int(data)\n",
        "    cal = num * data\n",
        "    print(f\"{cal},\", end = \"\")\n",
        "    if data == 9:\n",
        "      print(f\">>{num}の段の計算終了\") # 段の計算終了で改行\n",
        "      num += 1 # かける側の数（data）が9に達した時にかけられる側の数（num）の値を+1して代入する処理\n",
        "    else:\n",
        "      pass\n",
        "print(\"九九の計算の終了\")"
      ],
      "metadata": {
        "colab": {
          "base_uri": "https://localhost:8080/"
        },
        "id": "dppl-FxJ2d0g",
        "outputId": "fd88e9a8-455c-411b-b3d0-49c3ac77b141"
      },
      "execution_count": 7,
      "outputs": [
        {
          "output_type": "stream",
          "name": "stdout",
          "text": [
            "1,2,3,4,5,6,7,8,9,>>1の段の計算終了\n",
            "6,9,12,15,18,21,24,27,>>3の段の計算終了\n",
            "10,15,20,25,30,35,40,45,>>5の段の計算終了\n",
            "14,21,28,35,42,49,56,63,>>7の段の計算終了\n",
            "18,27,36,45,54,63,72,81,>>9の段の計算終了\n",
            "九九の計算の終了\n"
          ]
        }
      ]
    },
    {
      "cell_type": "code",
      "source": [],
      "metadata": {
        "id": "2xDI3y_L9OGx"
      },
      "execution_count": null,
      "outputs": []
    },
    {
      "cell_type": "code",
      "source": [],
      "metadata": {
        "id": "zn0UvaBc4CMP"
      },
      "execution_count": null,
      "outputs": []
    }
  ]
}