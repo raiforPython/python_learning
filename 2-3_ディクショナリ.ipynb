{
  "nbformat": 4,
  "nbformat_minor": 0,
  "metadata": {
    "colab": {
      "provenance": [],
      "authorship_tag": "ABX9TyN4Beh3UsIyy5k/WC67Zt7n",
      "include_colab_link": true
    },
    "kernelspec": {
      "name": "python3",
      "display_name": "Python 3"
    },
    "language_info": {
      "name": "python"
    }
  },
  "cells": [
    {
      "cell_type": "markdown",
      "metadata": {
        "id": "view-in-github",
        "colab_type": "text"
      },
      "source": [
        "<a href=\"https://colab.research.google.com/github/raiforPython/python_learning/blob/chapter_2/2-3_%E3%83%87%E3%82%A3%E3%82%AF%E3%82%B7%E3%83%A7%E3%83%8A%E3%83%AA.ipynb\" target=\"_parent\"><img src=\"https://colab.research.google.com/assets/colab-badge.svg\" alt=\"Open In Colab\"/></a>"
      ]
    },
    {
      "cell_type": "code",
      "execution_count": 2,
      "metadata": {
        "colab": {
          "base_uri": "https://localhost:8080/"
        },
        "id": "JZnSjFXr3mSw",
        "outputId": "5992a1a5-a0dc-4c5c-a5ad-f50073d5dac2"
      },
      "outputs": [
        {
          "output_type": "stream",
          "name": "stdout",
          "text": [
            "{'database': 60, 'network': 80, 'security': 90}\n"
          ]
        }
      ],
      "source": [
        "# ディクショナリの作成\n",
        "scores = {\"database\":60,\"network\":80,\"security\":90}\n",
        "print(scores)\n",
        "# 単にリストを作るときは[]角カッコを使う\n",
        "# ディクショナリは{}波カッコ"
      ]
    },
    {
      "cell_type": "code",
      "source": [
        "# ディクショナリ要素の参照\n",
        "# キーと値の対応をコロンで指定する\n",
        "scores = {\"database\":60,\"network\":80,\"security\":90}\n",
        "print(scores[\"database\"])"
      ],
      "metadata": {
        "colab": {
          "base_uri": "https://localhost:8080/"
        },
        "id": "b4fSpip66FgU",
        "outputId": "7c2cd186-dbbe-4660-ed9b-06ef7eebcaad"
      },
      "execution_count": 4,
      "outputs": [
        {
          "output_type": "stream",
          "name": "stdout",
          "text": [
            "60\n"
          ]
        }
      ]
    },
    {
      "cell_type": "code",
      "source": [
        "# ディクショナリ要素の追加と変更\n",
        "scores={\"database\":60,\"network\":80,\"security\":90}\n",
        "scores[\"database\"]=75\n",
        "scores[\"programing\"]=65\n",
        "print(scores)\n"
      ],
      "metadata": {
        "colab": {
          "base_uri": "https://localhost:8080/"
        },
        "id": "tKbte1ND7Mgs",
        "outputId": "da6a254f-86d8-4fdc-9e72-9d1b7947a5ff"
      },
      "execution_count": 5,
      "outputs": [
        {
          "output_type": "stream",
          "name": "stdout",
          "text": [
            "{'database': 75, 'network': 80, 'security': 90, 'programing': 65}\n"
          ]
        }
      ]
    },
    {
      "cell_type": "code",
      "source": [
        "# ディクショナリ要素の削除\n",
        "scores = {\"database\":70,\"network\":80,\"security\":90,\"programing\":65}\n",
        "print(scores)\n",
        "del scores(\"programing\") # []が正解\n",
        "print(scores)"
      ],
      "metadata": {
        "colab": {
          "base_uri": "https://localhost:8080/",
          "height": 110
        },
        "id": "6dxQwVt48L7F",
        "outputId": "12f9c471-e1ee-4654-a43b-3563ad87aa4f"
      },
      "execution_count": 6,
      "outputs": [
        {
          "output_type": "error",
          "ename": "SyntaxError",
          "evalue": "cannot delete function call (ipython-input-2898051328.py, line 4)",
          "traceback": [
            "\u001b[0;36m  File \u001b[0;32m\"/tmp/ipython-input-2898051328.py\"\u001b[0;36m, line \u001b[0;32m4\u001b[0m\n\u001b[0;31m    del scores(\"programing\")\u001b[0m\n\u001b[0m        ^\u001b[0m\n\u001b[0;31mSyntaxError\u001b[0m\u001b[0;31m:\u001b[0m cannot delete function call\n"
          ]
        }
      ]
    },
    {
      "cell_type": "code",
      "source": [
        "# ディクショナリ要素の削除\n",
        "scores = {\"database\":70,\"network\":80,\"security\":90,\"programing\":65}\n",
        "print(scores)\n",
        "del scores[\"programing\"]\n",
        "print(scores)"
      ],
      "metadata": {
        "colab": {
          "base_uri": "https://localhost:8080/"
        },
        "id": "y8DNfqtU9Ce0",
        "outputId": "582ac9a4-e340-4a8f-cbf5-b661236a6500"
      },
      "execution_count": 7,
      "outputs": [
        {
          "output_type": "stream",
          "name": "stdout",
          "text": [
            "{'database': 70, 'network': 80, 'security': 90, 'programing': 65}\n",
            "{'database': 70, 'network': 80, 'security': 90}\n"
          ]
        }
      ]
    },
    {
      "cell_type": "code",
      "source": [
        "# ディクショナリの合計\n",
        "scores = {\"database\":70,\"network\":80,\"security\":90}\n",
        "total=(scores.values)\n",
        "print(total)\n",
        "\n",
        "# よくわからん、、、↓"
      ],
      "metadata": {
        "colab": {
          "base_uri": "https://localhost:8080/"
        },
        "id": "NMEPr2WC9Jmb",
        "outputId": "fad59366-7920-4a52-c825-7148aeadec9b"
      },
      "execution_count": 9,
      "outputs": [
        {
          "output_type": "stream",
          "name": "stdout",
          "text": [
            "<built-in method values of dict object at 0x7a3d94906700>\n"
          ]
        }
      ]
    },
    {
      "cell_type": "code",
      "source": [
        "# ディクショナリの合計\n",
        "scores = {\"database\":70,\"network\":80,\"security\":90}\n",
        "total=sum(scores.values())\n",
        "print(total)"
      ],
      "metadata": {
        "colab": {
          "base_uri": "https://localhost:8080/"
        },
        "id": "Tw0B0Yly_1qe",
        "outputId": "9b4d85f7-8418-4f6b-ff2e-7ffb4956d868"
      },
      "execution_count": 10,
      "outputs": [
        {
          "output_type": "stream",
          "name": "stdout",
          "text": [
            "240\n"
          ]
        }
      ]
    },
    {
      "cell_type": "code",
      "source": [],
      "metadata": {
        "id": "ukixXvF-ANK8"
      },
      "execution_count": null,
      "outputs": []
    }
  ]
}