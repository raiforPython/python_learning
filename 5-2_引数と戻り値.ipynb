{
  "nbformat": 4,
  "nbformat_minor": 0,
  "metadata": {
    "colab": {
      "provenance": [],
      "authorship_tag": "ABX9TyOBD87wv+6e3yRf+SgEZ1Yo",
      "include_colab_link": true
    },
    "kernelspec": {
      "name": "python3",
      "display_name": "Python 3"
    },
    "language_info": {
      "name": "python"
    }
  },
  "cells": [
    {
      "cell_type": "markdown",
      "metadata": {
        "id": "view-in-github",
        "colab_type": "text"
      },
      "source": [
        "<a href=\"https://colab.research.google.com/github/raiforPython/python_learning/blob/chapter_5/5-2_%E5%BC%95%E6%95%B0%E3%81%A8%E6%88%BB%E3%82%8A%E5%80%A4.ipynb\" target=\"_parent\"><img src=\"https://colab.research.google.com/assets/colab-badge.svg\" alt=\"Open In Colab\"/></a>"
      ]
    },
    {
      "cell_type": "code",
      "execution_count": 1,
      "metadata": {
        "colab": {
          "base_uri": "https://localhost:8080/"
        },
        "id": "dWfSD1U-nqQe",
        "outputId": "fc3b2282-b78b-49e9-f1af-4c67d05a39b9"
      },
      "outputs": [
        {
          "output_type": "stream",
          "name": "stdout",
          "text": [
            "足し算の答えは150です\n"
          ]
        }
      ],
      "source": [
        "# 足し算の結果を返すplus関数\n",
        "def plus(x,y):\n",
        "    answer = x + y\n",
        "    return answer\n",
        "\n",
        "answer = plus(100,50)\n",
        "print(f\"足し算の答えは{answer}です\")"
      ]
    },
    {
      "cell_type": "code",
      "source": [
        "# 関数を利用して試験結果を計算する\n",
        "def input_scores(name):\n",
        "    print(f\"{name}さんの試験結果を入力してください\")\n",
        "    network = int(input(\"ネットワークの得点は？>>\"))\n",
        "    database = int(input(\"データベースの得点は？>>\"))\n",
        "    security = int(input(\"セキュリティの得点は？>>\"))\n",
        "    scores = [network,database,security]\n",
        "    return scores\n",
        "\n",
        "def calc_avg(scores):\n",
        "    avg = sum(scores)/len(scores)\n",
        "    return avg\n",
        "\n",
        "def output_result(name,avg):\n",
        "    print(f\"{name}さんの平均点は{avg}点です\")\n",
        "\n",
        "# 浅木と松田の得点を入力\n",
        "asagi_scores = input_scores(\"浅木\")\n",
        "matsuda_scores = input_scores(\"松田\")\n",
        "\n",
        "asagi_avg = calc_avg(asagi_scores)\n",
        "matsuda_avg = calc_avg(matsuda_scores)\n",
        "\n",
        "output_result(\"浅木\",asagi_avg)\n",
        "output_result(\"松田\",matsuda_avg)"
      ],
      "metadata": {
        "colab": {
          "base_uri": "https://localhost:8080/"
        },
        "id": "GW06TgLPo0qk",
        "outputId": "2c369fcd-50cd-4320-e077-1cfbde88956d"
      },
      "execution_count": 2,
      "outputs": [
        {
          "output_type": "stream",
          "name": "stdout",
          "text": [
            "浅木さんの試験結果を入力してください\n",
            "ネットワークの得点は？>>50\n",
            "データベースの得点は？>>60\n",
            "セキュリティの得点は？>>70\n",
            "松田さんの試験結果を入力してください\n",
            "ネットワークの得点は？>>80\n",
            "データベースの得点は？>>70\n",
            "セキュリティの得点は？>>60\n",
            "浅木さんの平均点は60.0点です\n",
            "松田さんの平均点は70.0点です\n"
          ]
        }
      ]
    },
    {
      "cell_type": "code",
      "source": [],
      "metadata": {
        "id": "5uFYCVstuP9v"
      },
      "execution_count": null,
      "outputs": []
    }
  ]
}