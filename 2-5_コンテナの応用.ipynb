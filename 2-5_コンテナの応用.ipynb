{
  "nbformat": 4,
  "nbformat_minor": 0,
  "metadata": {
    "colab": {
      "provenance": [],
      "authorship_tag": "ABX9TyPYUq1WrMTRP11GX+RUaMrA",
      "include_colab_link": true
    },
    "kernelspec": {
      "name": "python3",
      "display_name": "Python 3"
    },
    "language_info": {
      "name": "python"
    }
  },
  "cells": [
    {
      "cell_type": "markdown",
      "metadata": {
        "id": "view-in-github",
        "colab_type": "text"
      },
      "source": [
        "<a href=\"https://colab.research.google.com/github/raiforPython/python_learning/blob/chapter_2/2-5_%E3%82%B3%E3%83%B3%E3%83%86%E3%83%8A%E3%81%AE%E5%BF%9C%E7%94%A8.ipynb\" target=\"_parent\"><img src=\"https://colab.research.google.com/assets/colab-badge.svg\" alt=\"Open In Colab\"/></a>"
      ]
    },
    {
      "cell_type": "code",
      "source": [
        "scores={\"network\":60,\"database\":70,\"security\":80}\n",
        "members=[\"長井\",\"浅木\",\"松田\"]\n",
        "print(tuple(members)) #リストmembersをタプルに変換して表示\n",
        "print(list(scores)) #ディクショナリscoresのキーをリストに変換して表示\n",
        "print(set(scores.values())) #scoresの値をセットに変換して表示"
      ],
      "metadata": {
        "colab": {
          "base_uri": "https://localhost:8080/"
        },
        "id": "kk70WNwjMfpm",
        "outputId": "b858780d-f689-4065-9efe-35ad4f070fef"
      },
      "execution_count": null,
      "outputs": [
        {
          "output_type": "stream",
          "name": "stdout",
          "text": [
            "('長井', '浅木', '松田')\n",
            "['network', 'database', 'security']\n",
            "{80, 60, 70}\n"
          ]
        }
      ]
    },
    {
      "cell_type": "code",
      "source": [
        "# ディクショナリの中にディクショナリをネスト\n",
        "matsuda_scores = {\"network\":60,\"database\":70,\"security\":90}\n",
        "asagi_scores ={\"network\":50,\"database\":80,\"security\":90}\n",
        "members_scores = {\"松田\":matsuda_scores,\"浅木\":asagi_scores}\n",
        "print(members_scores)"
      ],
      "metadata": {
        "id": "cjwykDvz9B--",
        "outputId": "e2950635-ec8f-42e1-a5b7-2b924c82eee5",
        "colab": {
          "base_uri": "https://localhost:8080/"
        }
      },
      "execution_count": 6,
      "outputs": [
        {
          "output_type": "stream",
          "name": "stdout",
          "text": [
            "{'松田': {'network': 60, 'database': 70, 'security': 90}, '浅木': {'network': 50, 'database': 80, 'security': 90}}\n"
          ]
        }
      ]
    },
    {
      "cell_type": "code",
      "source": [
        "from os import PRIO_PGRP\n",
        "# ディクショナリの中にセットをネスト\n",
        "members_hobbies = {\n",
        "    \"松田\":{\"SNS\",\"麻雀\",\"自転車\"},\n",
        "    \"浅木\":{\"麻雀\",\"食べ歩き\",\"数学\",\"数学\",\"数学\"}}\n",
        "print(members_hobbies) # 全員の趣味を表示する\n",
        "print(members_hobbies[\"松田\"]) # 松田の趣味を表示する\n",
        "print(members_hobbies[\"浅木\"]) # 浅木の趣味を表示する"
      ],
      "metadata": {
        "id": "RZtTcBtwB5gd",
        "outputId": "5131fcfa-c016-4ca7-9461-dba57ab15b32",
        "colab": {
          "base_uri": "https://localhost:8080/"
        }
      },
      "execution_count": 7,
      "outputs": [
        {
          "output_type": "stream",
          "name": "stdout",
          "text": [
            "{'松田': {'自転車', 'SNS', '麻雀'}, '浅木': {'食べ歩き', '麻雀', '数学'}}\n",
            "{'自転車', 'SNS', '麻雀'}\n",
            "{'食べ歩き', '麻雀', '数学'}\n"
          ]
        }
      ]
    },
    {
      "cell_type": "code",
      "source": [
        "from os import PRIO_PGRP\n",
        "# ディクショナリの中にセットをネスト\n",
        "members_hobbies = {\n",
        "    \"松田\":{\"SNS\",\"麻雀\",\"自転車\"},\n",
        "    \"浅木\":{\"麻雀\",\"食べ歩き\",\"数学\",\"数学\",\"数学\"}}\n",
        "print(\"全員の趣味：\",members_hobbies) # 全員の趣味を表示する\n",
        "print(\"松田の趣味：\",members_hobbies[\"松田\"]) # 松田の趣味を表示する\n",
        "print(\"浅木の趣味：\",members_hobbies[\"浅木\"]) # 浅木の趣味を表示する"
      ],
      "metadata": {
        "id": "VWdsfdcdEU9l",
        "outputId": "63dadab9-7314-4643-d318-2cb952a99cce",
        "colab": {
          "base_uri": "https://localhost:8080/"
        }
      },
      "execution_count": 9,
      "outputs": [
        {
          "output_type": "stream",
          "name": "stdout",
          "text": [
            "全員の趣味： {'松田': {'自転車', 'SNS', '麻雀'}, '浅木': {'食べ歩き', '麻雀', '数学'}}\n",
            "松田の趣味： {'自転車', 'SNS', '麻雀'}\n",
            "浅木の趣味： {'食べ歩き', '麻雀', '数学'}\n"
          ]
        }
      ]
    },
    {
      "cell_type": "code",
      "source": [
        "# 二次元リスト\n",
        "a=[1,2,3]\n",
        "b=[4,5,6]\n",
        "c=[a,b] # aを0番目、bを1番目とする2次元リストcを定義\n",
        "print(c)\n",
        "print(c[0])\n",
        "print(c[1])\n",
        "print(c[1][2])"
      ],
      "metadata": {
        "id": "Oag7QrvsEnKy",
        "outputId": "07af54df-5791-4c30-d595-f2a2e710b03a",
        "colab": {
          "base_uri": "https://localhost:8080/"
        }
      },
      "execution_count": 11,
      "outputs": [
        {
          "output_type": "stream",
          "name": "stdout",
          "text": [
            "[[1, 2, 3], [4, 5, 6]]\n",
            "[1, 2, 3]\n",
            "[4, 5, 6]\n",
            "6\n"
          ]
        }
      ]
    },
    {
      "cell_type": "code",
      "source": [
        "# セットの共通点を探す\n",
        "members_hobbies={\n",
        "    \"松田\":{\"SNS\",\"麻雀\",\"自転車\"},\n",
        "    \"浅木\":{\"麻雀\",\"食べ歩き\",\"数学\"}\n",
        "    }\n",
        "common_hobbies= members_hobbies[\"松田\"]&members_hobbies[\"浅木\"]\n",
        "print(\"共通の趣味は\",common_hobbies)"
      ],
      "metadata": {
        "id": "Pouu9g6qFv7Q",
        "outputId": "3407e7eb-eb3f-4097-f3cc-f6cb800e726a",
        "colab": {
          "base_uri": "https://localhost:8080/"
        }
      },
      "execution_count": 16,
      "outputs": [
        {
          "output_type": "stream",
          "name": "stdout",
          "text": [
            "共通の趣味は {'麻雀'}\n"
          ]
        }
      ]
    },
    {
      "cell_type": "code",
      "source": [
        "# 4つの集合演算\n",
        "A={1,2,3,4}\n",
        "B={2,3,4,5}\n",
        "print(A | B) #和集合\n",
        "print(A & B) #積集合\n",
        "print(A - B) #差集合\n",
        "print(A ^ B) #対称差"
      ],
      "metadata": {
        "id": "pAvvQQzfHPWV",
        "outputId": "d5e9aec4-0e28-4375-c7cd-b3dd83f5a4e8",
        "colab": {
          "base_uri": "https://localhost:8080/"
        }
      },
      "execution_count": 15,
      "outputs": [
        {
          "output_type": "stream",
          "name": "stdout",
          "text": [
            "{1, 2, 3, 4, 5}\n",
            "{2, 3, 4}\n",
            "{1}\n",
            "{1, 5}\n"
          ]
        }
      ]
    },
    {
      "cell_type": "code",
      "source": [],
      "metadata": {
        "id": "PjyxmEwfH8k9"
      },
      "execution_count": null,
      "outputs": []
    }
  ]
}