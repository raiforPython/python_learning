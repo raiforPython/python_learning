{
  "nbformat": 4,
  "nbformat_minor": 0,
  "metadata": {
    "colab": {
      "provenance": [],
      "authorship_tag": "ABX9TyMMlQu82RwMKTjoYrzzojSf",
      "include_colab_link": true
    },
    "kernelspec": {
      "name": "python3",
      "display_name": "Python 3"
    },
    "language_info": {
      "name": "python"
    }
  },
  "cells": [
    {
      "cell_type": "markdown",
      "metadata": {
        "id": "view-in-github",
        "colab_type": "text"
      },
      "source": [
        "<a href=\"https://colab.research.google.com/github/raiforPython/python_learning/blob/chapter_2/2-5_%E3%82%B3%E3%83%B3%E3%83%86%E3%83%8A%E3%81%AE%E5%BF%9C%E7%94%A8.ipynb\" target=\"_parent\"><img src=\"https://colab.research.google.com/assets/colab-badge.svg\" alt=\"Open In Colab\"/></a>"
      ]
    },
    {
      "cell_type": "code",
      "source": [
        "scores={\"network\":60,\"database\":70,\"security\":80}\n",
        "members=[\"長井\",\"浅木\",\"松田\"]\n",
        "print(tuple(members)) #リストmembersをタプルに変換して表示\n",
        "print(list(scores)) #ディクショナリscoresのキーをリストに変換して表示\n",
        "print(set(scores.values())) #scoresの値をセットに変換して表示"
      ],
      "metadata": {
        "colab": {
          "base_uri": "https://localhost:8080/"
        },
        "id": "kk70WNwjMfpm",
        "outputId": "b858780d-f689-4065-9efe-35ad4f070fef"
      },
      "execution_count": null,
      "outputs": [
        {
          "output_type": "stream",
          "name": "stdout",
          "text": [
            "('長井', '浅木', '松田')\n",
            "['network', 'database', 'security']\n",
            "{80, 60, 70}\n"
          ]
        }
      ]
    },
    {
      "cell_type": "code",
      "source": [
        "print(\"nagai\")"
      ],
      "metadata": {
        "id": "qr5oPYai_hyT",
        "outputId": "d8457be9-4edd-4a8f-8c79-430aa8367eef",
        "colab": {
          "base_uri": "https://localhost:8080/"
        }
      },
      "execution_count": 5,
      "outputs": [
        {
          "output_type": "stream",
          "name": "stdout",
          "text": [
            "nagai\n"
          ]
        }
      ]
    },
    {
      "cell_type": "code",
      "source": [],
      "metadata": {
        "id": "I1Sd0VRf_kY7"
      },
      "execution_count": null,
      "outputs": []
    }
  ]
}