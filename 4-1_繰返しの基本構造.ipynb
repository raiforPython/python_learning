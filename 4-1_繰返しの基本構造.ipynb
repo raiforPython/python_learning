{
  "nbformat": 4,
  "nbformat_minor": 0,
  "metadata": {
    "colab": {
      "provenance": [],
      "authorship_tag": "ABX9TyMaOaH1m13e/J1KuVx3M5by",
      "include_colab_link": true
    },
    "kernelspec": {
      "name": "python3",
      "display_name": "Python 3"
    },
    "language_info": {
      "name": "python"
    }
  },
  "cells": [
    {
      "cell_type": "markdown",
      "metadata": {
        "id": "view-in-github",
        "colab_type": "text"
      },
      "source": [
        "<a href=\"https://colab.research.google.com/github/raiforPython/python_learning/blob/chapter_4/4-1_%E7%B9%B0%E8%BF%94%E3%81%97%E3%81%AE%E5%9F%BA%E6%9C%AC%E6%A7%8B%E9%80%A0.ipynb\" target=\"_parent\"><img src=\"https://colab.research.google.com/assets/colab-badge.svg\" alt=\"Open In Colab\"/></a>"
      ]
    },
    {
      "cell_type": "code",
      "execution_count": null,
      "metadata": {
        "colab": {
          "base_uri": "https://localhost:8080/"
        },
        "id": "H5tPqye3O4mY",
        "outputId": "fed6bfae-5eae-488f-a818-264eb467593b"
      },
      "outputs": [
        {
          "output_type": "stream",
          "name": "stdout",
          "text": [
            "さあ、寝ようかしら\n",
            "羊が1匹\n",
            "羊が2匹\n",
            "羊が3匹\n",
            "おやすみなさい\n"
          ]
        }
      ],
      "source": [
        "# 羊を数えて眠る\n",
        "print(\"さあ、寝ようかしら\")\n",
        "count = 0  #羊の数\n",
        "count = count + 1\n",
        "print(f\"羊が{count}匹\")\n",
        "count = count + 1\n",
        "print(f\"羊が{count}匹\")\n",
        "count = count + 1\n",
        "print(f\"羊が{count}匹\")\n",
        "print(\"おやすみなさい\")"
      ]
    },
    {
      "cell_type": "code",
      "source": [
        "# 羊を数えるのを３回繰り返す\n",
        "count = 0\n",
        "while count < 3:\n",
        "  count += 1\n",
        "  print(f\"羊が{count}匹\")\n",
        "print(\"おやすみなさい\")"
      ],
      "metadata": {
        "colab": {
          "base_uri": "https://localhost:8080/"
        },
        "id": "DyeyI1QOPg3w",
        "outputId": "7b4948ce-b723-4a7a-f69c-71d8edcf5f70"
      },
      "execution_count": null,
      "outputs": [
        {
          "output_type": "stream",
          "name": "stdout",
          "text": [
            "羊が1匹\n",
            "羊が2匹\n",
            "羊が3匹\n",
            "おやすみなさい\n"
          ]
        }
      ]
    },
    {
      "cell_type": "code",
      "source": [
        "# 無限ループ\n",
        "count = 0\n",
        "while count < 3:\n",
        "  print(f\"羊が{count}匹\")\n",
        "print(\"すやすやzz\")"
      ],
      "metadata": {
        "id": "8EP9M61DQUdw"
      },
      "execution_count": null,
      "outputs": []
    },
    {
      "cell_type": "code",
      "source": [
        "# 眠るまで羊を数えるのを繰り返す\n",
        "is_awake = True\n",
        "count = 0\n",
        "while is_awake == True:\n",
        "  count += 1\n",
        "  print(f\"ひつじが{count}匹\")\n",
        "  key = input(\"もう眠りそうですか？（y/n）>>\")\n",
        "  if key == \"y\":\n",
        "    is_awake = False\n",
        "print(\"おやすみなさい\")\n"
      ],
      "metadata": {
        "colab": {
          "base_uri": "https://localhost:8080/"
        },
        "id": "xjdc5e4FSGX4",
        "outputId": "3bfdea8b-caeb-42a2-e60d-de7175432dbe"
      },
      "execution_count": null,
      "outputs": [
        {
          "output_type": "stream",
          "name": "stdout",
          "text": [
            "ひつじが1匹\n",
            "もう眠りそうですか？（y/n）>>ｎ\n",
            "ひつじが2匹\n",
            "もう眠りそうですか？（y/n）>>n\n",
            "ひつじが3匹\n",
            "もう眠りそうですか？（y/n）>>ｎ\n",
            "ひつじが4匹\n",
            "もう眠りそうですか？（y/n）>>ｙ\n",
            "ひつじが5匹\n",
            "もう眠りそうですか？（y/n）>>ｙ\n",
            "ひつじが6匹\n",
            "もう眠りそうですか？（y/n）>>y\n",
            "おやすみなさい\n"
          ]
        }
      ]
    },
    {
      "cell_type": "code",
      "source": [
        "# 繰り返しを使って得点リストを作成する\n",
        "count = 0                                      #　カウンタ変数\n",
        "student_num = int(input(\"学生の数を入力　>>\")) #　学生の数\n",
        "score_list = list()                            #　得点リスト\n",
        "while count < student_num:\n",
        "  count += 1\n",
        "  score = int(input(f\"{count}人目の試験の点数を入力　>>\"))\n",
        "  score_list.append(score)\n",
        "print(score_list)\n",
        "total = sum(score_list)\n",
        "print(f\"平均点は{total / student_num}点です\")"
      ],
      "metadata": {
        "colab": {
          "base_uri": "https://localhost:8080/"
        },
        "id": "bnjrgz_QTH_A",
        "outputId": "0f5dcbb9-2081-43e0-ff2b-b208003296d5"
      },
      "execution_count": null,
      "outputs": [
        {
          "output_type": "stream",
          "name": "stdout",
          "text": [
            "学生の数を入力　>>10\n",
            "1人目の試験の点数を入力　>>80\n",
            "2人目の試験の点数を入力　>>90\n",
            "3人目の試験の点数を入力　>>40\n",
            "4人目の試験の点数を入力　>>54\n",
            "5人目の試験の点数を入力　>>44\n",
            "6人目の試験の点数を入力　>>77\n",
            "7人目の試験の点数を入力　>>95\n",
            "8人目の試験の点数を入力　>>35\n",
            "9人目の試験の点数を入力　>>55\n",
            "10人目の試験の点数を入力　>>88\n",
            "[80, 90, 40, 54, 44, 77, 95, 35, 55, 88]\n",
            "平均点は65.8点です\n"
          ]
        }
      ]
    },
    {
      "cell_type": "code",
      "source": [
        "# リストの全要素を繰り返し参照する\n",
        "scores = [80,20,75,60]\n",
        "count = 0\n",
        "while count < len(scores):\n",
        "  if scores[count] >= 60:\n",
        "      print(\"合格\")\n",
        "  else:\n",
        "      print(\"不合格\")\n",
        "  count += 1"
      ],
      "metadata": {
        "colab": {
          "base_uri": "https://localhost:8080/"
        },
        "id": "Dha4bisDXbF-",
        "outputId": "97079862-50f1-49e3-de7a-9620b3352364"
      },
      "execution_count": null,
      "outputs": [
        {
          "output_type": "stream",
          "name": "stdout",
          "text": [
            "合格\n",
            "不合格\n",
            "合格\n",
            "合格\n"
          ]
        }
      ]
    },
    {
      "cell_type": "code",
      "source": [],
      "metadata": {
        "id": "OhEjzdGyoJOK"
      },
      "execution_count": null,
      "outputs": []
    }
  ]
}