{
  "nbformat": 4,
  "nbformat_minor": 0,
  "metadata": {
    "colab": {
      "provenance": [],
      "toc_visible": true,
      "authorship_tag": "ABX9TyPcxeEbNgEy0MsIArMI9mqG",
      "include_colab_link": true
    },
    "kernelspec": {
      "name": "python3",
      "display_name": "Python 3"
    },
    "language_info": {
      "name": "python"
    }
  },
  "cells": [
    {
      "cell_type": "markdown",
      "metadata": {
        "id": "view-in-github",
        "colab_type": "text"
      },
      "source": [
        "<a href=\"https://colab.research.google.com/github/raiforPython/python_learning/blob/chapter_1/1-3_%E5%A4%89%E6%95%B0.ipynb\" target=\"_parent\"><img src=\"https://colab.research.google.com/assets/colab-badge.svg\" alt=\"Open In Colab\"/></a>"
      ]
    },
    {
      "cell_type": "code",
      "source": [
        "print(\"半径が3cmの円の直径は\")\n",
        "print(\"3*2\")\n",
        "print(\"その円の円周の長さは、直径×円周率で求められるため\")\n",
        "print(\"\"\"\n",
        "3*2*3.14\n",
        "\"\"\".sprit())\n",
        "# 綴りミス"
      ],
      "metadata": {
        "colab": {
          "base_uri": "https://localhost:8080/",
          "height": 256
        },
        "id": "mllOQvreXsvO",
        "outputId": "25a317af-08af-4d15-9eda-c8765a4391fe"
      },
      "execution_count": 40,
      "outputs": [
        {
          "output_type": "stream",
          "name": "stdout",
          "text": [
            "半径が3cmの円の直径は\n",
            "3*2\n",
            "その円の円周の長さは、直径×円周率で求められるため\n"
          ]
        },
        {
          "output_type": "error",
          "ename": "AttributeError",
          "evalue": "'str' object has no attribute 'sprit'",
          "traceback": [
            "\u001b[0;31m---------------------------------------------------------------------------\u001b[0m",
            "\u001b[0;31mAttributeError\u001b[0m                            Traceback (most recent call last)",
            "\u001b[0;32m/tmp/ipython-input-2884580135.py\u001b[0m in \u001b[0;36m<cell line: 0>\u001b[0;34m()\u001b[0m\n\u001b[1;32m      4\u001b[0m print(\"\"\"\n\u001b[1;32m      5\u001b[0m \u001b[0;36m3\u001b[0m\u001b[0;34m*\u001b[0m\u001b[0;36m2\u001b[0m\u001b[0;34m*\u001b[0m\u001b[0;36m3.14\u001b[0m\u001b[0;34m\u001b[0m\u001b[0;34m\u001b[0m\u001b[0m\n\u001b[0;32m----> 6\u001b[0;31m \"\"\".sprit())\n\u001b[0m\u001b[1;32m      7\u001b[0m \u001b[0;31m# 綴りミス\u001b[0m\u001b[0;34m\u001b[0m\u001b[0;34m\u001b[0m\u001b[0m\n",
            "\u001b[0;31mAttributeError\u001b[0m: 'str' object has no attribute 'sprit'"
          ]
        }
      ]
    },
    {
      "cell_type": "code",
      "source": [
        "print(\"半径が3cmの円の直径は\")\n",
        "print(\"3*2\")\n",
        "print(\"その円の円周の長さは、直径×円周率で求められるため\")\n",
        "print(\"\"\"\n",
        "3*2*3.14\n",
        "\"\"\".strip())"
      ],
      "metadata": {
        "id": "7vDafOPIZ-kb"
      },
      "execution_count": null,
      "outputs": []
    },
    {
      "cell_type": "code",
      "source": [
        "print(\"半径が3cmの円の直径は\")\n",
        "print(3*2)\n",
        "print(\"その円の円周の長さは、直径×円周率で求められるため\")\n",
        "print(\n",
        "3*2*3.14)"
      ],
      "metadata": {
        "colab": {
          "base_uri": "https://localhost:8080/"
        },
        "id": "ZYDibnWuaLjb",
        "outputId": "b3096de8-bc67-4991-d5ad-9325daaaffa5"
      },
      "execution_count": 41,
      "outputs": [
        {
          "output_type": "stream",
          "name": "stdout",
          "text": [
            "半径が3cmの円の直径は\n",
            "6\n",
            "その円の円周の長さは、直径×円周率で求められるため\n",
            "18.84\n"
          ]
        }
      ]
    },
    {
      "cell_type": "code",
      "source": [
        "name=\"長井\"\n",
        "age=23\n",
        "print(name)\n",
        "print(age)"
      ],
      "metadata": {
        "colab": {
          "base_uri": "https://localhost:8080/"
        },
        "id": "AKrb_yTVaRs7",
        "outputId": "385d6494-23d6-4379-9412-acc2b8a697a8"
      },
      "execution_count": 42,
      "outputs": [
        {
          "output_type": "stream",
          "name": "stdout",
          "text": [
            "長井\n",
            "23\n"
          ]
        }
      ]
    },
    {
      "cell_type": "code",
      "source": [
        "print(\"半径が3cmの円の直径は\")\n",
        "dia=3*2 #diaはdiamiter（直径）の略\n",
        "print(dia)\n",
        "print(\"その円の円周の長さは、\")\n",
        "print(dia*3.14)"
      ],
      "metadata": {
        "colab": {
          "base_uri": "https://localhost:8080/"
        },
        "id": "eyEK__R8bauw",
        "outputId": "338e595d-0ea1-415a-bc50-21ada75e3361"
      },
      "execution_count": 43,
      "outputs": [
        {
          "output_type": "stream",
          "name": "stdout",
          "text": [
            "半径が3cmの円の直径は\n",
            "6\n",
            "その円の円周の長さは、\n",
            "18.84\n"
          ]
        }
      ]
    },
    {
      "cell_type": "code",
      "source": [
        "count=3\n",
        "print(\"今日カレーを食べた回数は\")\n",
        "print(count)\n",
        "count=5\n",
        "print(\"\"\"\n",
        "うそ。本当は\n",
        "\"\"\".strip())\n",
        "print(count)"
      ],
      "metadata": {
        "colab": {
          "base_uri": "https://localhost:8080/"
        },
        "id": "b4C28jJncNBX",
        "outputId": "abe9a11a-1fdb-4cb5-9974-29094485f685"
      },
      "execution_count": 44,
      "outputs": [
        {
          "output_type": "stream",
          "name": "stdout",
          "text": [
            "今日カレーを食べた回数は\n",
            "3\n",
            "うそ。本当は\n",
            "5\n"
          ]
        }
      ]
    },
    {
      "cell_type": "code",
      "source": [
        "import keyword\n",
        "print(keyword.kwlist)"
      ],
      "metadata": {
        "colab": {
          "base_uri": "https://localhost:8080/"
        },
        "id": "oIk-B_gsdQf3",
        "outputId": "3ae03925-3b79-46b0-bf72-6a1045d584d4"
      },
      "execution_count": 45,
      "outputs": [
        {
          "output_type": "stream",
          "name": "stdout",
          "text": [
            "['False', 'None', 'True', 'and', 'as', 'assert', 'async', 'await', 'break', 'class', 'continue', 'def', 'del', 'elif', 'else', 'except', 'finally', 'for', 'from', 'global', 'if', 'import', 'in', 'is', 'lambda', 'nonlocal', 'not', 'or', 'pass', 'raise', 'return', 'try', 'while', 'with', 'yield']\n"
          ]
        }
      ]
    },
    {
      "cell_type": "code",
      "source": [
        "name,age=\"nagai\",23\n",
        "print(name,age)"
      ],
      "metadata": {
        "colab": {
          "base_uri": "https://localhost:8080/"
        },
        "id": "3KRdeXNad5tB",
        "outputId": "746bba3d-bea4-4070-ccde-e51e19c3213d"
      },
      "execution_count": 46,
      "outputs": [
        {
          "output_type": "stream",
          "name": "stdout",
          "text": [
            "nagai 23\n"
          ]
        }
      ]
    },
    {
      "cell_type": "code",
      "source": [
        "age=23\n",
        "print(\"長井の今年の年齢は,,,\")\n",
        "print(age)\n",
        "age+1\n",
        "print(\"来年は,,,\")\n",
        "print(age)\n",
        "age+1\n",
        "print(\"再来年は,,,\")\n",
        "print(age)"
      ],
      "metadata": {
        "colab": {
          "base_uri": "https://localhost:8080/"
        },
        "id": "TEXYCM1-ehx-",
        "outputId": "a89da54f-2571-451f-a77a-9806a0b8ec26"
      },
      "execution_count": 47,
      "outputs": [
        {
          "output_type": "stream",
          "name": "stdout",
          "text": [
            "長井の今年の年齢は,,,\n",
            "23\n",
            "来年は,,,\n",
            "23\n",
            "再来年は,,,\n",
            "23\n"
          ]
        }
      ]
    },
    {
      "cell_type": "code",
      "source": [
        "age=23\n",
        "print(\"長井の今年の年齢は,,,\")\n",
        "print(age)\n",
        "age = age+1\n",
        "print(\"来年は,,,\")\n",
        "print(age)\n",
        "age = age+1\n",
        "print(\"再来年は,,,\")\n",
        "print(age)"
      ],
      "metadata": {
        "colab": {
          "base_uri": "https://localhost:8080/"
        },
        "id": "WcxWqSOxfZ7E",
        "outputId": "ff38ae5f-a8c0-4bdc-9ee9-36f17f4dc1a1"
      },
      "execution_count": 48,
      "outputs": [
        {
          "output_type": "stream",
          "name": "stdout",
          "text": [
            "長井の今年の年齢は,,,\n",
            "23\n",
            "来年は,,,\n",
            "24\n",
            "再来年は,,,\n",
            "25\n"
          ]
        }
      ]
    },
    {
      "cell_type": "code",
      "source": [
        "name=input(\"あなたの名前を入力してください\")\n",
        "print(\"おお\"+name+\"よ、そなたが来るのを待っておったぞ！\")"
      ],
      "metadata": {
        "colab": {
          "base_uri": "https://localhost:8080/"
        },
        "id": "1WXBA1JSff0L",
        "outputId": "d0985a70-1382-416a-891c-de89294d9f20"
      },
      "execution_count": 49,
      "outputs": [
        {
          "output_type": "stream",
          "name": "stdout",
          "text": [
            "あなたの名前を入力してくださいrai\n",
            "おおraiよ、そなたが来るのを待っておったぞ！\n"
          ]
        }
      ]
    },
    {
      "cell_type": "code",
      "source": [
        "name=input(\"あなたの名前を入力してください>>\")\n",
        "print(\"おお\"+name+\"よ、そなたが来るのを待っておったぞ！\")"
      ],
      "metadata": {
        "colab": {
          "base_uri": "https://localhost:8080/"
        },
        "id": "whIb652og0rH",
        "outputId": "91a75ddb-5887-4099-e765-41ec45478737"
      },
      "execution_count": 50,
      "outputs": [
        {
          "output_type": "stream",
          "name": "stdout",
          "text": [
            "あなたの名前を入力してください>>rai\n",
            "おおraiよ、そなたが来るのを待っておったぞ！\n"
          ]
        }
      ]
    },
    {
      "cell_type": "code",
      "source": [
        "total_price = int(input(\"金額を入力してください\\n\"))\n",
        "member = int(input(\"人数を入力してください\\n\"))\n",
        "price = total_price/member\n",
        "print(price)"
      ],
      "metadata": {
        "colab": {
          "base_uri": "https://localhost:8080/"
        },
        "id": "6Zsj6-ZrhM8i",
        "outputId": "26df473c-9e88-4a0e-abf2-39952d62dbf5"
      },
      "execution_count": 51,
      "outputs": [
        {
          "output_type": "stream",
          "name": "stdout",
          "text": [
            "金額を入力してください\n",
            "16000\n",
            "人数を入力してください\n",
            "2\n",
            "8000.0\n"
          ]
        }
      ]
    },
    {
      "cell_type": "code",
      "source": [
        "total_price = int(input(\"金額を入力してください\\n\"))\n",
        "total_member = int(input(\"人数を入力してください\\n\"))\n",
        "price = total_price/total_member\n",
        "print(price)"
      ],
      "metadata": {
        "colab": {
          "base_uri": "https://localhost:8080/"
        },
        "id": "dZTuJVHyjK9y",
        "outputId": "0defc679-9d6b-466e-e892-4af0848c9cc2"
      },
      "execution_count": 52,
      "outputs": [
        {
          "output_type": "stream",
          "name": "stdout",
          "text": [
            "金額を入力してください\n",
            "6\n",
            "人数を入力してください\n",
            "2\n",
            "3.0\n"
          ]
        }
      ]
    },
    {
      "cell_type": "code",
      "source": [
        "total_price = int(input(\"金額を入力してください\\n\"\n",
        "\"円\"))\n",
        "total_member = int(input(\"人数を入力してください\\n\"\n",
        "\"人\"))\n",
        "price = total_price/total_member\n",
        "print(price)"
      ],
      "metadata": {
        "colab": {
          "base_uri": "https://localhost:8080/"
        },
        "id": "xtieMBExkU83",
        "outputId": "228f3448-8b6c-471d-e7ac-9ee05c20cfc7"
      },
      "execution_count": 53,
      "outputs": [
        {
          "output_type": "stream",
          "name": "stdout",
          "text": [
            "金額を入力してください\n",
            "円6\n",
            "人数を入力してください\n",
            "人2\n",
            "3.0\n"
          ]
        }
      ]
    },
    {
      "cell_type": "code",
      "source": [
        "total_price = int(input(\"金額を入力してください>>\\n\")),print(\"円\")\n",
        "total_member = int(input(\"人数を入力してください>>\\n\")),print(\"人\")\n",
        "price = total_price/total_member\n",
        "print(price)"
      ],
      "metadata": {
        "colab": {
          "base_uri": "https://localhost:8080/",
          "height": 311
        },
        "id": "G7cDNx-ukz9R",
        "outputId": "e19ce08c-a2bd-4a34-d36b-ff27f5da39d7"
      },
      "execution_count": 54,
      "outputs": [
        {
          "output_type": "stream",
          "name": "stdout",
          "text": [
            "金額を入力してください>>\n",
            "6\n",
            "円\n",
            "人数を入力してください>>\n",
            "2\n",
            "人\n"
          ]
        },
        {
          "output_type": "error",
          "ename": "TypeError",
          "evalue": "unsupported operand type(s) for /: 'tuple' and 'tuple'",
          "traceback": [
            "\u001b[0;31m---------------------------------------------------------------------------\u001b[0m",
            "\u001b[0;31mTypeError\u001b[0m                                 Traceback (most recent call last)",
            "\u001b[0;32m/tmp/ipython-input-2283902858.py\u001b[0m in \u001b[0;36m<cell line: 0>\u001b[0;34m()\u001b[0m\n\u001b[1;32m      1\u001b[0m \u001b[0mtotal_price\u001b[0m \u001b[0;34m=\u001b[0m \u001b[0mint\u001b[0m\u001b[0;34m(\u001b[0m\u001b[0minput\u001b[0m\u001b[0;34m(\u001b[0m\u001b[0;34m\"金額を入力してください>>\\n\"\u001b[0m\u001b[0;34m)\u001b[0m\u001b[0;34m)\u001b[0m\u001b[0;34m,\u001b[0m\u001b[0mprint\u001b[0m\u001b[0;34m(\u001b[0m\u001b[0;34m\"円\"\u001b[0m\u001b[0;34m)\u001b[0m\u001b[0;34m\u001b[0m\u001b[0;34m\u001b[0m\u001b[0m\n\u001b[1;32m      2\u001b[0m \u001b[0mtotal_member\u001b[0m \u001b[0;34m=\u001b[0m \u001b[0mint\u001b[0m\u001b[0;34m(\u001b[0m\u001b[0minput\u001b[0m\u001b[0;34m(\u001b[0m\u001b[0;34m\"人数を入力してください>>\\n\"\u001b[0m\u001b[0;34m)\u001b[0m\u001b[0;34m)\u001b[0m\u001b[0;34m,\u001b[0m\u001b[0mprint\u001b[0m\u001b[0;34m(\u001b[0m\u001b[0;34m\"人\"\u001b[0m\u001b[0;34m)\u001b[0m\u001b[0;34m\u001b[0m\u001b[0;34m\u001b[0m\u001b[0m\n\u001b[0;32m----> 3\u001b[0;31m \u001b[0mprice\u001b[0m \u001b[0;34m=\u001b[0m \u001b[0mtotal_price\u001b[0m\u001b[0;34m/\u001b[0m\u001b[0mtotal_member\u001b[0m\u001b[0;34m\u001b[0m\u001b[0;34m\u001b[0m\u001b[0m\n\u001b[0m\u001b[1;32m      4\u001b[0m \u001b[0mprint\u001b[0m\u001b[0;34m(\u001b[0m\u001b[0mprice\u001b[0m\u001b[0;34m)\u001b[0m\u001b[0;34m\u001b[0m\u001b[0;34m\u001b[0m\u001b[0m\n",
            "\u001b[0;31mTypeError\u001b[0m: unsupported operand type(s) for /: 'tuple' and 'tuple'"
          ]
        }
      ]
    },
    {
      "cell_type": "code",
      "source": [
        "total_price = int(input(\"金額を入力してください>>\\n\"))\n",
        "print(\"円\")\n",
        "total_member = int(input(\"人数を入力してください>>\\n\"))\n",
        "print(\"人\")\n",
        "price = total_price/total_member\n",
        "print(price+\"円\")"
      ],
      "metadata": {
        "id": "J-qUpAUzlH24"
      },
      "execution_count": null,
      "outputs": []
    },
    {
      "cell_type": "code",
      "source": [
        "total_price = int(input(\"金額を入力してください>>\\n\"))\n",
        "print(\"円\")\n",
        "total_member = int(input(\"人数を入力してください>>\\n\"))\n",
        "print(\"人\")\n",
        "price = total_price/total_member\n",
        "print(price +\"円\")"
      ],
      "metadata": {
        "id": "iVsHm6C-mSKe"
      },
      "execution_count": null,
      "outputs": []
    },
    {
      "cell_type": "code",
      "source": [
        "total_price = int(input(\"金額を入力してください>>\\n\"))\n",
        "print(\"円\")\n",
        "total_member = int(input(\"人数を入力してください>>\\n\"))\n",
        "print(\"人\")\n",
        "price = total_price/total_member\n",
        "print(price) ,print(\"円\")"
      ],
      "metadata": {
        "id": "5fne45rXnDLA"
      },
      "execution_count": null,
      "outputs": []
    },
    {
      "cell_type": "code",
      "source": [
        "total_price = int(input(\"金額を入力してください>>\\n\"))\n",
        "print(\"円\")\n",
        "total_member = int(input(\"人数を入力してください>>\\n\"))\n",
        "print(\"人\")\n",
        "price = total_price/total_member\n",
        "print(\"お支払いは\"price\"です\")"
      ],
      "metadata": {
        "id": "-eqSVkQLnNtc"
      },
      "execution_count": null,
      "outputs": []
    },
    {
      "cell_type": "code",
      "source": [
        "total_price = int(input(\"金額を入力してください>>\\n\"))\n",
        "print(\"円\")\n",
        "total_member = int(input(\"人数を入力してください>>\\n\"))\n",
        "print(\"人\")\n",
        "price = total_price/total_member\n",
        "print(\"お支払いは\"+price+\"です\")"
      ],
      "metadata": {
        "id": "FajHpD9kneeH"
      },
      "execution_count": null,
      "outputs": []
    },
    {
      "cell_type": "code",
      "source": [
        "total_price = int(input(\"金額を入力してください>>\\n\"))\n",
        "print(\"円\")\n",
        "total_member = int(input(\"人数を入力してください>>\\n\"))\n",
        "print(\"人\")\n",
        "price = total_price/total_member\n",
        "print(\"お支払いは\" + price + \"です\")"
      ],
      "metadata": {
        "id": "QRaIj3NZn1O4"
      },
      "execution_count": null,
      "outputs": []
    },
    {
      "cell_type": "code",
      "source": [],
      "metadata": {
        "id": "n7D-aGJ2n_op"
      },
      "execution_count": null,
      "outputs": []
    }
  ]
}