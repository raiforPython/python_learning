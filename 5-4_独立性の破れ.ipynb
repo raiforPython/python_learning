{
  "nbformat": 4,
  "nbformat_minor": 0,
  "metadata": {
    "colab": {
      "provenance": [],
      "authorship_tag": "ABX9TyOF4FYh+xxckI9Xl151SxJD",
      "include_colab_link": true
    },
    "kernelspec": {
      "name": "python3",
      "display_name": "Python 3"
    },
    "language_info": {
      "name": "python"
    }
  },
  "cells": [
    {
      "cell_type": "markdown",
      "metadata": {
        "id": "view-in-github",
        "colab_type": "text"
      },
      "source": [
        "<a href=\"https://colab.research.google.com/github/raiforPython/python_learning/blob/chapter_5/5-4_%E7%8B%AC%E7%AB%8B%E6%80%A7%E3%81%AE%E7%A0%B4%E3%82%8C.ipynb\" target=\"_parent\"><img src=\"https://colab.research.google.com/assets/colab-badge.svg\" alt=\"Open In Colab\"/></a>"
      ]
    },
    {
      "cell_type": "code",
      "source": [
        "# 関数の中からグローバル変数に代入できる？\n",
        "name = \"松田\"\n",
        "def change_name():\n",
        "    name = \"浅木\"\n",
        "def hello():\n",
        "    print(\"こんにちは\"+ name +\"さん\")\n",
        "\n",
        "change_name()\n",
        "hello()"
      ],
      "metadata": {
        "colab": {
          "base_uri": "https://localhost:8080/"
        },
        "id": "UG8BkDBgjRnN",
        "outputId": "0fda19a8-865c-4b79-bc63-6973f4e9efbf"
      },
      "execution_count": 2,
      "outputs": [
        {
          "output_type": "stream",
          "name": "stdout",
          "text": [
            "こんにちは松田さん\n"
          ]
        }
      ]
    },
    {
      "cell_type": "code",
      "source": [
        "# global文を用いてグローバル変数に代入する\n",
        "name = \"松田\"\n",
        "def change_name():\n",
        "    global name\n",
        "    name = \"浅木\"\n",
        "def hello():\n",
        "    print(\"こんにちは\"+ name +\"さん\")\n",
        "\n",
        "change_name()\n",
        "hello()"
      ],
      "metadata": {
        "colab": {
          "base_uri": "https://localhost:8080/"
        },
        "id": "C3WkwURekeUx",
        "outputId": "7471a796-92d9-4dab-a334-f208f9ab8635"
      },
      "execution_count": 3,
      "outputs": [
        {
          "output_type": "stream",
          "name": "stdout",
          "text": [
            "こんにちは浅木さん\n"
          ]
        }
      ]
    }
  ]
}