{
  "nbformat": 4,
  "nbformat_minor": 0,
  "metadata": {
    "colab": {
      "provenance": [],
      "authorship_tag": "ABX9TyNz1GZf7TdIPnjZ/DDY+diP",
      "include_colab_link": true
    },
    "kernelspec": {
      "name": "python3",
      "display_name": "Python 3"
    },
    "language_info": {
      "name": "python"
    }
  },
  "cells": [
    {
      "cell_type": "markdown",
      "metadata": {
        "id": "view-in-github",
        "colab_type": "text"
      },
      "source": [
        "<a href=\"https://colab.research.google.com/github/raiforPython/python_learning/blob/chapter_7/7-2_%E7%B5%84%E3%81%BF%E8%BE%BC%E3%81%BF%E9%96%A2%E6%95%B0.ipynb\" target=\"_parent\"><img src=\"https://colab.research.google.com/assets/colab-badge.svg\" alt=\"Open In Colab\"/></a>"
      ]
    },
    {
      "cell_type": "code",
      "execution_count": 2,
      "metadata": {
        "colab": {
          "base_uri": "https://localhost:8080/"
        },
        "id": "4DUil60DycL4",
        "outputId": "2a1343a2-094c-4094-94b0-99ffadd4a6b6"
      },
      "outputs": [
        {
          "name": "stdout",
          "output_type": "stream",
          "text": [
            "何を記録しますか？>>1月16日は、ひとり焼き肉＆ボウリング\n"
          ]
        }
      ],
      "source": [
        "# 1行日記を記録する\n",
        "text = input(\"何を記録しますか？>>\")\n",
        "file = open(\"diary.txt\",\"a\")  # ①ファイルを開く（追記モード）\n",
        "file.write(text + \"\\n\")  # ②ファイルに書き込む\n",
        "file.close()  # ③ファイルを閉じる"
      ]
    },
    {
      "cell_type": "code",
      "source": [
        "# 用が済んだらすぐに閉じる(with文の使用)\n",
        "text = input(\"今日は何をした？>>\")\n",
        "with open(\"diary.txt\",\"a\") as file:\n",
        "    file.write(text + \"\\n\")"
      ],
      "metadata": {
        "colab": {
          "base_uri": "https://localhost:8080/"
        },
        "id": "3rFBXO9W1piv",
        "outputId": "ed8e0eee-12bd-4293-f6a5-7d1e4e48ffb6"
      },
      "execution_count": 3,
      "outputs": [
        {
          "name": "stdout",
          "output_type": "stream",
          "text": [
            "今日は何をした？>>ラーメン食べた\n"
          ]
        }
      ]
    }
  ]
}