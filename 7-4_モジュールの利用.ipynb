{
  "nbformat": 4,
  "nbformat_minor": 0,
  "metadata": {
    "colab": {
      "provenance": [],
      "authorship_tag": "ABX9TyOZNYqEFP92W215mCiNZDZR",
      "include_colab_link": true
    },
    "kernelspec": {
      "name": "python3",
      "display_name": "Python 3"
    },
    "language_info": {
      "name": "python"
    }
  },
  "cells": [
    {
      "cell_type": "markdown",
      "metadata": {
        "id": "view-in-github",
        "colab_type": "text"
      },
      "source": [
        "<a href=\"https://colab.research.google.com/github/raiforPython/python_learning/blob/chapter_7/7-4_%E3%83%A2%E3%82%B8%E3%83%A5%E3%83%BC%E3%83%AB%E3%81%AE%E5%88%A9%E7%94%A8.ipynb\" target=\"_parent\"><img src=\"https://colab.research.google.com/assets/colab-badge.svg\" alt=\"Open In Colab\"/></a>"
      ]
    },
    {
      "cell_type": "code",
      "execution_count": 2,
      "metadata": {
        "colab": {
          "base_uri": "https://localhost:8080/"
        },
        "id": "MTPtiAqH0i1_",
        "outputId": "6efdc565-81e2-4163-9b5b-ff00c5d5f5c8"
      },
      "outputs": [
        {
          "output_type": "stream",
          "name": "stdout",
          "text": [
            "円周率は3.141592653589793です\n",
            "小数点を切り捨てれば3です\n",
            "小数点を切り上げれば4です\n"
          ]
        }
      ],
      "source": [
        "# mathモジュールを利用する\n",
        "import math # mathモジュールの取り込みを宣言\n",
        "\n",
        "print(f\"円周率は{math.pi}です\") #mathモジュールの変数piを参照\n",
        "print(f\"小数点を切り捨てれば{math.floor(math.pi)}です\") # mathモジュールのfloor関数を呼び出す\n",
        "print(f\"小数点を切り上げれば{math.ceil(math.pi)}です\")  # mathモジュールのceil関数を呼び出す"
      ]
    },
    {
      "cell_type": "code",
      "source": [
        "# mathモジュールに別名を付けて利用する\n",
        "import math as m # mathモジュールの取り込みを宣言\n",
        "\n",
        "print(f\"円周率は{m.pi}です\") #mathモジュールの変数piを参照\n",
        "print(f\"小数点を切り捨てれば{m.floor(math.pi)}です\") # mathモジュールのfloor関数を呼び出す\n",
        "print(f\"小数点を切り上げれば{m.ceil(math.pi)}です\")  # mathモジュールのceil関数を呼び出す"
      ],
      "metadata": {
        "colab": {
          "base_uri": "https://localhost:8080/"
        },
        "id": "-zXEHDuV2zuY",
        "outputId": "5ae4164f-ac8f-47dd-c850-30f5b1fd2a47"
      },
      "execution_count": 3,
      "outputs": [
        {
          "output_type": "stream",
          "name": "stdout",
          "text": [
            "円周率は3.141592653589793です\n",
            "小数点を切り捨てれば3です\n",
            "小数点を切り上げれば4です\n"
          ]
        }
      ]
    },
    {
      "cell_type": "code",
      "source": [
        "# 特定の変数や関数だけを利用する\n",
        "from math import floor # mathモジュールからfloor関数を取り込む\n",
        "from math import pi  # mathモジュールから変数piを取り込む\n",
        "\n",
        "print(f\"円周率は{pi}\")   # 取り込んだ変数piを参照\n",
        "print(f\"小数点以下を切り捨てれば{floor(pi)}です\")  # 取り込んだfloor関数を参照"
      ],
      "metadata": {
        "colab": {
          "base_uri": "https://localhost:8080/"
        },
        "id": "7Za61l5q30ae",
        "outputId": "0164a923-5df5-43ae-b188-9615b0918b79"
      },
      "execution_count": 5,
      "outputs": [
        {
          "output_type": "stream",
          "name": "stdout",
          "text": [
            "円周率は3.141592653589793\n",
            "小数点以下を切り捨てれば3です\n"
          ]
        }
      ]
    },
    {
      "cell_type": "code",
      "source": [
        "# 関数名が重複すると\n",
        "from math import log  # mathモジュールからlog関数を取り込む\n",
        "\n",
        "def log(msg):  # ログ出力を行う自作のlog関数を定義\n",
        "    print(f\"{msg}を記録します\")\n",
        "log(10)  #対数を求めるつもりが、ログが出力される"
      ],
      "metadata": {
        "colab": {
          "base_uri": "https://localhost:8080/"
        },
        "id": "3ePv2_Rh4pDy",
        "outputId": "533b3a84-9b4e-48a8-b1af-1b6202af88d7"
      },
      "execution_count": 6,
      "outputs": [
        {
          "output_type": "stream",
          "name": "stdout",
          "text": [
            "10を記録します\n"
          ]
        }
      ]
    },
    {
      "cell_type": "code",
      "source": [
        "from math import log\n",
        "log(10)"
      ],
      "metadata": {
        "colab": {
          "base_uri": "https://localhost:8080/"
        },
        "id": "fd-5-rpd6CX4",
        "outputId": "c20c7947-335a-4347-feda-15a2e1bb811b"
      },
      "execution_count": 7,
      "outputs": [
        {
          "output_type": "execute_result",
          "data": {
            "text/plain": [
              "2.302585092994046"
            ]
          },
          "metadata": {},
          "execution_count": 7
        }
      ]
    },
    {
      "cell_type": "code",
      "source": [
        "#特定の変数や関数だけを別名を付けて保存する\n",
        "from math import pi as ensyuritsu\n",
        "from math import floor as kirisute\n",
        "\n",
        "print(f\"円周率は{ensyuritsu}\")\n",
        "print(f\"小数点以下を切り捨てれば{kirisute(ensyuritsu)}です\")"
      ],
      "metadata": {
        "colab": {
          "base_uri": "https://localhost:8080/"
        },
        "id": "7rRB3LXp6N0k",
        "outputId": "80a28075-9d44-4e88-949e-7438e95b32d7"
      },
      "execution_count": 10,
      "outputs": [
        {
          "output_type": "stream",
          "name": "stdout",
          "text": [
            "円周率は3.141592653589793\n",
            "小数点以下を切り捨てれば3です\n"
          ]
        }
      ]
    },
    {
      "cell_type": "code",
      "source": [
        "# ワイルドカードインポートを使ってモジュールを利用する\n",
        "from math import *  # mathモジュールのすべての変数と関数を取り込む\n",
        "\n",
        "print(f\"円周率は{pi}\")\n",
        "print(f\"小数点以下を切り捨てると{floor(pi)}です\")\n",
        "print(f\"小数点以下を切り上げると{ceil(pi)}です\")"
      ],
      "metadata": {
        "colab": {
          "base_uri": "https://localhost:8080/"
        },
        "id": "_LoKHMol7RqP",
        "outputId": "57341cb6-7886-4db6-9a41-d71eeab49a68"
      },
      "execution_count": 11,
      "outputs": [
        {
          "output_type": "stream",
          "name": "stdout",
          "text": [
            "円周率は3.141592653589793\n",
            "小数点以下を切り捨てると3です\n",
            "小数点以下を切り上げると4です\n"
          ]
        }
      ]
    }
  ]
}