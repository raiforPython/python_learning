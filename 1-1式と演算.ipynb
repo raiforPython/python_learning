{
  "nbformat": 4,
  "nbformat_minor": 0,
  "metadata": {
    "colab": {
      "provenance": [],
      "toc_visible": true,
      "authorship_tag": "ABX9TyM0izc4IlhAsXiLQM/pFGEY",
      "include_colab_link": true
    },
    "kernelspec": {
      "name": "python3",
      "display_name": "Python 3"
    },
    "language_info": {
      "name": "python"
    }
  },
  "cells": [
    {
      "cell_type": "markdown",
      "metadata": {
        "id": "view-in-github",
        "colab_type": "text"
      },
      "source": [
        "<a href=\"https://colab.research.google.com/github/raiforPython/python_learning/blob/chapter_1/1-1%E5%BC%8F%E3%81%A8%E6%BC%94%E7%AE%97.ipynb\" target=\"_parent\"><img src=\"https://colab.research.google.com/assets/colab-badge.svg\" alt=\"Open In Colab\"/></a>"
      ]
    },
    {
      "cell_type": "code",
      "execution_count": 1,
      "metadata": {
        "colab": {
          "base_uri": "https://localhost:8080/"
        },
        "id": "9zDbmmlSRM_N",
        "outputId": "2adce73c-d3ab-4a17-e57b-48a0ae42f94a"
      },
      "outputs": [
        {
          "output_type": "stream",
          "name": "stdout",
          "text": [
            "はじめまして長井ですスノボが好きです\n",
            "はじめまして\n",
            "長井です\n",
            "スノボが好きです\n",
            "引用符には'と\"があります\n"
          ]
        }
      ],
      "source": [
        "print('はじめまして長井ですスノボが好きです')\n",
        "print('はじめまして\\n長井です\\nスノボが好きです')\n",
        "print('引用符には\\'と\\\"があります')"
      ]
    },
    {
      "cell_type": "code",
      "source": [
        "print('初めまして長井です。\\\"趣味\\\"はスノボです')"
      ],
      "metadata": {
        "colab": {
          "base_uri": "https://localhost:8080/"
        },
        "id": "lWDTq1RGTm7C",
        "outputId": "1f3f74f8-9e34-47b9-e23b-a735e70ff590"
      },
      "execution_count": 2,
      "outputs": [
        {
          "output_type": "stream",
          "name": "stdout",
          "text": [
            "初めまして長井です。\"趣味\"はスノボです\n"
          ]
        }
      ]
    },
    {
      "cell_type": "code",
      "source": [
        "print('''初めまして\n",
        "長井です。\n",
        "スノボが好きです''')"
      ],
      "metadata": {
        "colab": {
          "base_uri": "https://localhost:8080/"
        },
        "id": "mct2VuDBT8u4",
        "outputId": "3b4d74fb-f948-4c4a-ddd9-8e5b010cc13c"
      },
      "execution_count": 3,
      "outputs": [
        {
          "output_type": "stream",
          "name": "stdout",
          "text": [
            "初めまして\n",
            "長井です。\n",
            "スノボが好きです\n"
          ]
        }
      ]
    },
    {
      "cell_type": "code",
      "source": [
        "print('''\n",
        "はじめまして\n",
        "長井です。\n",
        "スノボが好きです\n",
        "''')"
      ],
      "metadata": {
        "colab": {
          "base_uri": "https://localhost:8080/"
        },
        "id": "1UFeS76nUpb-",
        "outputId": "4ce154f4-f1ef-45a9-ba39-dc302736fa8c"
      },
      "execution_count": 4,
      "outputs": [
        {
          "output_type": "stream",
          "name": "stdout",
          "text": [
            "\n",
            "はじめまして\n",
            "長井です。\n",
            "スノボが好きです\n",
            "\n"
          ]
        }
      ]
    },
    {
      "cell_type": "code",
      "source": [
        "print('''\n",
        "はじめまして\n",
        "長井です。\n",
        "スノボが好きです\n",
        "'''.strip())"
      ],
      "metadata": {
        "colab": {
          "base_uri": "https://localhost:8080/"
        },
        "id": "GwDcAQczXQMB",
        "outputId": "4f2cda6d-ef62-45ff-bae4-35c6e1a9b823"
      },
      "execution_count": 5,
      "outputs": [
        {
          "output_type": "stream",
          "name": "stdout",
          "text": [
            "はじめまして\n",
            "長井です。\n",
            "スノボが好きです\n"
          ]
        }
      ]
    },
    {
      "cell_type": "code",
      "source": [
        "print(\"\"\"\n",
        "はじめまして\n",
        "長井です。\n",
        "スノボが好きです\n",
        "\"\"\")"
      ],
      "metadata": {
        "colab": {
          "base_uri": "https://localhost:8080/"
        },
        "id": "vpBz5w5fXY1r",
        "outputId": "33933f2b-1aac-48b6-8b43-e896956e0286"
      },
      "execution_count": 6,
      "outputs": [
        {
          "output_type": "stream",
          "name": "stdout",
          "text": [
            "\n",
            "はじめまして\n",
            "長井です。\n",
            "スノボが好きです\n",
            "\n"
          ]
        }
      ]
    },
    {
      "cell_type": "code",
      "source": [
        "print(\"\"\"\n",
        "はじめまして\n",
        "長井です。\n",
        "スノボが好きです\n",
        "\"\"\".strip())"
      ],
      "metadata": {
        "colab": {
          "base_uri": "https://localhost:8080/"
        },
        "id": "0_b4ulHlXlt-",
        "outputId": "129a2454-5bfa-4f10-f6eb-d245922e966e"
      },
      "execution_count": 7,
      "outputs": [
        {
          "output_type": "stream",
          "name": "stdout",
          "text": [
            "はじめまして\n",
            "長井です。\n",
            "スノボが好きです\n"
          ]
        }
      ]
    },
    {
      "cell_type": "code",
      "source": [],
      "metadata": {
        "id": "mllOQvreXsvO"
      },
      "execution_count": null,
      "outputs": []
    }
  ]
}