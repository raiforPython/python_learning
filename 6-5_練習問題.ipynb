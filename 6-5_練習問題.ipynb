{
  "nbformat": 4,
  "nbformat_minor": 0,
  "metadata": {
    "colab": {
      "provenance": [],
      "authorship_tag": "ABX9TyMJB3c/76t4x6Te0nqTMyb9",
      "include_colab_link": true
    },
    "kernelspec": {
      "name": "python3",
      "display_name": "Python 3"
    },
    "language_info": {
      "name": "python"
    }
  },
  "cells": [
    {
      "cell_type": "markdown",
      "metadata": {
        "id": "view-in-github",
        "colab_type": "text"
      },
      "source": [
        "<a href=\"https://colab.research.google.com/github/raiforPython/python_learning/blob/chapter_6/6-5_%E7%B7%B4%E7%BF%92%E5%95%8F%E9%A1%8C.ipynb\" target=\"_parent\"><img src=\"https://colab.research.google.com/assets/colab-badge.svg\" alt=\"Open In Colab\"/></a>"
      ]
    },
    {
      "cell_type": "code",
      "execution_count": 1,
      "metadata": {
        "colab": {
          "base_uri": "https://localhost:8080/"
        },
        "id": "HM1HL8vESuTx",
        "outputId": "2e170d21-0cfa-4f9e-f7ad-b79568b10da8"
      },
      "outputs": [
        {
          "output_type": "stream",
          "name": "stdout",
          "text": [
            "HelloPython\n"
          ]
        }
      ],
      "source": [
        "a = \"Python\"\n",
        "b = [1,3,5]\n",
        "class MyClass:\n",
        "    def hello(self):\n",
        "        print(\"Hello\" + a)\n",
        "c = MyClass()\n",
        "c.hello()"
      ]
    },
    {
      "cell_type": "code",
      "source": [
        "x = [\"ABC\"]\n",
        "y = [input()]\n",
        "print(x[0] == y[0])\n",
        "print(id(x[0] == y[0]))\n",
        "y = x     # ここの処理によってyとxの参照値が同じになる\n",
        "y[0] = \"XYZ\"\n",
        "print(x[0])"
      ],
      "metadata": {
        "colab": {
          "base_uri": "https://localhost:8080/"
        },
        "id": "0GQ5HMLCTj7v",
        "outputId": "b047364e-fd0b-4126-f199-7e2aa7d4ceea"
      },
      "execution_count": 2,
      "outputs": [
        {
          "output_type": "stream",
          "name": "stdout",
          "text": [
            "ABC\n",
            "True\n",
            "10545504\n",
            "XYZ\n"
          ]
        }
      ]
    },
    {
      "cell_type": "code",
      "source": [
        "# 練習6-3\n",
        "def welcome(u):\n",
        "    print(f'ようこそ{u[\"name\"]}さん')\n",
        "    u['age'] = u['age'] + 1\n",
        "    print(f'あなたは来年{u[\"age\"]}歳だから大吉です')\n",
        "\n",
        "username = input('名前をにゅうりょくしてください')\n",
        "userage = int(input('年齢を入力してください'))\n",
        "user = {'name':username,'age':userage}\n",
        "welcome(user)\n",
        "print(f'{user[\"age\"]}歳の{user[\"name\"]}さん、またプレイしてくださいね！')"
      ],
      "metadata": {
        "colab": {
          "base_uri": "https://localhost:8080/"
        },
        "id": "9ERGVJvnaoOO",
        "outputId": "99e64259-d542-49d7-9b8a-cabd7d5ed56a"
      },
      "execution_count": 5,
      "outputs": [
        {
          "output_type": "stream",
          "name": "stdout",
          "text": [
            "名前をにゅうりょくしてくださいraiki\n",
            "年齢を入力してください23\n",
            "ようこそraikiさん\n",
            "あなたは来年24歳だから大吉です\n",
            "24歳のraikiさん、またプレイしてくださいね！\n"
          ]
        }
      ]
    },
    {
      "cell_type": "code",
      "source": [
        "# 練習6-3\n",
        "def welcome(u):\n",
        "    print(f'ようこそ{u[\"name\"]}さん')\n",
        "    u['age'] = u['age'] + 1\n",
        "    print(f'あなたは来年{u[\"age\"]}歳だから大吉です')\n",
        "\n",
        "username = input('名前を入力してください>>')\n",
        "userage = int(input('年齢を入力してください>>'))\n",
        "user = {'name':username,'age':userage}\n",
        "for n in user:\n",
        "    copied_user = user[n]\n",
        "welcome(copied_user)\n",
        "print(f'{user[\"age\"]}歳の{user[\"name\"]}さん、またプレイしてくださいね！')"
      ],
      "metadata": {
        "colab": {
          "base_uri": "https://localhost:8080/",
          "height": 364
        },
        "id": "I2oL_7wyeJ3Q",
        "outputId": "af29c7be-4e1e-4f64-96a5-11d384213174"
      },
      "execution_count": 6,
      "outputs": [
        {
          "name": "stdout",
          "output_type": "stream",
          "text": [
            "名前を入力してください>>raiki\n",
            "年齢を入力してください>>23\n"
          ]
        },
        {
          "output_type": "error",
          "ename": "TypeError",
          "evalue": "'int' object is not subscriptable",
          "traceback": [
            "\u001b[0;31m---------------------------------------------------------------------------\u001b[0m",
            "\u001b[0;31mTypeError\u001b[0m                                 Traceback (most recent call last)",
            "\u001b[0;32m/tmp/ipython-input-701895547.py\u001b[0m in \u001b[0;36m<cell line: 0>\u001b[0;34m()\u001b[0m\n\u001b[1;32m     10\u001b[0m \u001b[0;32mfor\u001b[0m \u001b[0mn\u001b[0m \u001b[0;32min\u001b[0m \u001b[0muser\u001b[0m\u001b[0;34m:\u001b[0m\u001b[0;34m\u001b[0m\u001b[0;34m\u001b[0m\u001b[0m\n\u001b[1;32m     11\u001b[0m     \u001b[0mcopied_user\u001b[0m \u001b[0;34m=\u001b[0m \u001b[0muser\u001b[0m\u001b[0;34m[\u001b[0m\u001b[0mn\u001b[0m\u001b[0;34m]\u001b[0m\u001b[0;34m\u001b[0m\u001b[0;34m\u001b[0m\u001b[0m\n\u001b[0;32m---> 12\u001b[0;31m \u001b[0mwelcome\u001b[0m\u001b[0;34m(\u001b[0m\u001b[0mcopied_user\u001b[0m\u001b[0;34m)\u001b[0m\u001b[0;34m\u001b[0m\u001b[0;34m\u001b[0m\u001b[0m\n\u001b[0m\u001b[1;32m     13\u001b[0m \u001b[0mprint\u001b[0m\u001b[0;34m(\u001b[0m\u001b[0;34mf'{user[\"age\"]}歳の{user[\"name\"]}さん、またプレイしてくださいね！'\u001b[0m\u001b[0;34m)\u001b[0m\u001b[0;34m\u001b[0m\u001b[0;34m\u001b[0m\u001b[0m\n",
            "\u001b[0;32m/tmp/ipython-input-701895547.py\u001b[0m in \u001b[0;36mwelcome\u001b[0;34m(u)\u001b[0m\n\u001b[1;32m      1\u001b[0m \u001b[0;31m# 練習6-3\u001b[0m\u001b[0;34m\u001b[0m\u001b[0;34m\u001b[0m\u001b[0m\n\u001b[1;32m      2\u001b[0m \u001b[0;32mdef\u001b[0m \u001b[0mwelcome\u001b[0m\u001b[0;34m(\u001b[0m\u001b[0mu\u001b[0m\u001b[0;34m)\u001b[0m\u001b[0;34m:\u001b[0m\u001b[0;34m\u001b[0m\u001b[0;34m\u001b[0m\u001b[0m\n\u001b[0;32m----> 3\u001b[0;31m     \u001b[0mprint\u001b[0m\u001b[0;34m(\u001b[0m\u001b[0;34mf'ようこそ{u[\"name\"]}さん'\u001b[0m\u001b[0;34m)\u001b[0m\u001b[0;34m\u001b[0m\u001b[0;34m\u001b[0m\u001b[0m\n\u001b[0m\u001b[1;32m      4\u001b[0m     \u001b[0mu\u001b[0m\u001b[0;34m[\u001b[0m\u001b[0;34m'age'\u001b[0m\u001b[0;34m]\u001b[0m \u001b[0;34m=\u001b[0m \u001b[0mu\u001b[0m\u001b[0;34m[\u001b[0m\u001b[0;34m'age'\u001b[0m\u001b[0;34m]\u001b[0m \u001b[0;34m+\u001b[0m \u001b[0;36m1\u001b[0m\u001b[0;34m\u001b[0m\u001b[0;34m\u001b[0m\u001b[0m\n\u001b[1;32m      5\u001b[0m     \u001b[0mprint\u001b[0m\u001b[0;34m(\u001b[0m\u001b[0;34mf'あなたは来年{u[\"age\"]}歳だから大吉です'\u001b[0m\u001b[0;34m)\u001b[0m\u001b[0;34m\u001b[0m\u001b[0;34m\u001b[0m\u001b[0m\n",
            "\u001b[0;31mTypeError\u001b[0m: 'int' object is not subscriptable"
          ]
        }
      ]
    },
    {
      "cell_type": "code",
      "source": [
        "# 練習6-3\n",
        "def welcome(u):\n",
        "    print(f'ようこそ{u[\"name\"]}さん')\n",
        "    u['age'] = u['age'] + 1\n",
        "    print(f'あなたは来年{u[\"age\"]}歳だから大吉です')\n",
        "\n",
        "username = input('名前を入力してください>>')\n",
        "userage = int(input('年齢を入力してください>>'))\n",
        "user = {'name':username,'age':userage}\n",
        "copied_user = list()\n",
        "for n in user:\n",
        "    copied_user.append(n)\n",
        "welcome(copied_user)\n",
        "print(f'{user[\"age\"]}歳の{user[\"name\"]}さん、またプレイしてくださいね！')"
      ],
      "metadata": {
        "colab": {
          "base_uri": "https://localhost:8080/",
          "height": 364
        },
        "id": "n-8-CK0jfd7N",
        "outputId": "631d3843-2435-48c5-a5c6-60c32e5a8487"
      },
      "execution_count": 8,
      "outputs": [
        {
          "name": "stdout",
          "output_type": "stream",
          "text": [
            "名前を入力してください>>raiki\n",
            "年齢を入力してください>>23\n"
          ]
        },
        {
          "output_type": "error",
          "ename": "TypeError",
          "evalue": "list indices must be integers or slices, not str",
          "traceback": [
            "\u001b[0;31m---------------------------------------------------------------------------\u001b[0m",
            "\u001b[0;31mTypeError\u001b[0m                                 Traceback (most recent call last)",
            "\u001b[0;32m/tmp/ipython-input-1831382034.py\u001b[0m in \u001b[0;36m<cell line: 0>\u001b[0;34m()\u001b[0m\n\u001b[1;32m     11\u001b[0m \u001b[0;32mfor\u001b[0m \u001b[0mn\u001b[0m \u001b[0;32min\u001b[0m \u001b[0muser\u001b[0m\u001b[0;34m:\u001b[0m\u001b[0;34m\u001b[0m\u001b[0;34m\u001b[0m\u001b[0m\n\u001b[1;32m     12\u001b[0m     \u001b[0mcopied_user\u001b[0m\u001b[0;34m.\u001b[0m\u001b[0mappend\u001b[0m\u001b[0;34m(\u001b[0m\u001b[0mn\u001b[0m\u001b[0;34m)\u001b[0m\u001b[0;34m\u001b[0m\u001b[0;34m\u001b[0m\u001b[0m\n\u001b[0;32m---> 13\u001b[0;31m \u001b[0mwelcome\u001b[0m\u001b[0;34m(\u001b[0m\u001b[0mcopied_user\u001b[0m\u001b[0;34m)\u001b[0m\u001b[0;34m\u001b[0m\u001b[0;34m\u001b[0m\u001b[0m\n\u001b[0m\u001b[1;32m     14\u001b[0m \u001b[0mprint\u001b[0m\u001b[0;34m(\u001b[0m\u001b[0;34mf'{user[\"age\"]}歳の{user[\"name\"]}さん、またプレイしてくださいね！'\u001b[0m\u001b[0;34m)\u001b[0m\u001b[0;34m\u001b[0m\u001b[0;34m\u001b[0m\u001b[0m\n",
            "\u001b[0;32m/tmp/ipython-input-1831382034.py\u001b[0m in \u001b[0;36mwelcome\u001b[0;34m(u)\u001b[0m\n\u001b[1;32m      1\u001b[0m \u001b[0;31m# 練習6-3\u001b[0m\u001b[0;34m\u001b[0m\u001b[0;34m\u001b[0m\u001b[0m\n\u001b[1;32m      2\u001b[0m \u001b[0;32mdef\u001b[0m \u001b[0mwelcome\u001b[0m\u001b[0;34m(\u001b[0m\u001b[0mu\u001b[0m\u001b[0;34m)\u001b[0m\u001b[0;34m:\u001b[0m\u001b[0;34m\u001b[0m\u001b[0;34m\u001b[0m\u001b[0m\n\u001b[0;32m----> 3\u001b[0;31m     \u001b[0mprint\u001b[0m\u001b[0;34m(\u001b[0m\u001b[0;34mf'ようこそ{u[\"name\"]}さん'\u001b[0m\u001b[0;34m)\u001b[0m\u001b[0;34m\u001b[0m\u001b[0;34m\u001b[0m\u001b[0m\n\u001b[0m\u001b[1;32m      4\u001b[0m     \u001b[0mu\u001b[0m\u001b[0;34m[\u001b[0m\u001b[0;34m'age'\u001b[0m\u001b[0;34m]\u001b[0m \u001b[0;34m=\u001b[0m \u001b[0mu\u001b[0m\u001b[0;34m[\u001b[0m\u001b[0;34m'age'\u001b[0m\u001b[0;34m]\u001b[0m \u001b[0;34m+\u001b[0m \u001b[0;36m1\u001b[0m\u001b[0;34m\u001b[0m\u001b[0;34m\u001b[0m\u001b[0m\n\u001b[1;32m      5\u001b[0m     \u001b[0mprint\u001b[0m\u001b[0;34m(\u001b[0m\u001b[0;34mf'あなたは来年{u[\"age\"]}歳だから大吉です'\u001b[0m\u001b[0;34m)\u001b[0m\u001b[0;34m\u001b[0m\u001b[0;34m\u001b[0m\u001b[0m\n",
            "\u001b[0;31mTypeError\u001b[0m: list indices must be integers or slices, not str"
          ]
        }
      ]
    },
    {
      "cell_type": "code",
      "source": [
        "# 練習6-3\n",
        "def welcome(u):\n",
        "    print(f'ようこそ{u[\"name\"]}さん')\n",
        "    u['age'] = u['age'] + 1\n",
        "    print(f'あなたは来年{u[\"age\"]}歳だから大吉です')\n",
        "\n",
        "username = input('名前を入力してください>>')\n",
        "userage = int(input('年齢を入力してください>>'))\n",
        "user = {'name':username,'age':userage}\n",
        "copied_user = ()   # ここ変えてみた\n",
        "for n in user:\n",
        "    copied_user.append(n)\n",
        "welcome(copied_user)\n",
        "print(f'{user[\"age\"]}歳の{user[\"name\"]}さん、またプレイしてくださいね！')"
      ],
      "metadata": {
        "colab": {
          "base_uri": "https://localhost:8080/",
          "height": 255
        },
        "id": "WxP6nZCwg6IG",
        "outputId": "4984662e-983f-492e-ef2c-8eb65b926886"
      },
      "execution_count": 9,
      "outputs": [
        {
          "name": "stdout",
          "output_type": "stream",
          "text": [
            "名前を入力してください>>らいき\n",
            "年齢を入力してください>>23\n"
          ]
        },
        {
          "output_type": "error",
          "ename": "AttributeError",
          "evalue": "'set' object has no attribute 'append'",
          "traceback": [
            "\u001b[0;31m---------------------------------------------------------------------------\u001b[0m",
            "\u001b[0;31mAttributeError\u001b[0m                            Traceback (most recent call last)",
            "\u001b[0;32m/tmp/ipython-input-1247860584.py\u001b[0m in \u001b[0;36m<cell line: 0>\u001b[0;34m()\u001b[0m\n\u001b[1;32m     10\u001b[0m \u001b[0mcopied_user\u001b[0m \u001b[0;34m=\u001b[0m \u001b[0mset\u001b[0m\u001b[0;34m(\u001b[0m\u001b[0;34m)\u001b[0m   \u001b[0;31m# ここ変えてみた\u001b[0m\u001b[0;34m\u001b[0m\u001b[0;34m\u001b[0m\u001b[0m\n\u001b[1;32m     11\u001b[0m \u001b[0;32mfor\u001b[0m \u001b[0mn\u001b[0m \u001b[0;32min\u001b[0m \u001b[0muser\u001b[0m\u001b[0;34m:\u001b[0m\u001b[0;34m\u001b[0m\u001b[0;34m\u001b[0m\u001b[0m\n\u001b[0;32m---> 12\u001b[0;31m     \u001b[0mcopied_user\u001b[0m\u001b[0;34m.\u001b[0m\u001b[0mappend\u001b[0m\u001b[0;34m(\u001b[0m\u001b[0mn\u001b[0m\u001b[0;34m)\u001b[0m\u001b[0;34m\u001b[0m\u001b[0;34m\u001b[0m\u001b[0m\n\u001b[0m\u001b[1;32m     13\u001b[0m \u001b[0mwelcome\u001b[0m\u001b[0;34m(\u001b[0m\u001b[0mcopied_user\u001b[0m\u001b[0;34m)\u001b[0m\u001b[0;34m\u001b[0m\u001b[0;34m\u001b[0m\u001b[0m\n\u001b[1;32m     14\u001b[0m \u001b[0mprint\u001b[0m\u001b[0;34m(\u001b[0m\u001b[0;34mf'{user[\"age\"]}歳の{user[\"name\"]}さん、またプレイしてくださいね！'\u001b[0m\u001b[0;34m)\u001b[0m\u001b[0;34m\u001b[0m\u001b[0;34m\u001b[0m\u001b[0m\n",
            "\u001b[0;31mAttributeError\u001b[0m: 'set' object has no attribute 'append'"
          ]
        }
      ]
    },
    {
      "cell_type": "code",
      "source": [
        "# 練習6-3\n",
        "def welcome(u):\n",
        "    print(f'ようこそ{u[\"name\"]}さん')\n",
        "    u['age'] = u['age'] + 1\n",
        "    print(f'あなたは来年{u[\"age\"]}歳だから大吉です')\n",
        "\n",
        "username = input('名前を入力してください>>')\n",
        "userage = int(input('年齢を入力してください>>'))\n",
        "user = {'name':username,'age':userage}\n",
        "copied_user = {}   # ここ変えてみた\n",
        "for n in user:\n",
        "    copied_user.add(n)\n",
        "welcome(copied_user)\n",
        "print(f'{user[\"age\"]}歳の{user[\"name\"]}さん、またプレイしてくださいね！')"
      ],
      "metadata": {
        "colab": {
          "base_uri": "https://localhost:8080/",
          "height": 255
        },
        "id": "AK7lsZSMil3m",
        "outputId": "5447ff01-f334-4822-b75a-25188a78bcc2"
      },
      "execution_count": 11,
      "outputs": [
        {
          "name": "stdout",
          "output_type": "stream",
          "text": [
            "名前を入力してください>>raiki\n",
            "年齢を入力してください>>23\n"
          ]
        },
        {
          "output_type": "error",
          "ename": "AttributeError",
          "evalue": "'dict' object has no attribute 'add'",
          "traceback": [
            "\u001b[0;31m---------------------------------------------------------------------------\u001b[0m",
            "\u001b[0;31mAttributeError\u001b[0m                            Traceback (most recent call last)",
            "\u001b[0;32m/tmp/ipython-input-3556520320.py\u001b[0m in \u001b[0;36m<cell line: 0>\u001b[0;34m()\u001b[0m\n\u001b[1;32m     10\u001b[0m \u001b[0mcopied_user\u001b[0m \u001b[0;34m=\u001b[0m \u001b[0;34m{\u001b[0m\u001b[0;34m}\u001b[0m   \u001b[0;31m# ここ変えてみた\u001b[0m\u001b[0;34m\u001b[0m\u001b[0;34m\u001b[0m\u001b[0m\n\u001b[1;32m     11\u001b[0m \u001b[0;32mfor\u001b[0m \u001b[0mn\u001b[0m \u001b[0;32min\u001b[0m \u001b[0muser\u001b[0m\u001b[0;34m:\u001b[0m\u001b[0;34m\u001b[0m\u001b[0;34m\u001b[0m\u001b[0m\n\u001b[0;32m---> 12\u001b[0;31m     \u001b[0mcopied_user\u001b[0m\u001b[0;34m.\u001b[0m\u001b[0madd\u001b[0m\u001b[0;34m(\u001b[0m\u001b[0mn\u001b[0m\u001b[0;34m)\u001b[0m\u001b[0;34m\u001b[0m\u001b[0;34m\u001b[0m\u001b[0m\n\u001b[0m\u001b[1;32m     13\u001b[0m \u001b[0mwelcome\u001b[0m\u001b[0;34m(\u001b[0m\u001b[0mcopied_user\u001b[0m\u001b[0;34m)\u001b[0m\u001b[0;34m\u001b[0m\u001b[0;34m\u001b[0m\u001b[0m\n\u001b[1;32m     14\u001b[0m \u001b[0mprint\u001b[0m\u001b[0;34m(\u001b[0m\u001b[0;34mf'{user[\"age\"]}歳の{user[\"name\"]}さん、またプレイしてくださいね！'\u001b[0m\u001b[0;34m)\u001b[0m\u001b[0;34m\u001b[0m\u001b[0;34m\u001b[0m\u001b[0m\n",
            "\u001b[0;31mAttributeError\u001b[0m: 'dict' object has no attribute 'add'"
          ]
        }
      ]
    },
    {
      "cell_type": "code",
      "source": [
        "# 練習6-3\n",
        "def welcome(u):\n",
        "    print(f'ようこそ{u[\"name\"]}さん')\n",
        "    u['age'] = u['age'] + 1\n",
        "    print(f'あなたは来年{u[\"age\"]}歳だから大吉です')\n",
        "\n",
        "username = input('名前を入力してください>>')\n",
        "userage = int(input('年齢を入力してください>>'))\n",
        "user = {'name':username,'age':userage}\n",
        "copied_user = {}   # ここ変えてみた\n",
        "for n in user:\n",
        "    copied_user\n",
        "welcome(copied_user)\n",
        "print(f'{user[\"age\"]}歳の{user[\"name\"]}さん、またプレイしてくださいね！')"
      ],
      "metadata": {
        "colab": {
          "base_uri": "https://localhost:8080/",
          "height": 382
        },
        "id": "kYkBzWN0ivGb",
        "outputId": "d8f30c6b-0164-42b1-8da4-e6fc48ae16b4"
      },
      "execution_count": 13,
      "outputs": [
        {
          "output_type": "stream",
          "name": "stdout",
          "text": [
            "名前を入力してください>>raiki\n",
            "年齢を入力してください>>23\n",
            "ようこそnameさん\n"
          ]
        },
        {
          "output_type": "error",
          "ename": "TypeError",
          "evalue": "can only concatenate str (not \"int\") to str",
          "traceback": [
            "\u001b[0;31m---------------------------------------------------------------------------\u001b[0m",
            "\u001b[0;31mTypeError\u001b[0m                                 Traceback (most recent call last)",
            "\u001b[0;32m/tmp/ipython-input-957961815.py\u001b[0m in \u001b[0;36m<cell line: 0>\u001b[0;34m()\u001b[0m\n\u001b[1;32m     11\u001b[0m \u001b[0;32mfor\u001b[0m \u001b[0mn\u001b[0m \u001b[0;32min\u001b[0m \u001b[0muser\u001b[0m\u001b[0;34m:\u001b[0m\u001b[0;34m\u001b[0m\u001b[0;34m\u001b[0m\u001b[0m\n\u001b[1;32m     12\u001b[0m     \u001b[0mcopied_user\u001b[0m\u001b[0;34m[\u001b[0m\u001b[0mn\u001b[0m\u001b[0;34m]\u001b[0m \u001b[0;34m=\u001b[0m \u001b[0mn\u001b[0m\u001b[0;34m\u001b[0m\u001b[0;34m\u001b[0m\u001b[0m\n\u001b[0;32m---> 13\u001b[0;31m \u001b[0mwelcome\u001b[0m\u001b[0;34m(\u001b[0m\u001b[0mcopied_user\u001b[0m\u001b[0;34m)\u001b[0m\u001b[0;34m\u001b[0m\u001b[0;34m\u001b[0m\u001b[0m\n\u001b[0m\u001b[1;32m     14\u001b[0m \u001b[0mprint\u001b[0m\u001b[0;34m(\u001b[0m\u001b[0;34mf'{user[\"age\"]}歳の{user[\"name\"]}さん、またプレイしてくださいね！'\u001b[0m\u001b[0;34m)\u001b[0m\u001b[0;34m\u001b[0m\u001b[0;34m\u001b[0m\u001b[0m\n",
            "\u001b[0;32m/tmp/ipython-input-957961815.py\u001b[0m in \u001b[0;36mwelcome\u001b[0;34m(u)\u001b[0m\n\u001b[1;32m      2\u001b[0m \u001b[0;32mdef\u001b[0m \u001b[0mwelcome\u001b[0m\u001b[0;34m(\u001b[0m\u001b[0mu\u001b[0m\u001b[0;34m)\u001b[0m\u001b[0;34m:\u001b[0m\u001b[0;34m\u001b[0m\u001b[0;34m\u001b[0m\u001b[0m\n\u001b[1;32m      3\u001b[0m     \u001b[0mprint\u001b[0m\u001b[0;34m(\u001b[0m\u001b[0;34mf'ようこそ{u[\"name\"]}さん'\u001b[0m\u001b[0;34m)\u001b[0m\u001b[0;34m\u001b[0m\u001b[0;34m\u001b[0m\u001b[0m\n\u001b[0;32m----> 4\u001b[0;31m     \u001b[0mu\u001b[0m\u001b[0;34m[\u001b[0m\u001b[0;34m'age'\u001b[0m\u001b[0;34m]\u001b[0m \u001b[0;34m=\u001b[0m \u001b[0mu\u001b[0m\u001b[0;34m[\u001b[0m\u001b[0;34m'age'\u001b[0m\u001b[0;34m]\u001b[0m \u001b[0;34m+\u001b[0m \u001b[0;36m1\u001b[0m\u001b[0;34m\u001b[0m\u001b[0;34m\u001b[0m\u001b[0m\n\u001b[0m\u001b[1;32m      5\u001b[0m     \u001b[0mprint\u001b[0m\u001b[0;34m(\u001b[0m\u001b[0;34mf'あなたは来年{u[\"age\"]}歳だから大吉です'\u001b[0m\u001b[0;34m)\u001b[0m\u001b[0;34m\u001b[0m\u001b[0;34m\u001b[0m\u001b[0m\n\u001b[1;32m      6\u001b[0m \u001b[0;34m\u001b[0m\u001b[0m\n",
            "\u001b[0;31mTypeError\u001b[0m: can only concatenate str (not \"int\") to str"
          ]
        }
      ]
    },
    {
      "cell_type": "code",
      "source": [
        "# 練習6-3\n",
        "def welcome(u):\n",
        "    print(f'ようこそ{u[\"name\"]}さん')\n",
        "    u['age'] = u['age'] + 1\n",
        "    print(f'あなたは来年{u[\"age\"]}歳だから大吉です')\n",
        "\n",
        "username = input('名前を入力してください>>')\n",
        "userage = int(input('年齢を入力してください>>'))\n",
        "user = {'name':username,'age':userage}\n",
        "copied_user = user.copy()   # 変数が持つcopyメソッドを使えば簡単だった！\n",
        "welcome(copied_user)\n",
        "print(f'{user[\"age\"]}歳の{user[\"name\"]}さん、またプレイしてくださいね！')"
      ],
      "metadata": {
        "colab": {
          "base_uri": "https://localhost:8080/"
        },
        "id": "Y2XgBAkZlTik",
        "outputId": "c57a99a1-7f83-4675-9885-a0bb1aa4092e"
      },
      "execution_count": 18,
      "outputs": [
        {
          "output_type": "stream",
          "name": "stdout",
          "text": [
            "名前を入力してください>>ら\n",
            "年齢を入力してください>>23\n",
            "ようこそらさん\n",
            "あなたは来年24歳だから大吉です\n",
            "23歳のらさん、またプレイしてくださいね！\n"
          ]
        }
      ]
    }
  ]
}