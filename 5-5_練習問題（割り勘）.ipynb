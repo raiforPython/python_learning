{
  "nbformat": 4,
  "nbformat_minor": 0,
  "metadata": {
    "colab": {
      "provenance": [],
      "authorship_tag": "ABX9TyONrXlwZZKURduHFQJIKLdz",
      "include_colab_link": true
    },
    "kernelspec": {
      "name": "python3",
      "display_name": "Python 3"
    },
    "language_info": {
      "name": "python"
    }
  },
  "cells": [
    {
      "cell_type": "markdown",
      "metadata": {
        "id": "view-in-github",
        "colab_type": "text"
      },
      "source": [
        "<a href=\"https://colab.research.google.com/github/raiforPython/python_learning/blob/chapter_5/5-5_%E7%B7%B4%E7%BF%92%E5%95%8F%E9%A1%8C%EF%BC%88%E5%89%B2%E3%82%8A%E5%8B%98%EF%BC%89.ipynb\" target=\"_parent\"><img src=\"https://colab.research.google.com/assets/colab-badge.svg\" alt=\"Open In Colab\"/></a>"
      ]
    },
    {
      "cell_type": "code",
      "source": [
        "# 5-5(正しく動かない)\n",
        "# 計算データの入力\n",
        "def int_input(party):\n",
        "    print(f\"幹事とそれ以外の方の{party}の割り勘計算を行います\")\n",
        "    amount = int(input(\"支払総額を入力してください>>\"))\n",
        "    people = int(input(\"参加人数を入力してください>>\"))\n",
        "    return amount,people\n",
        "\n",
        "int_input(\"飲み会\")\n",
        "\n",
        "# 割り勘計算\n",
        "def calc_payment(amount,people=2):\n",
        "    dnum = amount / people # 総額を人数で割る\n",
        "    pay = dnum // 100 * 100 # 100円未満を切り捨てる\n",
        "    if dnum > pay: # 元の値と比較\n",
        "        pay = int(pay + 100) #小さければ100円未満があったので上乗せ\n",
        "    else:\n",
        "        pass\n",
        "    payorg = amount - pay * (people - 1)\n",
        "    return pay,payorg\n",
        "\n",
        "calc_payment(amount,people)\n",
        "\n",
        "# 結果の表示\n",
        "def show_payment(pay,payorg,people):\n",
        "    print(\"***支払額***\")\n",
        "    print(f\"1人あたり{pay}円（{people}人）、幹事は{payorg}円です\")\n",
        "\n",
        "show_payment(pay,payorg,people)\n",
        "\n",
        "\n"
      ],
      "metadata": {
        "colab": {
          "base_uri": "https://localhost:8080/"
        },
        "id": "isXXCc0xL3T8",
        "outputId": "6ffa7b72-457a-41a3-a5b0-e69fb86aa374"
      },
      "execution_count": 8,
      "outputs": [
        {
          "output_type": "stream",
          "name": "stdout",
          "text": [
            "幹事とそれ以外の方の飲み会の割り勘計算を行います\n",
            "支払総額を入力してください>>5000\n",
            "参加人数を入力してください>>4\n",
            "***支払額***\n",
            "1人あたり14100円（4人）、幹事は13924円です\n"
          ]
        }
      ]
    },
    {
      "cell_type": "code",
      "source": [
        "# 5-5(正しく動かない)\n",
        "# 計算データの入力\n",
        "def int_input(party):\n",
        "    print(f\"幹事とそれ以外の方の{party}の割り勘計算を行います\")\n",
        "    amount = int(input(\"支払総額を入力してください>>\"))\n",
        "    people = int(input(\"参加人数を入力してください>>\"))\n",
        "    return (amount,people)\n",
        "\n",
        "int_input(\"飲み会\")\n",
        "\n",
        "# 割り勘計算\n",
        "def calc_payment(amount,people=2):\n",
        "    dnum = amount / people # 総額を人数で割る\n",
        "    pay = dnum // 100 * 100 # 100円未満を切り捨てる\n",
        "    if dnum > pay: # 元の値と比較\n",
        "        pay = int(pay + 100) #小さければ100円未満があったので上乗せ\n",
        "    else:\n",
        "        pass\n",
        "    payorg = amount - pay * (people - 1)\n",
        "    return (pay,payorg)\n",
        "\n",
        "calc_payment(amount,people)\n",
        "\n",
        "# 結果の表示\n",
        "def show_payment(pay,payorg,people):\n",
        "    print(\"***支払額***\")\n",
        "    print(f\"1人あたり{pay}円（{people}人）、幹事は{payorg}円です\")\n",
        "\n",
        "show_payment(pay,payorg,people)"
      ],
      "metadata": {
        "colab": {
          "base_uri": "https://localhost:8080/"
        },
        "id": "pHgac1MzSzGp",
        "outputId": "58aca11a-e1b7-457d-d16d-05530dc2776e"
      },
      "execution_count": 9,
      "outputs": [
        {
          "output_type": "stream",
          "name": "stdout",
          "text": [
            "幹事とそれ以外の方の飲み会の割り勘計算を行います\n",
            "支払総額を入力してください>>10000\n",
            "参加人数を入力してください>>4\n",
            "***支払額***\n",
            "1人あたり14100円（4人）、幹事は13924円です\n"
          ]
        }
      ]
    },
    {
      "cell_type": "code",
      "source": [
        "# 5-5(正しく動かない)\n",
        "def int_input(msg):\n",
        "    return int(input(f\"{msg}を入力してください>>\"))\n",
        "\n",
        "def calc_payment(amount,people=2):\n",
        "    dnum = amount / people # 総額を人数で割る\n",
        "    pay = dnum // 100 * 100 # 100円未満を切り捨てる\n",
        "    if dnum > pay: # 元の値と比較\n",
        "        pay = int(pay + 100) #小さければ100円未満があったので上乗せ\n",
        "    else:\n",
        "        pass\n",
        "    payorg = amount - pay * (people - 1)\n",
        "    return [int(pay),int(payorg)]\n",
        "\n",
        "def show_payment(pay,payorg,people=2):\n",
        "    print(\"***支払額***\")\n",
        "    print(f\"1人あたり{pay}円（{people}人）、幹事は{payorg}円です\")\n",
        "\n",
        "# 計算データの入力\n",
        "amount = int_input(\"支払総額\")\n",
        "people = int_input(\"参加人数\")\n",
        "# 割り勘計算\n",
        "[pay,payorg] = calc_payment(amount,people)\n",
        "# 結果の表示\n",
        "show_payment(pay,payorg,people)"
      ],
      "metadata": {
        "colab": {
          "base_uri": "https://localhost:8080/"
        },
        "id": "iSUGgubgXmlF",
        "outputId": "2fc585b4-6267-4756-ed82-648a23a34a16"
      },
      "execution_count": 10,
      "outputs": [
        {
          "output_type": "stream",
          "name": "stdout",
          "text": [
            "支払総額を入力してください>>5000\n",
            "参加人数を入力してください>>6\n",
            "***支払額***\n",
            "1人あたり900円（6人）、幹事は500円です\n"
          ]
        }
      ]
    }
  ]
}