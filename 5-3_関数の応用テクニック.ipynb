{
  "nbformat": 4,
  "nbformat_minor": 0,
  "metadata": {
    "colab": {
      "provenance": [],
      "authorship_tag": "ABX9TyMV6SwMshIA5LW2y10/IU8m",
      "include_colab_link": true
    },
    "kernelspec": {
      "name": "python3",
      "display_name": "Python 3"
    },
    "language_info": {
      "name": "python"
    }
  },
  "cells": [
    {
      "cell_type": "markdown",
      "metadata": {
        "id": "view-in-github",
        "colab_type": "text"
      },
      "source": [
        "<a href=\"https://colab.research.google.com/github/raiforPython/python_learning/blob/chapter_5/5-3_%E9%96%A2%E6%95%B0%E3%81%AE%E5%BF%9C%E7%94%A8%E3%83%86%E3%82%AF%E3%83%8B%E3%83%83%E3%82%AF.ipynb\" target=\"_parent\"><img src=\"https://colab.research.google.com/assets/colab-badge.svg\" alt=\"Open In Colab\"/></a>"
      ]
    },
    {
      "cell_type": "code",
      "execution_count": 2,
      "metadata": {
        "id": "9konvdyJ8NjB"
      },
      "outputs": [],
      "source": [
        "# 2つの戻り値を返す？\n",
        "def plus_and_minus(a,b):\n",
        "    return a+b,a-b\n",
        "\n",
        "next,prev = plus_and_minus(1978,1)"
      ]
    },
    {
      "cell_type": "code",
      "source": [
        "# 戻り値のタプルをアンパック代入\n",
        "def plus_and_minus(a,b):\n",
        "    return(a+b,a-b)\n",
        "\n",
        "(next,prev) = plus_and_minus(1978,1)"
      ],
      "metadata": {
        "id": "hf5vl65K_NY7"
      },
      "execution_count": 3,
      "outputs": []
    },
    {
      "cell_type": "code",
      "source": [
        "# 松田君の食生活を表示する\n",
        "def eat(breakfast,lunch,dinner):\n",
        "    print(f\"朝は{breakfast}を食べました\")\n",
        "    print(f\"昼は{lunch}を食べました\")\n",
        "    print(f\"夜は{dinner}を食べました\")\n",
        "\n",
        "print(\"8月1日\")\n",
        "eat(\"トースト\",\"おにぎり\",\"カレー\")\n",
        "print(\"8月2日\")\n",
        "eat(\"納豆ご飯\",\"ラーメン\",\"カレー\")\n",
        "print(\"8月3日\")\n",
        "eat(\"バナナ\",\"そば\",\"焼き肉\")\n",
        "print(\"8月4日\")\n",
        "eat(\"シュウマイ弁当\",\"サンドウィッチ\",\"カレー\")"
      ],
      "metadata": {
        "colab": {
          "base_uri": "https://localhost:8080/"
        },
        "id": "KgRC8V13AmdS",
        "outputId": "899287c3-f4cf-4f5b-f8e4-2c7578dc7dd8"
      },
      "execution_count": 4,
      "outputs": [
        {
          "output_type": "stream",
          "name": "stdout",
          "text": [
            "8月1日\n",
            "朝はトーストを食べました\n",
            "昼はおにぎりを食べました\n",
            "夜はカレーを食べました\n",
            "8月2日\n",
            "朝は納豆ご飯を食べました\n",
            "昼はラーメンを食べました\n",
            "夜はカレーを食べました\n",
            "8月3日\n",
            "朝はバナナを食べました\n",
            "昼はそばを食べました\n",
            "夜は焼き肉を食べました\n",
            "8月4日\n",
            "朝はシュウマイ弁当を食べました\n",
            "昼はサンドウィッチを食べました\n",
            "夜はカレーを食べました\n"
          ]
        }
      ]
    },
    {
      "cell_type": "code",
      "source": [
        "# 松田君のいうまでもない食生活を表示する\n",
        "def eat(breakfast,lunch,dinner=\"カレー\"):\n",
        "    print(f\"朝は{breakfast}を食べました\")\n",
        "    print(f\"昼は{lunch}を食べました\")\n",
        "    print(f\"夜は{dinner}を食べました\")\n",
        "\n",
        "print(\"8月1日\")\n",
        "eat(\"トースト\",\"おにぎり\")\n",
        "print(\"8月2日\")\n",
        "eat(\"納豆ご飯\",\"ラーメン\")\n",
        "print(\"8月3日\")\n",
        "eat(\"バナナ\",\"そば\",\"焼き肉\")\n",
        "print(\"8月4日\")\n",
        "eat(\"シュウマイ弁当\",\"サンドウィッチ\")"
      ],
      "metadata": {
        "colab": {
          "base_uri": "https://localhost:8080/"
        },
        "id": "Hhw1JB22B71q",
        "outputId": "368d980a-5716-4da9-b461-17f61463bc5a"
      },
      "execution_count": 5,
      "outputs": [
        {
          "output_type": "stream",
          "name": "stdout",
          "text": [
            "8月1日\n",
            "朝はトーストを食べました\n",
            "昼はおにぎりを食べました\n",
            "夜はカレーを食べました\n",
            "8月2日\n",
            "朝は納豆ご飯を食べました\n",
            "昼はラーメンを食べました\n",
            "夜はカレーを食べました\n",
            "8月3日\n",
            "朝はバナナを食べました\n",
            "昼はそばを食べました\n",
            "夜は焼き肉を食べました\n",
            "8月4日\n",
            "朝はシュウマイ弁当を食べました\n",
            "昼はサンドウィッチを食べました\n",
            "夜はカレーを食べました\n"
          ]
        }
      ]
    },
    {
      "cell_type": "code",
      "source": [
        "# 夜がカレーじゃない日のeat関数の呼び出し\n",
        "def eat(breakfast,lunch=\"ラーメン\",dinner=\"カレー\"):\n",
        "    print(f\"朝は{breakfast}を食べました\")\n",
        "    print(f\"昼は{lunch}を食べました\")\n",
        "    print(f\"夜は{dinner}を食べました\")\n",
        "\n",
        "eat(\"納豆ご飯\",\"ラーメン\",\"カレーうどん\")"
      ],
      "metadata": {
        "colab": {
          "base_uri": "https://localhost:8080/"
        },
        "id": "9Cae9wBWDUpB",
        "outputId": "7f9710b4-4afd-42b9-a404-217b88b807c9"
      },
      "execution_count": 6,
      "outputs": [
        {
          "output_type": "stream",
          "name": "stdout",
          "text": [
            "朝は納豆ご飯を食べました\n",
            "昼はラーメンを食べました\n",
            "夜はカレーうどんを食べました\n"
          ]
        }
      ]
    },
    {
      "cell_type": "code",
      "source": [
        "# 夜がカレーじゃない日のeat関数の呼び出し（キーワード指定）\n",
        "def eat(breakfast,lunch=\"ラーメン\",dinner=\"カレー\"):\n",
        "    print(f\"朝は{breakfast}を食べました\")\n",
        "    print(f\"昼は{lunch}を食べました\")\n",
        "    print(f\"夜は{dinner}を食べました\")\n",
        "\n",
        "eat(breakfast=\"納豆ご飯\",dinner=\"カレーうどん\")\n",
        "eat(dinner=\"カレーうどん\",breakfast=\"納豆ご飯\")\n",
        "eat(\"納豆ご飯\",dinner=\"カレーうどん\")"
      ],
      "metadata": {
        "colab": {
          "base_uri": "https://localhost:8080/"
        },
        "id": "aRVLDp0eE54l",
        "outputId": "800dc9ac-e52e-4dfd-a86d-64d1deb8d3dd"
      },
      "execution_count": 7,
      "outputs": [
        {
          "output_type": "stream",
          "name": "stdout",
          "text": [
            "朝は納豆ご飯を食べました\n",
            "昼はラーメンを食べました\n",
            "夜はカレーうどんを食べました\n",
            "朝は納豆ご飯を食べました\n",
            "昼はラーメンを食べました\n",
            "夜はカレーうどんを食べました\n",
            "朝は納豆ご飯を食べました\n",
            "昼はラーメンを食べました\n",
            "夜はカレーうどんを食べました\n"
          ]
        }
      ]
    },
    {
      "cell_type": "code",
      "source": [
        "# おやつも食べた日のeat関数の呼び出し\n",
        "def eat(breakfast,lunch=\"ラーメン\",dinner=\"カレー\",desserts=()):\n",
        "    print(f\"朝は{breakfast}を食べました\")\n",
        "    print(f\"昼は{lunch}を食べました\")\n",
        "    print(f\"夜は{dinner}を食べました\")\n",
        "    for d in desserts:\n",
        "        print(f\"おやつに{d}を食べました\")\n",
        "\n",
        "eat(\"トースト\",\"パスタ\",\"カレー\",(\"アイス\",\"チョコ\",\"パフェ\"))\n"
      ],
      "metadata": {
        "colab": {
          "base_uri": "https://localhost:8080/"
        },
        "id": "C91zHFV3FiSJ",
        "outputId": "8795d7b2-4444-423a-bb6d-3a6e67dad52d"
      },
      "execution_count": 11,
      "outputs": [
        {
          "output_type": "stream",
          "name": "stdout",
          "text": [
            "朝はトーストを食べました\n",
            "昼はパスタを食べました\n",
            "夜はカレーを食べました\n",
            "おやつにアイスを食べました\n",
            "おやつにチョコを食べました\n",
            "おやつにパフェを食べました\n"
          ]
        }
      ]
    },
    {
      "cell_type": "code",
      "source": [
        "# おやつも食べた日のeat関数の呼び出し\n",
        "def eat(breakfast,lunch=\"ラーメン\",dinner=\"カレー\",*desserts):\n",
        "    print(f\"朝は{breakfast}を食べました\")\n",
        "    print(f\"昼は{lunch}を食べました\")\n",
        "    print(f\"夜は{dinner}を食べました\")\n",
        "    for d in desserts:\n",
        "        print(f\"おやつに{d}を食べました\")\n",
        "\n",
        "eat(\"トースト\",\"パスタ\",\"カレー\",\"アイス\",\"チョコ\",\"カレー\")\n"
      ],
      "metadata": {
        "colab": {
          "base_uri": "https://localhost:8080/"
        },
        "id": "fMxllbPgIPKF",
        "outputId": "77e448dc-9927-4b23-d122-25416e1910a7"
      },
      "execution_count": 12,
      "outputs": [
        {
          "output_type": "stream",
          "name": "stdout",
          "text": [
            "朝はトーストを食べました\n",
            "昼はパスタを食べました\n",
            "夜はカレーを食べました\n",
            "おやつにアイスを食べました\n",
            "おやつにチョコを食べました\n",
            "おやつにカレーを食べました\n"
          ]
        }
      ]
    },
    {
      "cell_type": "code",
      "source": [],
      "metadata": {
        "id": "zTFhM5vXIrlF"
      },
      "execution_count": null,
      "outputs": []
    }
  ]
}