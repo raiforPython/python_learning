{
  "nbformat": 4,
  "nbformat_minor": 0,
  "metadata": {
    "colab": {
      "provenance": [],
      "authorship_tag": "ABX9TyOXYH8D9Ap6w0XoFs/9W4ap",
      "include_colab_link": true
    },
    "kernelspec": {
      "name": "python3",
      "display_name": "Python 3"
    },
    "language_info": {
      "name": "python"
    }
  },
  "cells": [
    {
      "cell_type": "markdown",
      "metadata": {
        "id": "view-in-github",
        "colab_type": "text"
      },
      "source": [
        "<a href=\"https://colab.research.google.com/github/raiforPython/python_learning/blob/chapter_3/3-2_%E6%9D%A1%E4%BB%B6%E5%88%86%E5%B2%90%E3%81%AE%E5%9F%BA%E6%9C%AC%E6%A7%8B%E9%80%A0.ipynb\" target=\"_parent\"><img src=\"https://colab.research.google.com/assets/colab-badge.svg\" alt=\"Open In Colab\"/></a>"
      ]
    },
    {
      "cell_type": "code",
      "source": [
        "name = input(\"あなたの名前を教えてください>\")\n",
        "print(f\"{name}さん、こんにちは！\")\n",
        "food = input(f\"{name}さんの好きな食べ物を教えてください>\")\n",
        "print(f\"私も{food}が好きですよ\")"
      ],
      "metadata": {
        "colab": {
          "base_uri": "https://localhost:8080/"
        },
        "id": "Gq3ASyDqN3NY",
        "outputId": "652dc280-e9cb-4c9a-8a3a-b9d0ce310fb9"
      },
      "execution_count": 2,
      "outputs": [
        {
          "output_type": "stream",
          "name": "stdout",
          "text": [
            "あなたの名前を教えてください>nagai\n",
            "nagaiさん、こんにちは！\n",
            "nagaiさんの好きな食べ物を教えてください>カレー\n",
            "私もカレーが好きですよ\n"
          ]
        }
      ]
    },
    {
      "cell_type": "code",
      "source": [
        "# 答えが分岐するチャットボット\n",
        "name = input(\"あなたの名前を教えてください\")\n",
        "print(f\"{name}さん、こんにちは！\")\n",
        "food = input(f\"{name}さんの好きな食べ物を教えてください\")\n",
        "if food ==\"カレー\":\n",
        "    print(\"素敵です。カレーは最高ですよね！\")\n",
        "else:\n",
        "    print(f\"私も{food}が好きですよ\")"
      ],
      "metadata": {
        "colab": {
          "base_uri": "https://localhost:8080/"
        },
        "id": "xuiXMwi2OfbK",
        "outputId": "4afc71e7-ec84-47f5-c2b5-fb57e2026ab6"
      },
      "execution_count": 3,
      "outputs": [
        {
          "output_type": "stream",
          "name": "stdout",
          "text": [
            "あなたの名前を教えてください長井\n",
            "長井さん、こんにちは！\n",
            "長井さんの好きな食べ物を教えてください寿司\n",
            "私も寿司が好きですよ\n"
          ]
        }
      ]
    },
    {
      "cell_type": "code",
      "source": [
        "# 常に追試を受けることになる判定プログラム\n",
        "score = int(input(\"試験の点数を入力してください>\"))\n",
        "if score >= 60:\n",
        "  print(\"合格\")\n",
        "  print(\"よく頑張りましたね\")\n",
        "else:\n",
        "  print(\"残念ながら不合格です\")\n",
        "  print(\"追試を受けてください\")"
      ],
      "metadata": {
        "colab": {
          "base_uri": "https://localhost:8080/"
        },
        "id": "2Hj3Na67QPnD",
        "outputId": "9d904793-584d-4666-9d7d-da2904bfe4ec"
      },
      "execution_count": 4,
      "outputs": [
        {
          "output_type": "stream",
          "name": "stdout",
          "text": [
            "試験の点数を入力してください>50\n",
            "残念ながら不合格です\n",
            "追試を受けてください\n"
          ]
        }
      ]
    },
    {
      "cell_type": "code",
      "source": [
        "# 常に追試を受けることになる判定プログラム\n",
        "score = int(input(\"試験の点数を入力してください>\"))\n",
        "if score >= 60:\n",
        "  print(\"合格\")\n",
        "  print(\"よく頑張りましたね\")\n",
        "else:\n",
        "  print(\"残念ながら不合格です\")\n",
        "  print(\"追試を受けてください\")"
      ],
      "metadata": {
        "colab": {
          "base_uri": "https://localhost:8080/"
        },
        "id": "8UXbreinR6vU",
        "outputId": "bdcbfd63-2ffe-4b4e-f9fb-407144ab14da"
      },
      "execution_count": 5,
      "outputs": [
        {
          "output_type": "stream",
          "name": "stdout",
          "text": [
            "試験の点数を入力してください>80\n",
            "合格\n",
            "よく頑張りましたね\n"
          ]
        }
      ]
    },
    {
      "cell_type": "code",
      "source": [
        "# 常に追試を受けることになる判定プログラム\n",
        "score = int(input(\"試験の点数を入力してください>\"))\n",
        "if score >= 60:\n",
        "  print(\"合格\")\n",
        "  print(\"よく頑張りましたね\")\n",
        "else:\n",
        "  print(\"残念ながら不合格です\")\n",
        "print(\"追試を受けてください\") # インデントに問題あり、Pythonではブロックの範囲をインデント（字下げ）で示す必要がある（他言語ではそうでないことが多い。Python特有）"
      ],
      "metadata": {
        "colab": {
          "base_uri": "https://localhost:8080/"
        },
        "id": "TpXRH0znR92Y",
        "outputId": "759d0086-9c4c-4105-81cc-f0feb703f217"
      },
      "execution_count": 6,
      "outputs": [
        {
          "output_type": "stream",
          "name": "stdout",
          "text": [
            "試験の点数を入力してください>80\n",
            "合格\n",
            "よく頑張りましたね\n",
            "追試を受けてください\n"
          ]
        }
      ]
    },
    {
      "cell_type": "code",
      "source": [],
      "metadata": {
        "id": "_LTmzFweSWZg"
      },
      "execution_count": null,
      "outputs": []
    }
  ]
}