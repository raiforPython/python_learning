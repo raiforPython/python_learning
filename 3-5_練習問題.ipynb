{
  "nbformat": 4,
  "nbformat_minor": 0,
  "metadata": {
    "colab": {
      "provenance": [],
      "authorship_tag": "ABX9TyMYOWANxTnu/GPKxVOf/AMu",
      "include_colab_link": true
    },
    "kernelspec": {
      "name": "python3",
      "display_name": "Python 3"
    },
    "language_info": {
      "name": "python"
    }
  },
  "cells": [
    {
      "cell_type": "markdown",
      "metadata": {
        "id": "view-in-github",
        "colab_type": "text"
      },
      "source": [
        "<a href=\"https://colab.research.google.com/github/raiforPython/python_learning/blob/chapter_3/3-5_%E7%B7%B4%E7%BF%92%E5%95%8F%E9%A1%8C.ipynb\" target=\"_parent\"><img src=\"https://colab.research.google.com/assets/colab-badge.svg\" alt=\"Open In Colab\"/></a>"
      ]
    },
    {
      "cell_type": "code",
      "source": [
        "# 練習3-2\n",
        "initial == \"K\" # 正解\n",
        "\n",
        "80 <= point and point < 256 # 正解\n",
        "\n",
        "bmi < 20 or 25< bmi # 正解\n",
        "\n",
        "year / 4 == 0 # 不正解\n",
        "\n",
        "day /= 28 or 30 or 31 # 不正解"
      ],
      "metadata": {
        "id": "bgZlIWArzUWs"
      },
      "execution_count": null,
      "outputs": []
    },
    {
      "cell_type": "code",
      "source": [
        "yaer * 4 == 0\n",
        "\n",
        "not (day in[28,30,31])"
      ],
      "metadata": {
        "id": "nATEu2nx2Mt3"
      },
      "execution_count": null,
      "outputs": []
    },
    {
      "cell_type": "code",
      "source": [
        "isError = input(\"数字か挨拶を入力して下さい>\")\n",
        "if isError == False and isError < 100:\n",
        "    print(isError)\n",
        "    if isError % 2 == 0:\n",
        "      print(\"偶数です\")\n",
        "    elif isError % 2 == 1:\n",
        "      print(\"奇数です\")\n",
        "    elif isError ==\"こんにちは\" or \"Hello\":\n",
        "      print(\"ようこそ\")\n",
        "    elif isError ==\"景気は？\":\n",
        "      print(\"ぼちぼちです\")\n",
        "    elif isError ==\"さようなら\":\n",
        "      print(\"お元気で！\")\n",
        "else:\n",
        " print(\"どうしました？\")"
      ],
      "metadata": {
        "colab": {
          "base_uri": "https://localhost:8080/"
        },
        "id": "zLtTb4aW2nSn",
        "outputId": "fd9b1b48-4768-4471-a313-898a17c55a14"
      },
      "execution_count": 17,
      "outputs": [
        {
          "output_type": "stream",
          "name": "stdout",
          "text": [
            "数字か挨拶を入力して下さい>80\n",
            "どうしました？\n"
          ]
        }
      ]
    },
    {
      "cell_type": "code",
      "source": [
        "isError = input(\"数字か挨拶を入力して下さい>\")\n",
        "if isError < 100:\n",
        "    print(isError)\n",
        "    if isError % 2 == 0:\n",
        "      print(\"偶数です\")\n",
        "    elif isError % 2 == 1:\n",
        "      print(\"奇数です\")\n",
        "    elif isError ==\"こんにちは\" or \"Hello\":\n",
        "      print(\"ようこそ\")\n",
        "    elif isError ==\"景気は？\":\n",
        "      print(\"ぼちぼちです\")\n",
        "    elif isError ==\"さようなら\":\n",
        "      print(\"お元気で！\")\n",
        "else:\n",
        " print(\"どうしました？\")"
      ],
      "metadata": {
        "colab": {
          "base_uri": "https://localhost:8080/",
          "height": 237
        },
        "id": "y3yoiPgG7zz8",
        "outputId": "1e1a7718-a60e-4675-856f-dffd006dbae2"
      },
      "execution_count": 18,
      "outputs": [
        {
          "name": "stdout",
          "output_type": "stream",
          "text": [
            "数字か挨拶を入力して下さい>80\n"
          ]
        },
        {
          "output_type": "error",
          "ename": "TypeError",
          "evalue": "'<' not supported between instances of 'str' and 'int'",
          "traceback": [
            "\u001b[0;31m---------------------------------------------------------------------------\u001b[0m",
            "\u001b[0;31mTypeError\u001b[0m                                 Traceback (most recent call last)",
            "\u001b[0;32m/tmp/ipython-input-1993306580.py\u001b[0m in \u001b[0;36m<cell line: 0>\u001b[0;34m()\u001b[0m\n\u001b[1;32m      1\u001b[0m \u001b[0misError\u001b[0m \u001b[0;34m=\u001b[0m \u001b[0minput\u001b[0m\u001b[0;34m(\u001b[0m\u001b[0;34m\"数字か挨拶を入力して下さい>\"\u001b[0m\u001b[0;34m)\u001b[0m\u001b[0;34m\u001b[0m\u001b[0;34m\u001b[0m\u001b[0m\n\u001b[0;32m----> 2\u001b[0;31m \u001b[0;32mif\u001b[0m \u001b[0misError\u001b[0m \u001b[0;34m<\u001b[0m \u001b[0;36m100\u001b[0m\u001b[0;34m:\u001b[0m\u001b[0;34m\u001b[0m\u001b[0;34m\u001b[0m\u001b[0m\n\u001b[0m\u001b[1;32m      3\u001b[0m     \u001b[0mprint\u001b[0m\u001b[0;34m(\u001b[0m\u001b[0misError\u001b[0m\u001b[0;34m)\u001b[0m\u001b[0;34m\u001b[0m\u001b[0;34m\u001b[0m\u001b[0m\n\u001b[1;32m      4\u001b[0m     \u001b[0;32mif\u001b[0m \u001b[0misError\u001b[0m \u001b[0;34m%\u001b[0m \u001b[0;36m2\u001b[0m \u001b[0;34m==\u001b[0m \u001b[0;36m0\u001b[0m\u001b[0;34m:\u001b[0m\u001b[0;34m\u001b[0m\u001b[0;34m\u001b[0m\u001b[0m\n\u001b[1;32m      5\u001b[0m       \u001b[0mprint\u001b[0m\u001b[0;34m(\u001b[0m\u001b[0;34m\"偶数です\"\u001b[0m\u001b[0;34m)\u001b[0m\u001b[0;34m\u001b[0m\u001b[0;34m\u001b[0m\u001b[0m\n",
            "\u001b[0;31mTypeError\u001b[0m: '<' not supported between instances of 'str' and 'int'"
          ]
        }
      ]
    },
    {
      "cell_type": "code",
      "source": [
        "isError = int(input(\"数字か挨拶を入力して下さい>\"))\n",
        "if isError < 100:\n",
        "    print(isError)\n",
        "    if isError % 2 == 0:\n",
        "      print(\"偶数です\")\n",
        "    elif isError % 2 == 1:\n",
        "      print(\"奇数です\")\n",
        "    elif isError ==\"こんにちは\" or \"Hello\":\n",
        "      print(\"ようこそ\")\n",
        "    elif isError ==\"景気は？\":\n",
        "      print(\"ぼちぼちです\")\n",
        "    elif isError ==\"さようなら\":\n",
        "      print(\"お元気で！\")\n",
        "else:\n",
        " print(\"どうしました？\")"
      ],
      "metadata": {
        "colab": {
          "base_uri": "https://localhost:8080/",
          "height": 237
        },
        "id": "8LQW3alj8gnD",
        "outputId": "ebeb4f1e-6d33-4159-8d38-324c1f022dad"
      },
      "execution_count": 21,
      "outputs": [
        {
          "name": "stdout",
          "output_type": "stream",
          "text": [
            "数字か挨拶を入力して下さい>Hello\n"
          ]
        },
        {
          "output_type": "error",
          "ename": "ValueError",
          "evalue": "invalid literal for int() with base 10: 'Hello'",
          "traceback": [
            "\u001b[0;31m---------------------------------------------------------------------------\u001b[0m",
            "\u001b[0;31mValueError\u001b[0m                                Traceback (most recent call last)",
            "\u001b[0;32m/tmp/ipython-input-990917233.py\u001b[0m in \u001b[0;36m<cell line: 0>\u001b[0;34m()\u001b[0m\n\u001b[0;32m----> 1\u001b[0;31m \u001b[0misError\u001b[0m \u001b[0;34m=\u001b[0m \u001b[0mint\u001b[0m\u001b[0;34m(\u001b[0m\u001b[0minput\u001b[0m\u001b[0;34m(\u001b[0m\u001b[0;34m\"数字か挨拶を入力して下さい>\"\u001b[0m\u001b[0;34m)\u001b[0m\u001b[0;34m)\u001b[0m\u001b[0;34m\u001b[0m\u001b[0;34m\u001b[0m\u001b[0m\n\u001b[0m\u001b[1;32m      2\u001b[0m \u001b[0;32mif\u001b[0m \u001b[0misError\u001b[0m \u001b[0;34m<\u001b[0m \u001b[0;36m100\u001b[0m\u001b[0;34m:\u001b[0m\u001b[0;34m\u001b[0m\u001b[0;34m\u001b[0m\u001b[0m\n\u001b[1;32m      3\u001b[0m     \u001b[0mprint\u001b[0m\u001b[0;34m(\u001b[0m\u001b[0misError\u001b[0m\u001b[0;34m)\u001b[0m\u001b[0;34m\u001b[0m\u001b[0;34m\u001b[0m\u001b[0m\n\u001b[1;32m      4\u001b[0m     \u001b[0;32mif\u001b[0m \u001b[0misError\u001b[0m \u001b[0;34m%\u001b[0m \u001b[0;36m2\u001b[0m \u001b[0;34m==\u001b[0m \u001b[0;36m0\u001b[0m\u001b[0;34m:\u001b[0m\u001b[0;34m\u001b[0m\u001b[0;34m\u001b[0m\u001b[0m\n\u001b[1;32m      5\u001b[0m       \u001b[0mprint\u001b[0m\u001b[0;34m(\u001b[0m\u001b[0;34m\"偶数です\"\u001b[0m\u001b[0;34m)\u001b[0m\u001b[0;34m\u001b[0m\u001b[0;34m\u001b[0m\u001b[0m\n",
            "\u001b[0;31mValueError\u001b[0m: invalid literal for int() with base 10: 'Hello'"
          ]
        }
      ]
    },
    {
      "cell_type": "code",
      "source": [
        "isError = input(\"数字か挨拶を入力して下さい>\")\n",
        "if (isError) < 100:\n",
        "    print(isError)\n",
        "    if int(isError) % 2 == 0:\n",
        "      print(\"偶数です\")\n",
        "    elif int(isError) % 2 == 1:\n",
        "      print(\"奇数です\")\n",
        "elif str(isError) ==\"こんにちは\" or \"Hello\":\n",
        "      print(\"ようこそ\")\n",
        "elif str(isError) ==\"景気は？\":\n",
        "      print(\"ぼちぼちです\")\n",
        "elif str(isError) ==\"さようなら\":\n",
        "      print(\"お元気で！\")\n",
        "else:\n",
        " print(\"どうしました？\")"
      ],
      "metadata": {
        "colab": {
          "base_uri": "https://localhost:8080/",
          "height": 237
        },
        "id": "zG3yS5GZ8nK6",
        "outputId": "9fc92334-d684-4227-d1fb-b46eef69cd31"
      },
      "execution_count": 30,
      "outputs": [
        {
          "name": "stdout",
          "output_type": "stream",
          "text": [
            "数字か挨拶を入力して下さい>80\n"
          ]
        },
        {
          "output_type": "error",
          "ename": "TypeError",
          "evalue": "'<' not supported between instances of 'str' and 'int'",
          "traceback": [
            "\u001b[0;31m---------------------------------------------------------------------------\u001b[0m",
            "\u001b[0;31mTypeError\u001b[0m                                 Traceback (most recent call last)",
            "\u001b[0;32m/tmp/ipython-input-2403159662.py\u001b[0m in \u001b[0;36m<cell line: 0>\u001b[0;34m()\u001b[0m\n\u001b[1;32m      1\u001b[0m \u001b[0misError\u001b[0m \u001b[0;34m=\u001b[0m \u001b[0minput\u001b[0m\u001b[0;34m(\u001b[0m\u001b[0;34m\"数字か挨拶を入力して下さい>\"\u001b[0m\u001b[0;34m)\u001b[0m\u001b[0;34m\u001b[0m\u001b[0;34m\u001b[0m\u001b[0m\n\u001b[0;32m----> 2\u001b[0;31m \u001b[0;32mif\u001b[0m \u001b[0;34m(\u001b[0m\u001b[0misError\u001b[0m\u001b[0;34m)\u001b[0m \u001b[0;34m<\u001b[0m \u001b[0;36m100\u001b[0m\u001b[0;34m:\u001b[0m\u001b[0;34m\u001b[0m\u001b[0;34m\u001b[0m\u001b[0m\n\u001b[0m\u001b[1;32m      3\u001b[0m     \u001b[0mprint\u001b[0m\u001b[0;34m(\u001b[0m\u001b[0misError\u001b[0m\u001b[0;34m)\u001b[0m\u001b[0;34m\u001b[0m\u001b[0;34m\u001b[0m\u001b[0m\n\u001b[1;32m      4\u001b[0m     \u001b[0;32mif\u001b[0m \u001b[0mint\u001b[0m\u001b[0;34m(\u001b[0m\u001b[0misError\u001b[0m\u001b[0;34m)\u001b[0m \u001b[0;34m%\u001b[0m \u001b[0;36m2\u001b[0m \u001b[0;34m==\u001b[0m \u001b[0;36m0\u001b[0m\u001b[0;34m:\u001b[0m\u001b[0;34m\u001b[0m\u001b[0;34m\u001b[0m\u001b[0m\n\u001b[1;32m      5\u001b[0m       \u001b[0mprint\u001b[0m\u001b[0;34m(\u001b[0m\u001b[0;34m\"偶数です\"\u001b[0m\u001b[0;34m)\u001b[0m\u001b[0;34m\u001b[0m\u001b[0;34m\u001b[0m\u001b[0m\n",
            "\u001b[0;31mTypeError\u001b[0m: '<' not supported between instances of 'str' and 'int'"
          ]
        }
      ]
    },
    {
      "cell_type": "code",
      "source": [
        "# 練習3-3(1)\n",
        "is_error = False\n",
        "n_str = input(\"1以上100以下で数字を入力してください>\")\n",
        "try:\n",
        "    n = int(n_str)\n",
        "    if n < 1 or n > 100:\n",
        "        is_error = True\n",
        "except ValueError:\n",
        "    is_error = True\n",
        "\n",
        "if not is_error:\n",
        "  if n % 2 == 0:\n",
        "    print(\"偶数です\")\n",
        "  elif n % 2 == 1:\n",
        "    print(\"奇数です\")\n",
        "else:\n",
        "  print(\"数字を入力しなおしてください\")"
      ],
      "metadata": {
        "colab": {
          "base_uri": "https://localhost:8080/",
          "height": 237
        },
        "id": "-6kDkaPR9OD7",
        "outputId": "9668b3a6-70df-4c0e-d622-037b9925e9ac"
      },
      "execution_count": 35,
      "outputs": [
        {
          "output_type": "stream",
          "name": "stdout",
          "text": [
            "1以上100以下で数字を入力してください\n"
          ]
        },
        {
          "output_type": "error",
          "ename": "TypeError",
          "evalue": "int() argument must be a string, a bytes-like object or a real number, not 'NoneType'",
          "traceback": [
            "\u001b[0;31m---------------------------------------------------------------------------\u001b[0m",
            "\u001b[0;31mTypeError\u001b[0m                                 Traceback (most recent call last)",
            "\u001b[0;32m/tmp/ipython-input-695429551.py\u001b[0m in \u001b[0;36m<cell line: 0>\u001b[0;34m()\u001b[0m\n\u001b[1;32m      1\u001b[0m \u001b[0;31m# 練習3-3(1)\u001b[0m\u001b[0;34m\u001b[0m\u001b[0;34m\u001b[0m\u001b[0m\n\u001b[1;32m      2\u001b[0m \u001b[0misError\u001b[0m \u001b[0;34m=\u001b[0m\u001b[0;34m\"False\"\u001b[0m\u001b[0;34m\u001b[0m\u001b[0;34m\u001b[0m\u001b[0m\n\u001b[0;32m----> 3\u001b[0;31m \u001b[0mn\u001b[0m \u001b[0;34m=\u001b[0m \u001b[0mint\u001b[0m\u001b[0;34m(\u001b[0m\u001b[0mprint\u001b[0m\u001b[0;34m(\u001b[0m\u001b[0;34m\"1以上100以下で数字を入力してください\"\u001b[0m\u001b[0;34m)\u001b[0m\u001b[0;34m)\u001b[0m\u001b[0;34m\u001b[0m\u001b[0;34m\u001b[0m\u001b[0m\n\u001b[0m\u001b[1;32m      4\u001b[0m \u001b[0;32mif\u001b[0m \u001b[0misError\u001b[0m \u001b[0;34m==\u001b[0m \u001b[0;34m\"False\"\u001b[0m \u001b[0;32mand\u001b[0m \u001b[0mn\u001b[0m \u001b[0;34m<\u001b[0m \u001b[0;36m100\u001b[0m\u001b[0;34m:\u001b[0m\u001b[0;34m\u001b[0m\u001b[0;34m\u001b[0m\u001b[0m\n\u001b[1;32m      5\u001b[0m   \u001b[0;32mif\u001b[0m \u001b[0mn\u001b[0m \u001b[0;34m%\u001b[0m \u001b[0;36m2\u001b[0m \u001b[0;34m==\u001b[0m \u001b[0;36m0\u001b[0m\u001b[0;34m:\u001b[0m\u001b[0;34m\u001b[0m\u001b[0;34m\u001b[0m\u001b[0m\n",
            "\u001b[0;31mTypeError\u001b[0m: int() argument must be a string, a bytes-like object or a real number, not 'NoneType'"
          ]
        }
      ]
    },
    {
      "cell_type": "code",
      "source": [
        "isError= input(\"真偽値を「True」か「False」で入力してください\")\n",
        "n = int(input(\"数字を入力してください\"))"
      ],
      "metadata": {
        "id": "Ag47b7DpDxLE",
        "outputId": "97ff525a-89ab-4b3e-ff24-683c27c81680",
        "colab": {
          "base_uri": "https://localhost:8080/"
        }
      },
      "execution_count": 36,
      "outputs": [
        {
          "name": "stdout",
          "output_type": "stream",
          "text": [
            "真偽値を「True」か「False」で入力してくださいFalse\n",
            "数字を入力してください80\n"
          ]
        }
      ]
    },
    {
      "cell_type": "code",
      "source": [
        "# 練習3-3（1）\n",
        "isError= input(\"真偽値を「True」か「False」で入力してください\")\n",
        "n = int(input(\"数字を入力してください\"))\n",
        "if isError ==\"False\" and n < 100:\n",
        "    print(\"コードに問題はありません\")"
      ],
      "metadata": {
        "id": "yvzxbmY2EtDl",
        "outputId": "0037f4bb-0ddd-4a62-92e7-6d71456c947f",
        "colab": {
          "base_uri": "https://localhost:8080/"
        }
      },
      "execution_count": 39,
      "outputs": [
        {
          "output_type": "stream",
          "name": "stdout",
          "text": [
            "真偽値を「True」か「False」で入力してくださいFalse\n",
            "数字を入力してください80\n",
            "コードに問題はありません\n"
          ]
        }
      ]
    },
    {
      "cell_type": "code",
      "source": [
        "# 練習3-3（2）\n",
        "n = int(input(\"数字を入力してください＞\"))\n",
        "if n % 2 == 0:\n",
        "  print(\"偶数です\")\n",
        "else:\n",
        "  print(\"奇数です\")"
      ],
      "metadata": {
        "id": "GvIr8YoIFBtt",
        "outputId": "e0043905-6b3f-4297-8418-ec2bb517ed39",
        "colab": {
          "base_uri": "https://localhost:8080/"
        }
      },
      "execution_count": 43,
      "outputs": [
        {
          "output_type": "stream",
          "name": "stdout",
          "text": [
            "数字を入力してください＞80\n",
            "偶数です\n"
          ]
        }
      ]
    },
    {
      "cell_type": "code",
      "source": [
        "# 練習3-4\n",
        "month = int(input(\"今は何月ですか？（数字を入力）　>>\"))\n",
        "if month in [1,3,5,7,8,10,12]:\n",
        "    print(\"31日までありますね\")\n",
        "else:\n",
        "    if month !=2:\n",
        "      print(\"30日までありますね\")\n",
        "    else:\n",
        "      print(\"1年で最も寒い月ですね\")\n",
        "print(\"年が明けてから\")\n",
        "print(f\"{month}か月が過ぎました\")"
      ],
      "metadata": {
        "id": "RC-Orsc7IQ_F",
        "outputId": "99744d37-715c-4a89-95ae-4854789cee70",
        "colab": {
          "base_uri": "https://localhost:8080/"
        }
      },
      "execution_count": 52,
      "outputs": [
        {
          "output_type": "stream",
          "name": "stdout",
          "text": [
            "今は何月ですか？（数字を入力）　>>12\n",
            "31日までありますね\n",
            "年が明けてから\n",
            "12か月が過ぎました\n"
          ]
        }
      ]
    },
    {
      "cell_type": "code",
      "source": [],
      "metadata": {
        "id": "LdzTt57hJ6Vu"
      },
      "execution_count": null,
      "outputs": []
    }
  ]
}