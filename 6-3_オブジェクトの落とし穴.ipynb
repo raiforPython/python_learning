{
  "nbformat": 4,
  "nbformat_minor": 0,
  "metadata": {
    "colab": {
      "provenance": [],
      "authorship_tag": "ABX9TyMQKXDdxoBWvnBSw23pUaFb",
      "include_colab_link": true
    },
    "kernelspec": {
      "name": "python3",
      "display_name": "Python 3"
    },
    "language_info": {
      "name": "python"
    }
  },
  "cells": [
    {
      "cell_type": "markdown",
      "metadata": {
        "id": "view-in-github",
        "colab_type": "text"
      },
      "source": [
        "<a href=\"https://colab.research.google.com/github/raiforPython/python_learning/blob/chapter_6/6-3_%E3%82%AA%E3%83%96%E3%82%B8%E3%82%A7%E3%82%AF%E3%83%88%E3%81%AE%E8%90%BD%E3%81%A8%E3%81%97%E7%A9%B4.ipynb\" target=\"_parent\"><img src=\"https://colab.research.google.com/assets/colab-badge.svg\" alt=\"Open In Colab\"/></a>"
      ]
    },
    {
      "cell_type": "code",
      "execution_count": null,
      "metadata": {
        "colab": {
          "base_uri": "https://localhost:8080/"
        },
        "id": "wTFWYG2WwbwQ",
        "outputId": "316d8382-a680-4b5b-9586-e360e3250ba5"
      },
      "outputs": [
        {
          "output_type": "stream",
          "name": "stdout",
          "text": [
            "scores1のidentity:136459772774720\n",
            "scores2のidentity:136459772774400\n",
            "scores1とscores2は同じ内容です\n",
            "scores1とscores2は違う内容です\n"
          ]
        }
      ],
      "source": [
        "# オブジェクトのidentityを確認\n",
        "scores1 = [80,40,50]\n",
        "scores2 = [80,40,50]\n",
        "print(f\"scores1のidentity:{id(scores1)}\")\n",
        "print(f\"scores2のidentity:{id(scores2)}\")\n",
        "\n",
        "if scores1 == scores2:    # 等価判定\n",
        "    print(\"scores1とscores2は同じ内容です\")\n",
        "else:\n",
        "    print(\"scores1とscores2は違う内容です\")\n",
        "\n",
        "if id(scores1) == id(scores2):          # 等値判定\n",
        "    print(\"scores1とscores2は同じ内容です\")\n",
        "else:\n",
        "    print(\"scores1とscores2は違う内容です\")"
      ]
    },
    {
      "cell_type": "code",
      "source": [
        "# リストオブジェクトのコピーによる不可解な動作\n",
        "scores1 = [80,40,50]\n",
        "scores2 = [80,40,50]\n",
        "print(f\"scores1の先頭の要素は{scores1[0]}\")\n",
        "print(f\"scores2の先頭の要素は{scores2[0]}\")\n",
        "\n",
        "print(\"変数scores2の中身を変数scores1に代入（コピー）します\")\n",
        "scores1 = scores2\n",
        "\n",
        "print(\"scores1の先頭要素を90に書き換えます\")\n",
        "scores1[0] = 90\n",
        "\n",
        "print(f\"90を代入したscores1の先頭要素は{scores1[0]}\")\n",
        "print(f\"90を代入していないscores2の先頭要素は{scores2[0]}\")"
      ],
      "metadata": {
        "colab": {
          "base_uri": "https://localhost:8080/"
        },
        "id": "7tqumFh1yS7H",
        "outputId": "82a38f59-5aa5-41a0-b44b-cb0903ca2b15"
      },
      "execution_count": null,
      "outputs": [
        {
          "output_type": "stream",
          "name": "stdout",
          "text": [
            "scores1の先頭の要素は80\n",
            "scores2の先頭の要素は80\n",
            "変数scores2の中身を変数scores1に代入（コピー）します\n",
            "scores1の先頭要素を90に書き換えます\n",
            "90を代入したscores1の先頭要素は90\n",
            "90を代入していないscores2の先頭要素は90\n"
          ]
        }
      ]
    },
    {
      "cell_type": "code",
      "source": [
        "# 関数に変数の内容を書き換えられてしまう\n",
        "def add_suffix(names):\n",
        "    for i in range(len(names)):\n",
        "        names[i] = names[i] + \"さん\"\n",
        "    return names\n",
        "\n",
        "before_names = [\"松田\",\"浅木\",\"工藤\"]\n",
        "after_names = add_suffix(before_names)\n",
        "print(\"さん付け後：\" + after_names[0])\n",
        "print(\"さん付け前：\" + before_names[0])"
      ],
      "metadata": {
        "colab": {
          "base_uri": "https://localhost:8080/"
        },
        "id": "YlsZ7mps16mt",
        "outputId": "aa89cce6-d55e-4903-f4b1-f70644945c0a"
      },
      "execution_count": null,
      "outputs": [
        {
          "output_type": "stream",
          "name": "stdout",
          "text": [
            "さん付け後：松田さん\n",
            "さん付け前：松田さん\n"
          ]
        }
      ]
    },
    {
      "cell_type": "code",
      "source": [
        "# 防御的コピーを用いて悪影響を防ぐ\n",
        "def add_suffix(names):\n",
        "    for i in range(len(names)):\n",
        "        names[i] = names[i] + \"さん\"\n",
        "    return names\n",
        "\n",
        "before_names = [\"松田\",\"浅木\",\"工藤\"]\n",
        "copied_names = list() # リストを複製する（空のリスト作成）\n",
        "for n in before_names:  # リストを複製する（繰返し処理）\n",
        "    copied_names.append(n)    # リストを複製する（リストに値入れていく）\n",
        "after_names = add_suffix(copied_names)  # 複製したリストを関数に渡す\n",
        "print(\"さん付け後：\" + after_names[0])\n",
        "print(\"さん付け前：\" + before_names[0])"
      ],
      "metadata": {
        "colab": {
          "base_uri": "https://localhost:8080/"
        },
        "id": "m0jEHhvG4wBT",
        "outputId": "1b198604-1b04-410b-9cac-21d306bcd7ca"
      },
      "execution_count": null,
      "outputs": [
        {
          "output_type": "stream",
          "name": "stdout",
          "text": [
            "さん付け後：松田さん\n",
            "さん付け前：松田\n"
          ]
        }
      ]
    },
    {
      "cell_type": "code",
      "source": [
        "# 防御的コピーを用いて悪影響を防ぐ\n",
        "def add_suffix(names):\n",
        "    for i in range(len(names)):\n",
        "        names[i] = names[i] + \"さん\"\n",
        "    return names\n",
        "\n",
        "before_names = [\"松田\",\"浅木\",\"工藤\"]\n",
        "copied_names = list() # リストを複製する（空のリスト作成）\n",
        "for n in before_names:  # リストを複製する（繰返し処理）\n",
        "    copied_names.append(n)    # リストを複製する（リストに値入れていく）\n",
        "after_names = add_suffix(copied_names)  # 複製したリストを関数に渡す\n",
        "\n",
        "for a in range(len(after_names)):\n",
        "    print(\"さん付け後：\" + after_names[a])\n",
        "    print(\"さん付け前：\" + before_names[a])\n",
        "    print()"
      ],
      "metadata": {
        "colab": {
          "base_uri": "https://localhost:8080/"
        },
        "id": "Q-qkturI6PZJ",
        "outputId": "3e7b9665-3fae-4c9a-c1e6-e61fa1a7a3ba"
      },
      "execution_count": null,
      "outputs": [
        {
          "output_type": "stream",
          "name": "stdout",
          "text": [
            "さん付け後：松田さん\n",
            "さん付け前：松田\n",
            "\n",
            "さん付け後：浅木さん\n",
            "さん付け前：浅木\n",
            "\n",
            "さん付け後：工藤さん\n",
            "さん付け前：工藤\n",
            "\n"
          ]
        }
      ]
    },
    {
      "cell_type": "code",
      "source": [
        " # 文字列を渡しても悪影響が起きない\n",
        " def add_suffix(name):\n",
        "    name = name + \"さん\"\n",
        "    return name\n",
        "\n",
        "before_name = \"松田\"\n",
        "after_name = add_suffix(before_names)\n",
        "print(\"さん付け後：\" + after_name)\n",
        "print(\"さん付け前：\" + before_name)"
      ],
      "metadata": {
        "id": "zdxK1m_6Q_Nr",
        "outputId": "12388e70-4e6f-4602-f3bc-5d0b3f7ad26f",
        "colab": {
          "base_uri": "https://localhost:8080/"
        }
      },
      "execution_count": null,
      "outputs": [
        {
          "output_type": "stream",
          "name": "stdout",
          "text": [
            "さん付け後：松田さん\n",
            "さん付け前：松田\n"
          ]
        }
      ]
    },
    {
      "cell_type": "code",
      "source": [
        "# identity値の変化の比較\n",
        "print(\"identityの変化を比較\")\n",
        "\n",
        "names = list() # リストの場合\n",
        "print(f\"list(変更前)：{id(names)}\")\n",
        "names.append(\"松田\")\n",
        "print(f\"list(変更後)：{id(names)}\")\n",
        "\n",
        "name = \"松田\"   # 文字列の場合\n",
        "print(f\"str(変更前)：{id(name)}\")\n",
        "name = \"スーパー\" + name\n",
        "print(f\"str(変更後)：{id(name)}\")"
      ],
      "metadata": {
        "id": "vIf7HtHjiG0_",
        "outputId": "d4fbaf91-bea3-45b5-929d-03fb848a3bc9",
        "colab": {
          "base_uri": "https://localhost:8080/"
        }
      },
      "execution_count": 2,
      "outputs": [
        {
          "output_type": "stream",
          "name": "stdout",
          "text": [
            "identityの変化を比較\n",
            "list(変更前)：132260023169472\n",
            "list(変更後)：132260023169472\n",
            "str(変更前)：132260024930656\n",
            "str(変更後)：132260024928656\n"
          ]
        }
      ]
    },
    {
      "cell_type": "code",
      "source": [],
      "metadata": {
        "id": "lshBoSzIQxpo"
      },
      "execution_count": null,
      "outputs": []
    }
  ]
}