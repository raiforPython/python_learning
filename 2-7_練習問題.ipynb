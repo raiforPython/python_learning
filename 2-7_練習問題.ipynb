{
  "nbformat": 4,
  "nbformat_minor": 0,
  "metadata": {
    "colab": {
      "provenance": [],
      "authorship_tag": "ABX9TyPJjEbIKswbRr22IvdI9SGv",
      "include_colab_link": true
    },
    "kernelspec": {
      "name": "python3",
      "display_name": "Python 3"
    },
    "language_info": {
      "name": "python"
    }
  },
  "cells": [
    {
      "cell_type": "markdown",
      "metadata": {
        "id": "view-in-github",
        "colab_type": "text"
      },
      "source": [
        "<a href=\"https://colab.research.google.com/github/raiforPython/python_learning/blob/chapter_2/2-7_%E7%B7%B4%E7%BF%92%E5%95%8F%E9%A1%8C.ipynb\" target=\"_parent\"><img src=\"https://colab.research.google.com/assets/colab-badge.svg\" alt=\"Open In Colab\"/></a>"
      ]
    },
    {
      "cell_type": "code",
      "execution_count": 10,
      "metadata": {
        "colab": {
          "base_uri": "https://localhost:8080/",
          "height": 309
        },
        "id": "f35GhOeOIl3h",
        "outputId": "bb829af3-40c7-4f81-d679-26fcfe0f9fdc"
      },
      "outputs": [
        {
          "name": "stdout",
          "output_type": "stream",
          "text": [
            "国語の点数を入力してください：50\n",
            "算数の点数を入力してください：60\n",
            "理科の点数を入力してください：70\n",
            "社会の点数を入力してください：80\n",
            "英語の点数を入力してください：90\n"
          ]
        },
        {
          "output_type": "error",
          "ename": "TypeError",
          "evalue": "unsupported operand type(s) for +: 'int' and 'str'",
          "traceback": [
            "\u001b[0;31m---------------------------------------------------------------------------\u001b[0m",
            "\u001b[0;31mTypeError\u001b[0m                                 Traceback (most recent call last)",
            "\u001b[0;32m/tmp/ipython-input-1078276752.py\u001b[0m in \u001b[0;36m<cell line: 0>\u001b[0;34m()\u001b[0m\n\u001b[1;32m      6\u001b[0m     \u001b[0;34m\"English\"\u001b[0m\u001b[0;34m:\u001b[0m\u001b[0mint\u001b[0m\u001b[0;34m(\u001b[0m\u001b[0minput\u001b[0m\u001b[0;34m(\u001b[0m\u001b[0;34m\"英語の点数を入力してください：\"\u001b[0m\u001b[0;34m)\u001b[0m\u001b[0;34m)\u001b[0m\u001b[0;34m\u001b[0m\u001b[0;34m\u001b[0m\u001b[0m\n\u001b[1;32m      7\u001b[0m }\n\u001b[0;32m----> 8\u001b[0;31m \u001b[0mtotal\u001b[0m \u001b[0;34m=\u001b[0m \u001b[0msum\u001b[0m\u001b[0;34m(\u001b[0m\u001b[0mSubtitles\u001b[0m\u001b[0;34m)\u001b[0m\u001b[0;34m\u001b[0m\u001b[0;34m\u001b[0m\u001b[0m\n\u001b[0m\u001b[1;32m      9\u001b[0m \u001b[0mprint\u001b[0m\u001b[0;34m(\u001b[0m\u001b[0;34mf\"合計点はint{total}です。\"\u001b[0m\u001b[0;34m)\u001b[0m\u001b[0;34m\u001b[0m\u001b[0;34m\u001b[0m\u001b[0m\n\u001b[1;32m     10\u001b[0m \u001b[0mprint\u001b[0m\u001b[0;34m(\u001b[0m\u001b[0;34mf\"平均点はint(total/len(Subtitles))です。\"\u001b[0m\u001b[0;34m)\u001b[0m\u001b[0;34m\u001b[0m\u001b[0;34m\u001b[0m\u001b[0m\n",
            "\u001b[0;31mTypeError\u001b[0m: unsupported operand type(s) for +: 'int' and 'str'"
          ]
        }
      ],
      "source": [
        "Subtitles = {\n",
        "    \"Japanese\":int(input(\"国語の点数を入力してください：\")),\n",
        "    \"Math\":int(input(\"算数の点数を入力してください：\")),\n",
        "    \"Science\":int(input(\"理科の点数を入力してください：\")),\n",
        "    \"Society\":int(input(\"社会の点数を入力してください：\")),\n",
        "    \"English\":int(input(\"英語の点数を入力してください：\"))\n",
        "}\n",
        "total = sum(Subtitles)\n",
        "print(f\"合計点はint{total}です。\")\n",
        "print(f\"平均点はint(total/len(Subtitles))です。\")\n"
      ]
    },
    {
      "cell_type": "code",
      "source": [
        "Subtitles = [\n",
        "    int(input(\"国語の点数を入力してください：\")),\n",
        "    int(input(\"算数の点数を入力してください：\")),\n",
        "    int(input(\"理科の点数を入力してください：\")),\n",
        "    int(input(\"社会の点数を入力してください：\")),\n",
        "    int(input(\"英語の点数を入力してください：\"))\n",
        "]\n",
        "total = sum(Subtitles)\n",
        "ave = total/len(Subtitles)\n",
        "print(f\"合計点は{total}です。\")\n",
        "print(f\"平均点は{ave}です。\")\n",
        "# 回答例は先にscores[]で空のリストを作ってから、scores.appendで各教科の点数を入力させ、リストの要素として追加していた\n"
      ],
      "metadata": {
        "colab": {
          "base_uri": "https://localhost:8080/"
        },
        "id": "ZKD-PM9KMjEM",
        "outputId": "7f8d827c-5b94-4f49-833c-ca6ccb7215ec"
      },
      "execution_count": 12,
      "outputs": [
        {
          "output_type": "stream",
          "name": "stdout",
          "text": [
            "国語の点数を入力してください：50\n",
            "算数の点数を入力してください：60\n",
            "理科の点数を入力してください：70\n",
            "社会の点数を入力してください：80\n",
            "英語の点数を入力してください：90\n",
            "合計点は350です。\n",
            "平均点は70.0です。\n"
          ]
        }
      ]
    },
    {
      "cell_type": "code",
      "source": [
        "nagai_hobbies= {\"スノボ\",\"ドライブ\",\"映画\",\"温泉\",\"アニメ\"}\n",
        "ono_hobbies = {\"カフェ\",\"読書\",\"Netflix\",\"ドライブ\",\"邦ロック\"}\n",
        "input(\"心の準備ができたらEntereキーを押してください\")\n",
        "match_hobbies = (nagai_hobbies & ono_hobbies)\n",
        "match_len = len(match_hobbies)\n",
        "\n",
        "total_hobbies = (nagai_hobbies | ono_hobbies)\n",
        "total_len = len(total_hobbies)\n",
        "\n",
        "match = (match_len/total_len)*100\n",
        "print(f\"相性度は{match}％です\")"
      ],
      "metadata": {
        "colab": {
          "base_uri": "https://localhost:8080/"
        },
        "id": "7fcdSONoRSJr",
        "outputId": "96502ac0-1dcd-4f42-bcf0-9bff87bf5196"
      },
      "execution_count": 13,
      "outputs": [
        {
          "output_type": "stream",
          "name": "stdout",
          "text": [
            "心の準備ができたらEntereキーを押してください\n",
            "相性度は11.11111111111111％です\n"
          ]
        }
      ]
    },
    {
      "cell_type": "code",
      "source": [],
      "metadata": {
        "id": "iY69HFznYE2D"
      },
      "execution_count": null,
      "outputs": []
    }
  ]
}