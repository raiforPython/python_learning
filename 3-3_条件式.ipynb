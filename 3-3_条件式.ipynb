{
  "nbformat": 4,
  "nbformat_minor": 0,
  "metadata": {
    "colab": {
      "provenance": [],
      "authorship_tag": "ABX9TyMaAsutzGM1+GwsRHG0Ed6U",
      "include_colab_link": true
    },
    "kernelspec": {
      "name": "python3",
      "display_name": "Python 3"
    },
    "language_info": {
      "name": "python"
    }
  },
  "cells": [
    {
      "cell_type": "markdown",
      "metadata": {
        "id": "view-in-github",
        "colab_type": "text"
      },
      "source": [
        "<a href=\"https://colab.research.google.com/github/raiforPython/python_learning/blob/chapter_3/3-3_%E6%9D%A1%E4%BB%B6%E5%BC%8F.ipynb\" target=\"_parent\"><img src=\"https://colab.research.google.com/assets/colab-badge.svg\" alt=\"Open In Colab\"/></a>"
      ]
    },
    {
      "cell_type": "code",
      "execution_count": 2,
      "metadata": {
        "colab": {
          "base_uri": "https://localhost:8080/"
        },
        "id": "QJy4vA4F29Qa",
        "outputId": "fc247409-3ee1-4125-b27a-7c356dadac51"
      },
      "outputs": [
        {
          "output_type": "stream",
          "name": "stdout",
          "text": [
            "あなたの名前を教えてください>らいき\n",
            "らいきさん、こんにちは！\n",
            "あなたの好きな食べ物を教えてください>シーフードカレー\n",
            "素敵です！カレーは最高ですよね！\n"
          ]
        }
      ],
      "source": [
        "# in演算子\n",
        "name = input(\"あなたの名前を教えてください>\")\n",
        "print(f'{name}さん、こんにちは！')\n",
        "food = input(\"あなたの好きな食べ物を教えてください>\")\n",
        "if \"カレー\" in food:\n",
        "    print(\"素敵です！カレーは最高ですよね！\")\n",
        "else:\n",
        "    print(f\"私も{food}が好きです！\")"
      ]
    },
    {
      "cell_type": "code",
      "source": [
        "# in演算子\n",
        "name = input(\"あなたの名前を教えてください>\")\n",
        "print(f'{name}さん、こんにちは！')\n",
        "food = input(\"あなたの好きな食べ物を教えてください>\")\n",
        "if \"カレー\" in food:\n",
        "    print(\"素敵です！カレーは最高ですよね！\")\n",
        "else:\n",
        "    print(f\"私も{food}が好きです！\")"
      ],
      "metadata": {
        "colab": {
          "base_uri": "https://localhost:8080/"
        },
        "id": "8fRdnwbZ4R3D",
        "outputId": "cff7bed5-401d-4c12-c937-a7bdf15be87f"
      },
      "execution_count": 3,
      "outputs": [
        {
          "output_type": "stream",
          "name": "stdout",
          "text": [
            "あなたの名前を教えてください>らいき\n",
            "らいきさん、こんにちは！\n",
            "あなたの好きな食べ物を教えてください>チキンかれー\n",
            "私もチキンかれーが好きです！\n"
          ]
        }
      ]
    },
    {
      "cell_type": "code",
      "source": [
        "# 100点があるかどうかを調べる\n",
        "scores = [80,50,40,100,60]\n",
        "if 100 in scores:\n",
        "    print(\"100点満点の試験があったんですね。おめでとう！\")\n",
        "else:\n",
        "    print(\"次はどれか１つでも100点万円をとろう\")"
      ],
      "metadata": {
        "colab": {
          "base_uri": "https://localhost:8080/"
        },
        "id": "KDPmqSEu4mSf",
        "outputId": "c6f3566c-aa81-48bb-ec1d-a9518f9474ff"
      },
      "execution_count": 4,
      "outputs": [
        {
          "output_type": "stream",
          "name": "stdout",
          "text": [
            "100点満点の試験があったんですね。おめでとう！\n"
          ]
        }
      ]
    },
    {
      "cell_type": "code",
      "source": [
        "# ディクショナリのキーをチェックする\n",
        "scores = {\"network\":60,\"database\":50,\"security\":80}\n",
        "key = input(\"追加する科目を入力してください>\")\n",
        "if key in scores:\n",
        "    print(\"既に登録済です\")\n",
        "else:\n",
        "    data = int(input(\"得点を入力してください>\"))\n",
        "    scores[key] = data\n",
        "print(scores)"
      ],
      "metadata": {
        "colab": {
          "base_uri": "https://localhost:8080/"
        },
        "id": "Evb4U99r7HZ7",
        "outputId": "d8aa8063-63b9-4d9c-e01a-ec9579c19925"
      },
      "execution_count": 5,
      "outputs": [
        {
          "output_type": "stream",
          "name": "stdout",
          "text": [
            "追加する科目を入力してください>network\n",
            "既に登録済です\n",
            "{'network': 60, 'database': 50, 'security': 80}\n"
          ]
        }
      ]
    },
    {
      "cell_type": "code",
      "source": [
        "# ディクショナリのキーをチェックする\n",
        "scores = {\"network\":60,\"database\":50,\"security\":80}\n",
        "key = input(\"追加する科目を入力してください>\")\n",
        "if key in scores:\n",
        "    print(\"既に登録済です\")\n",
        "else:\n",
        "    data = int(input(\"得点を入力してください>\"))\n",
        "    scores[key] = data\n",
        "print(scores)"
      ],
      "metadata": {
        "colab": {
          "base_uri": "https://localhost:8080/"
        },
        "id": "dpZ8Apo8943q",
        "outputId": "e18436aa-d3c0-495e-e8d8-a6af23d88cfb"
      },
      "execution_count": 6,
      "outputs": [
        {
          "output_type": "stream",
          "name": "stdout",
          "text": [
            "追加する科目を入力してください>programing\n",
            "得点を入力してください>90\n",
            "{'network': 60, 'database': 50, 'security': 80, 'programing': 90}\n"
          ]
        }
      ]
    },
    {
      "cell_type": "code",
      "source": [
        "# 条件式の評価結果を確認する\n",
        "score = int(input(\"試験の点数を入力>\"))\n",
        "print(score>=60)"
      ],
      "metadata": {
        "colab": {
          "base_uri": "https://localhost:8080/"
        },
        "id": "W1k3obNy99hQ",
        "outputId": "43e10346-fd9f-4d40-af1c-3259a0bab6f0"
      },
      "execution_count": 8,
      "outputs": [
        {
          "output_type": "stream",
          "name": "stdout",
          "text": [
            "試験の点数を入力>80\n",
            "True\n"
          ]
        }
      ]
    },
    {
      "cell_type": "code",
      "source": [],
      "metadata": {
        "id": "Dkyqha3flyo8"
      },
      "execution_count": null,
      "outputs": []
    }
  ]
}